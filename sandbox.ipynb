{
 "cells": [
  {
   "cell_type": "code",
   "execution_count": 354,
   "metadata": {
    "collapsed": true
   },
   "outputs": [],
   "source": [
    "import pandas as pd\n",
    "import numpy as np\n",
    "import random\n",
    "import seaborn as sns; sns.set()\n",
    "\n",
    "from ipywidgets import widgets\n",
    "from IPython.display import display\n",
    "\n",
    "%matplotlib inline  "
   ]
  },
  {
   "cell_type": "code",
   "execution_count": 187,
   "metadata": {
    "collapsed": false
   },
   "outputs": [],
   "source": [
    "data =  pd.read_csv(\"PMdata.csv\")\n",
    "\n",
    "data[\"pm\"] = data[\"pm\"].replace(\"<\", \"0\")\n",
    "data[\"pm\"] = data[\"pm\"].replace(\" \", \"0\")\n",
    "# data = data[data.pm.notnull()]\n",
    "data[\"pm\"] = data[\"pm\"].astype(float)\n",
    "\n",
    "data[\"datetime\"] = pd.to_datetime(data.datetime, format='%m/%d/%y %H:%M')\n",
    "\n",
    "data.set_index('datetime', inplace=True)\n",
    "\n",
    "data = data.ix[\"2014\"]\n",
    "data = data[~pd.isnull(data).any(axis=1)]\n",
    "\n",
    "pm = data.pm.tolist()"
   ]
  },
  {
   "cell_type": "code",
   "execution_count": 38,
   "metadata": {
    "collapsed": true
   },
   "outputs": [],
   "source": [
    "data.reset_index(inplace=True)"
   ]
  },
  {
   "cell_type": "code",
   "execution_count": 98,
   "metadata": {
    "collapsed": true
   },
   "outputs": [],
   "source": [
    "pm = data.pm.tolist()"
   ]
  },
  {
   "cell_type": "code",
   "execution_count": 80,
   "metadata": {
    "collapsed": false
   },
   "outputs": [
    {
     "data": {
      "text/plain": [
       "5.4"
      ]
     },
     "execution_count": 80,
     "metadata": {},
     "output_type": "execute_result"
    }
   ],
   "source": [
    "pm[8759]"
   ]
  },
  {
   "cell_type": "code",
   "execution_count": 70,
   "metadata": {
    "collapsed": false
   },
   "outputs": [
    {
     "data": {
      "text/plain": [
       "2576"
      ]
     },
     "execution_count": 70,
     "metadata": {},
     "output_type": "execute_result"
    }
   ],
   "source": [
    "random.randint(0,len(pm))"
   ]
  },
  {
   "cell_type": "code",
   "execution_count": 75,
   "metadata": {
    "collapsed": false
   },
   "outputs": [
    {
     "data": {
      "text/plain": [
       "3.2"
      ]
     },
     "execution_count": 75,
     "metadata": {},
     "output_type": "execute_result"
    }
   ],
   "source": [
    "pm.pop(2576)"
   ]
  },
  {
   "cell_type": "code",
   "execution_count": 189,
   "metadata": {
    "collapsed": false
   },
   "outputs": [
    {
     "data": {
      "text/plain": [
       "6.2765828571428566"
      ]
     },
     "execution_count": 189,
     "metadata": {},
     "output_type": "execute_result"
    }
   ],
   "source": [
    "np.mean(pm)"
   ]
  },
  {
   "cell_type": "code",
   "execution_count": 305,
   "metadata": {
    "collapsed": false
   },
   "outputs": [
    {
     "data": {
      "text/plain": [
       "8750"
      ]
     },
     "execution_count": 305,
     "metadata": {},
     "output_type": "execute_result"
    }
   ],
   "source": [
    "len(pm)"
   ]
  },
  {
   "cell_type": "code",
   "execution_count": 317,
   "metadata": {
    "collapsed": false
   },
   "outputs": [
    {
     "data": {
      "text/plain": [
       "[0, 1, 2, 3, 4, 5, 6, 7, 8, 9, 10, 11, 12, 13, 14]"
      ]
     },
     "execution_count": 317,
     "metadata": {},
     "output_type": "execute_result"
    }
   ],
   "source": [
    "[x+1 for x in range(15)]"
   ]
  },
  {
   "cell_type": "code",
   "execution_count": 302,
   "metadata": {
    "collapsed": false
   },
   "outputs": [],
   "source": [
    "def rand(data, lengths, visits):\n",
    "    mean = np.mean(data)\n",
    "    results = []\n",
    "    for v in visits:\n",
    "        length_results = []\n",
    "        for l in lengths:\n",
    "            d = data.copy()\n",
    "            vloop = v\n",
    "            s = []\n",
    "            while vloop > 0:\n",
    "                r = random.randint(0,len(d)-1)\n",
    "                while len(d) < r + l:\n",
    "                    r = random.randint(0,len(d)-1)\n",
    "                for i in range(l):\n",
    "                    s.append(d.pop(r))\n",
    "                vloop -= l\n",
    "            length_results.append(abs(np.mean(s) - mean))\n",
    "        results.append(length_results)\n",
    "    return results\n",
    "    "
   ]
  },
  {
   "cell_type": "code",
   "execution_count": 429,
   "metadata": {
    "collapsed": false
   },
   "outputs": [],
   "source": [
    "randTest = rand(pm, [x+1 for x in range(15)], [10, 20, 30, 40, 50, 60, 70, 80, 90, 100, 150, 200, 250, 300, 500])\n",
    "# randTest, s = rand(pm, [1], [1000])\n",
    "# df = pd.DataFrame(s)\n",
    "# df.hist()"
   ]
  },
  {
   "cell_type": "code",
   "execution_count": 430,
   "metadata": {
    "collapsed": false
   },
   "outputs": [
    {
     "data": {
      "image/png": "[encoded data removed]",
      "text/plain": [
       "<matplotlib.figure.Figure at 0x115024198>"
      ]
     },
     "metadata": {},
     "output_type": "display_data"
    }
   ],
   "source": [
    "# sns.color_palette(\"Paired\", as_cmap=True)\n",
    "# cmap = sns.diverging_palette(240, 10, n=9, as_cmap=True)\n",
    "# sns.choose_diverging_palette()\n",
    "# cmap = sns.color_palette(240, 10, n=9, cmap=True)\n",
    "ax = sns.heatmap(randTest, cmap=\"Accent\")"
   ]
  },
  {
   "cell_type": "code",
   "execution_count": 48,
   "metadata": {
    "collapsed": false
   },
   "outputs": [
    {
     "data": {
      "text/html": [
       "<div>\n",
       "<table border=\"1\" class=\"dataframe\">\n",
       "  <thead>\n",
       "    <tr style=\"text-align: right;\">\n",
       "      <th></th>\n",
       "      <th>datetime</th>\n",
       "      <th>pm</th>\n",
       "    </tr>\n",
       "  </thead>\n",
       "  <tbody>\n",
       "    <tr>\n",
       "      <th>1</th>\n",
       "      <td>2014-01-01 01:00:00</td>\n",
       "      <td>29.0</td>\n",
       "    </tr>\n",
       "    <tr>\n",
       "      <th>2</th>\n",
       "      <td>2014-01-01 02:00:00</td>\n",
       "      <td>21.8</td>\n",
       "    </tr>\n",
       "    <tr>\n",
       "      <th>3</th>\n",
       "      <td>2014-01-01 03:00:00</td>\n",
       "      <td>13.3</td>\n",
       "    </tr>\n",
       "    <tr>\n",
       "      <th>4</th>\n",
       "      <td>2014-01-01 04:00:00</td>\n",
       "      <td>15.2</td>\n",
       "    </tr>\n",
       "    <tr>\n",
       "      <th>5</th>\n",
       "      <td>2014-01-01 05:00:00</td>\n",
       "      <td>12.9</td>\n",
       "    </tr>\n",
       "    <tr>\n",
       "      <th>6</th>\n",
       "      <td>2014-01-01 06:00:00</td>\n",
       "      <td>8.2</td>\n",
       "    </tr>\n",
       "    <tr>\n",
       "      <th>7</th>\n",
       "      <td>2014-01-01 07:00:00</td>\n",
       "      <td>7.9</td>\n",
       "    </tr>\n",
       "    <tr>\n",
       "      <th>8</th>\n",
       "      <td>2014-01-01 08:00:00</td>\n",
       "      <td>8.5</td>\n",
       "    </tr>\n",
       "    <tr>\n",
       "      <th>9</th>\n",
       "      <td>2014-01-01 09:00:00</td>\n",
       "      <td>8.9</td>\n",
       "    </tr>\n",
       "    <tr>\n",
       "      <th>10</th>\n",
       "      <td>2014-01-01 10:00:00</td>\n",
       "      <td>7.7</td>\n",
       "    </tr>\n",
       "    <tr>\n",
       "      <th>11</th>\n",
       "      <td>2014-01-01 11:00:00</td>\n",
       "      <td>10.4</td>\n",
       "    </tr>\n",
       "    <tr>\n",
       "      <th>12</th>\n",
       "      <td>2014-01-01 12:00:00</td>\n",
       "      <td>10.5</td>\n",
       "    </tr>\n",
       "    <tr>\n",
       "      <th>13</th>\n",
       "      <td>2014-01-01 13:00:00</td>\n",
       "      <td>11.2</td>\n",
       "    </tr>\n",
       "    <tr>\n",
       "      <th>14</th>\n",
       "      <td>2014-01-01 14:00:00</td>\n",
       "      <td>14.7</td>\n",
       "    </tr>\n",
       "    <tr>\n",
       "      <th>15</th>\n",
       "      <td>2014-01-01 15:00:00</td>\n",
       "      <td>12.0</td>\n",
       "    </tr>\n",
       "    <tr>\n",
       "      <th>16</th>\n",
       "      <td>2014-01-01 16:00:00</td>\n",
       "      <td>13.9</td>\n",
       "    </tr>\n",
       "    <tr>\n",
       "      <th>17</th>\n",
       "      <td>2014-01-01 17:00:00</td>\n",
       "      <td>13.4</td>\n",
       "    </tr>\n",
       "    <tr>\n",
       "      <th>18</th>\n",
       "      <td>2014-01-01 18:00:00</td>\n",
       "      <td>16.0</td>\n",
       "    </tr>\n",
       "    <tr>\n",
       "      <th>19</th>\n",
       "      <td>2014-01-01 19:00:00</td>\n",
       "      <td>19.7</td>\n",
       "    </tr>\n",
       "    <tr>\n",
       "      <th>20</th>\n",
       "      <td>2014-01-01 20:00:00</td>\n",
       "      <td>23.9</td>\n",
       "    </tr>\n",
       "    <tr>\n",
       "      <th>21</th>\n",
       "      <td>2014-01-01 21:00:00</td>\n",
       "      <td>20.3</td>\n",
       "    </tr>\n",
       "    <tr>\n",
       "      <th>22</th>\n",
       "      <td>2014-01-01 22:00:00</td>\n",
       "      <td>21.7</td>\n",
       "    </tr>\n",
       "    <tr>\n",
       "      <th>23</th>\n",
       "      <td>2014-01-01 23:00:00</td>\n",
       "      <td>33.2</td>\n",
       "    </tr>\n",
       "    <tr>\n",
       "      <th>24</th>\n",
       "      <td>2014-01-02 00:00:00</td>\n",
       "      <td>15.5</td>\n",
       "    </tr>\n",
       "    <tr>\n",
       "      <th>25</th>\n",
       "      <td>2014-01-02 01:00:00</td>\n",
       "      <td>12.6</td>\n",
       "    </tr>\n",
       "    <tr>\n",
       "      <th>26</th>\n",
       "      <td>2014-01-02 02:00:00</td>\n",
       "      <td>12.0</td>\n",
       "    </tr>\n",
       "    <tr>\n",
       "      <th>27</th>\n",
       "      <td>2014-01-02 03:00:00</td>\n",
       "      <td>11.0</td>\n",
       "    </tr>\n",
       "    <tr>\n",
       "      <th>28</th>\n",
       "      <td>2014-01-02 04:00:00</td>\n",
       "      <td>9.8</td>\n",
       "    </tr>\n",
       "    <tr>\n",
       "      <th>29</th>\n",
       "      <td>2014-01-02 05:00:00</td>\n",
       "      <td>8.3</td>\n",
       "    </tr>\n",
       "    <tr>\n",
       "      <th>30</th>\n",
       "      <td>2014-01-02 06:00:00</td>\n",
       "      <td>8.2</td>\n",
       "    </tr>\n",
       "    <tr>\n",
       "      <th>...</th>\n",
       "      <td>...</td>\n",
       "      <td>...</td>\n",
       "    </tr>\n",
       "    <tr>\n",
       "      <th>8730</th>\n",
       "      <td>2014-12-30 18:00:00</td>\n",
       "      <td>3.6</td>\n",
       "    </tr>\n",
       "    <tr>\n",
       "      <th>8731</th>\n",
       "      <td>2014-12-30 19:00:00</td>\n",
       "      <td>3.8</td>\n",
       "    </tr>\n",
       "    <tr>\n",
       "      <th>8732</th>\n",
       "      <td>2014-12-30 20:00:00</td>\n",
       "      <td>4.4</td>\n",
       "    </tr>\n",
       "    <tr>\n",
       "      <th>8733</th>\n",
       "      <td>2014-12-30 21:00:00</td>\n",
       "      <td>3.9</td>\n",
       "    </tr>\n",
       "    <tr>\n",
       "      <th>8734</th>\n",
       "      <td>2014-12-30 22:00:00</td>\n",
       "      <td>3.8</td>\n",
       "    </tr>\n",
       "    <tr>\n",
       "      <th>8735</th>\n",
       "      <td>2014-12-30 23:00:00</td>\n",
       "      <td>4.0</td>\n",
       "    </tr>\n",
       "    <tr>\n",
       "      <th>8736</th>\n",
       "      <td>2014-12-31 00:00:00</td>\n",
       "      <td>4.2</td>\n",
       "    </tr>\n",
       "    <tr>\n",
       "      <th>8737</th>\n",
       "      <td>2014-12-31 01:00:00</td>\n",
       "      <td>3.5</td>\n",
       "    </tr>\n",
       "    <tr>\n",
       "      <th>8738</th>\n",
       "      <td>2014-12-31 02:00:00</td>\n",
       "      <td>3.2</td>\n",
       "    </tr>\n",
       "    <tr>\n",
       "      <th>8739</th>\n",
       "      <td>2014-12-31 03:00:00</td>\n",
       "      <td>3.3</td>\n",
       "    </tr>\n",
       "    <tr>\n",
       "      <th>8740</th>\n",
       "      <td>2014-12-31 04:00:00</td>\n",
       "      <td>3.2</td>\n",
       "    </tr>\n",
       "    <tr>\n",
       "      <th>8741</th>\n",
       "      <td>2014-12-31 05:00:00</td>\n",
       "      <td>3.1</td>\n",
       "    </tr>\n",
       "    <tr>\n",
       "      <th>8742</th>\n",
       "      <td>2014-12-31 06:00:00</td>\n",
       "      <td>3.6</td>\n",
       "    </tr>\n",
       "    <tr>\n",
       "      <th>8743</th>\n",
       "      <td>2014-12-31 07:00:00</td>\n",
       "      <td>3.3</td>\n",
       "    </tr>\n",
       "    <tr>\n",
       "      <th>8744</th>\n",
       "      <td>2014-12-31 08:00:00</td>\n",
       "      <td>3.3</td>\n",
       "    </tr>\n",
       "    <tr>\n",
       "      <th>8745</th>\n",
       "      <td>2014-12-31 09:00:00</td>\n",
       "      <td>7.3</td>\n",
       "    </tr>\n",
       "    <tr>\n",
       "      <th>8746</th>\n",
       "      <td>2014-12-31 10:00:00</td>\n",
       "      <td>4.0</td>\n",
       "    </tr>\n",
       "    <tr>\n",
       "      <th>8747</th>\n",
       "      <td>2014-12-31 11:00:00</td>\n",
       "      <td>3.6</td>\n",
       "    </tr>\n",
       "    <tr>\n",
       "      <th>8748</th>\n",
       "      <td>2014-12-31 12:00:00</td>\n",
       "      <td>3.6</td>\n",
       "    </tr>\n",
       "    <tr>\n",
       "      <th>8749</th>\n",
       "      <td>2014-12-31 13:00:00</td>\n",
       "      <td>3.5</td>\n",
       "    </tr>\n",
       "    <tr>\n",
       "      <th>8750</th>\n",
       "      <td>2014-12-31 14:00:00</td>\n",
       "      <td>3.6</td>\n",
       "    </tr>\n",
       "    <tr>\n",
       "      <th>8751</th>\n",
       "      <td>2014-12-31 15:00:00</td>\n",
       "      <td>3.4</td>\n",
       "    </tr>\n",
       "    <tr>\n",
       "      <th>8752</th>\n",
       "      <td>2014-12-31 16:00:00</td>\n",
       "      <td>3.4</td>\n",
       "    </tr>\n",
       "    <tr>\n",
       "      <th>8753</th>\n",
       "      <td>2014-12-31 17:00:00</td>\n",
       "      <td>3.9</td>\n",
       "    </tr>\n",
       "    <tr>\n",
       "      <th>8754</th>\n",
       "      <td>2014-12-31 18:00:00</td>\n",
       "      <td>4.4</td>\n",
       "    </tr>\n",
       "    <tr>\n",
       "      <th>8755</th>\n",
       "      <td>2014-12-31 19:00:00</td>\n",
       "      <td>4.9</td>\n",
       "    </tr>\n",
       "    <tr>\n",
       "      <th>8756</th>\n",
       "      <td>2014-12-31 20:00:00</td>\n",
       "      <td>5.1</td>\n",
       "    </tr>\n",
       "    <tr>\n",
       "      <th>8757</th>\n",
       "      <td>2014-12-31 21:00:00</td>\n",
       "      <td>5.1</td>\n",
       "    </tr>\n",
       "    <tr>\n",
       "      <th>8758</th>\n",
       "      <td>2014-12-31 22:00:00</td>\n",
       "      <td>5.4</td>\n",
       "    </tr>\n",
       "    <tr>\n",
       "      <th>8759</th>\n",
       "      <td>2014-12-31 23:00:00</td>\n",
       "      <td>5.4</td>\n",
       "    </tr>\n",
       "  </tbody>\n",
       "</table>\n",
       "<p>8759 rows × 2 columns</p>\n",
       "</div>"
      ],
      "text/plain": [
       "                datetime    pm\n",
       "1    2014-01-01 01:00:00  29.0\n",
       "2    2014-01-01 02:00:00  21.8\n",
       "3    2014-01-01 03:00:00  13.3\n",
       "4    2014-01-01 04:00:00  15.2\n",
       "5    2014-01-01 05:00:00  12.9\n",
       "6    2014-01-01 06:00:00   8.2\n",
       "7    2014-01-01 07:00:00   7.9\n",
       "8    2014-01-01 08:00:00   8.5\n",
       "9    2014-01-01 09:00:00   8.9\n",
       "10   2014-01-01 10:00:00   7.7\n",
       "11   2014-01-01 11:00:00  10.4\n",
       "12   2014-01-01 12:00:00  10.5\n",
       "13   2014-01-01 13:00:00  11.2\n",
       "14   2014-01-01 14:00:00  14.7\n",
       "15   2014-01-01 15:00:00  12.0\n",
       "16   2014-01-01 16:00:00  13.9\n",
       "17   2014-01-01 17:00:00  13.4\n",
       "18   2014-01-01 18:00:00  16.0\n",
       "19   2014-01-01 19:00:00  19.7\n",
       "20   2014-01-01 20:00:00  23.9\n",
       "21   2014-01-01 21:00:00  20.3\n",
       "22   2014-01-01 22:00:00  21.7\n",
       "23   2014-01-01 23:00:00  33.2\n",
       "24   2014-01-02 00:00:00  15.5\n",
       "25   2014-01-02 01:00:00  12.6\n",
       "26   2014-01-02 02:00:00  12.0\n",
       "27   2014-01-02 03:00:00  11.0\n",
       "28   2014-01-02 04:00:00   9.8\n",
       "29   2014-01-02 05:00:00   8.3\n",
       "30   2014-01-02 06:00:00   8.2\n",
       "...                  ...   ...\n",
       "8730 2014-12-30 18:00:00   3.6\n",
       "8731 2014-12-30 19:00:00   3.8\n",
       "8732 2014-12-30 20:00:00   4.4\n",
       "8733 2014-12-30 21:00:00   3.9\n",
       "8734 2014-12-30 22:00:00   3.8\n",
       "8735 2014-12-30 23:00:00   4.0\n",
       "8736 2014-12-31 00:00:00   4.2\n",
       "8737 2014-12-31 01:00:00   3.5\n",
       "8738 2014-12-31 02:00:00   3.2\n",
       "8739 2014-12-31 03:00:00   3.3\n",
       "8740 2014-12-31 04:00:00   3.2\n",
       "8741 2014-12-31 05:00:00   3.1\n",
       "8742 2014-12-31 06:00:00   3.6\n",
       "8743 2014-12-31 07:00:00   3.3\n",
       "8744 2014-12-31 08:00:00   3.3\n",
       "8745 2014-12-31 09:00:00   7.3\n",
       "8746 2014-12-31 10:00:00   4.0\n",
       "8747 2014-12-31 11:00:00   3.6\n",
       "8748 2014-12-31 12:00:00   3.6\n",
       "8749 2014-12-31 13:00:00   3.5\n",
       "8750 2014-12-31 14:00:00   3.6\n",
       "8751 2014-12-31 15:00:00   3.4\n",
       "8752 2014-12-31 16:00:00   3.4\n",
       "8753 2014-12-31 17:00:00   3.9\n",
       "8754 2014-12-31 18:00:00   4.4\n",
       "8755 2014-12-31 19:00:00   4.9\n",
       "8756 2014-12-31 20:00:00   5.1\n",
       "8757 2014-12-31 21:00:00   5.1\n",
       "8758 2014-12-31 22:00:00   5.4\n",
       "8759 2014-12-31 23:00:00   5.4\n",
       "\n",
       "[8759 rows x 2 columns]"
      ]
     },
     "execution_count": 48,
     "metadata": {},
     "output_type": "execute_result"
    }
   ],
   "source": [
    "data.drop([0])"
   ]
  },
  {
   "cell_type": "code",
   "execution_count": null,
   "metadata": {
    "collapsed": true
   },
   "outputs": [],
   "source": []
  },
  {
   "cell_type": "code",
   "execution_count": null,
   "metadata": {
    "collapsed": true
   },
   "outputs": [],
   "source": []
  },
  {
   "cell_type": "code",
   "execution_count": null,
   "metadata": {
    "collapsed": true
   },
   "outputs": [],
   "source": []
  },
  {
   "cell_type": "code",
   "execution_count": 161,
   "metadata": {
    "collapsed": false
   },
   "outputs": [],
   "source": [
    "annualAvg = np.mean(data.pm)"
   ]
  },
  {
   "cell_type": "code",
   "execution_count": 162,
   "metadata": {
    "collapsed": false
   },
   "outputs": [
    {
     "data": {
      "text/plain": [
       "6.276582857142844"
      ]
     },
     "execution_count": 162,
     "metadata": {},
     "output_type": "execute_result"
    }
   ],
   "source": [
    "annualAvg"
   ]
  },
  {
   "cell_type": "code",
   "execution_count": 9,
   "metadata": {
    "collapsed": false
   },
   "outputs": [
    {
     "data": {
      "text/plain": [
       "8760"
      ]
     },
     "execution_count": 9,
     "metadata": {},
     "output_type": "execute_result"
    }
   ],
   "source": [
    "len(data.pm)"
   ]
  },
  {
   "cell_type": "code",
   "execution_count": 245,
   "metadata": {
    "collapsed": true
   },
   "outputs": [],
   "source": [
    "sampleAvg = np.mean(data.take(np.random.permutation(len(data))[:1000]).pm)"
   ]
  },
  {
   "cell_type": "code",
   "execution_count": 246,
   "metadata": {
    "collapsed": false
   },
   "outputs": [
    {
     "data": {
      "text/plain": [
       "6.113299999999991"
      ]
     },
     "execution_count": 246,
     "metadata": {},
     "output_type": "execute_result"
    }
   ],
   "source": [
    "sampleAvg"
   ]
  },
  {
   "cell_type": "code",
   "execution_count": 15,
   "metadata": {
    "collapsed": false
   },
   "outputs": [],
   "source": [
    "sampleAvg = np.mean(data.take(np.random.permutation(len(data))[:5]).pm)\n",
    "sampleAvgs = []\n",
    "for i in range(1000):\n",
    "    sampleAvgs.append(np.mean(data.take(np.random.permutation(len(data))[:5]).pm))"
   ]
  },
  {
   "cell_type": "code",
   "execution_count": 13,
   "metadata": {
    "collapsed": false
   },
   "outputs": [
    {
     "data": {
      "text/plain": [
       "datetime\n",
       "2014-10-27 09:00:00    10.5\n",
       "2014-01-25 17:00:00     5.2\n",
       "2014-12-19 13:00:00     1.7\n",
       "2014-07-24 12:00:00     3.3\n",
       "2014-03-27 07:00:00     1.5\n",
       "Name: pm, dtype: float64"
      ]
     },
     "execution_count": 13,
     "metadata": {},
     "output_type": "execute_result"
    }
   ],
   "source": [
    "data.take(np.random.permutation(len(data))[:5]).pm"
   ]
  },
  {
   "cell_type": "code",
   "execution_count": 14,
   "metadata": {
    "collapsed": false
   },
   "outputs": [
    {
     "data": {
      "text/plain": [
       "datetime\n",
       "2014-01-01 06:00:00     8.2\n",
       "2014-02-08 04:00:00     3.2\n",
       "2014-07-29 08:00:00     4.2\n",
       "2014-08-23 08:00:00    10.9\n",
       "2014-04-18 16:00:00     3.1\n",
       "Name: pm, dtype: float64"
      ]
     },
     "execution_count": 14,
     "metadata": {},
     "output_type": "execute_result"
    }
   ],
   "source": [
    "data.sample(n=5).pm"
   ]
  },
  {
   "cell_type": "code",
   "execution_count": 16,
   "metadata": {
    "collapsed": false
   },
   "outputs": [],
   "source": [
    "sampleAvgs2 = []\n",
    "for i in range(1000):\n",
    "    sampleAvgs2.append(np.mean(data.sample(n=5).pm))"
   ]
  },
  {
   "cell_type": "code",
   "execution_count": null,
   "metadata": {
    "collapsed": true
   },
   "outputs": [],
   "source": []
  },
  {
   "cell_type": "code",
   "execution_count": 17,
   "metadata": {
    "collapsed": false
   },
   "outputs": [
    {
     "data": {
      "text/plain": [
       "array([[<matplotlib.axes._subplots.AxesSubplot object at 0x10db51470>]], dtype=object)"
      ]
     },
     "execution_count": 17,
     "metadata": {},
     "output_type": "execute_result"
    },
    {
     "data": {
      "image/png": "[encoded data removed]",
      "text/plain": [
       "<matplotlib.figure.Figure at 0x10db2feb8>"
      ]
     },
     "metadata": {},
     "output_type": "display_data"
    }
   ],
   "source": [
    "df2 = pd.DataFrame(sampleAvgs2)\n",
    "df2.hist()"
   ]
  },
  {
   "cell_type": "code",
   "execution_count": 18,
   "metadata": {
    "collapsed": false
   },
   "outputs": [
    {
     "data": {
      "text/plain": [
       "array([[<matplotlib.axes._subplots.AxesSubplot object at 0x10d2e6128>]], dtype=object)"
      ]
     },
     "execution_count": 18,
     "metadata": {},
     "output_type": "execute_result"
    },
    {
     "data": {
      "image/png": "[encoded data removed]",
      "text/plain": [
       "<matplotlib.figure.Figure at 0x10dada9e8>"
      ]
     },
     "metadata": {},
     "output_type": "display_data"
    }
   ],
   "source": [
    "df = pd.DataFrame(sampleAvgs)\n",
    "df.hist()"
   ]
  },
  {
   "cell_type": "code",
   "execution_count": 3,
   "metadata": {
    "collapsed": false
   },
   "outputs": [],
   "source": [
    "uniform_data = np.random.rand(10, 12)"
   ]
  },
  {
   "cell_type": "code",
   "execution_count": 4,
   "metadata": {
    "collapsed": false
   },
   "outputs": [
    {
     "data": {
      "text/plain": [
       "array([[ 0.97802044,  0.50138008,  0.12037897,  0.02188043,  0.85461811,\n",
       "         0.8217014 ,  0.13127829,  0.16098051,  0.38067068,  0.69237515,\n",
       "         0.81130553,  0.73751703],\n",
       "       [ 0.82066353,  0.1616369 ,  0.0882263 ,  0.52551445,  0.76683675,\n",
       "         0.78055372,  0.3109151 ,  0.90991658,  0.74870347,  0.70478773,\n",
       "         0.00833904,  0.23969491],\n",
       "       [ 0.92101222,  0.12298682,  0.41809457,  0.78242087,  0.77436766,\n",
       "         0.46443669,  0.16543257,  0.3019539 ,  0.49202781,  0.03155179,\n",
       "         0.18614536,  0.90085184],\n",
       "       [ 0.50421279,  0.78808387,  0.30945059,  0.66593542,  0.26140491,\n",
       "         0.64641729,  0.93061068,  0.18703038,  0.77889126,  0.38466413,\n",
       "         0.53435187,  0.39894999],\n",
       "       [ 0.53275317,  0.52586636,  0.72418005,  0.02611774,  0.55613439,\n",
       "         0.47662244,  0.33559134,  0.0167529 ,  0.26449919,  0.44152902,\n",
       "         0.93267666,  0.70699767],\n",
       "       [ 0.90854977,  0.26089401,  0.74878386,  0.72763483,  0.66120846,\n",
       "         0.30294625,  0.55594599,  0.96255676,  0.65193805,  0.83244803,\n",
       "         0.60889984,  0.34657991],\n",
       "       [ 0.40866326,  0.14053442,  0.66350748,  0.21162458,  0.11632671,\n",
       "         0.65595254,  0.76046312,  0.76878681,  0.33925221,  0.34456696,\n",
       "         0.67990248,  0.78774347],\n",
       "       [ 0.46759987,  0.81132337,  0.11545974,  0.5782572 ,  0.02140774,\n",
       "         0.28984809,  0.47852127,  0.03982555,  0.82773472,  0.32874139,\n",
       "         0.00806226,  0.20968312],\n",
       "       [ 0.93407597,  0.59276934,  0.28619823,  0.95629123,  0.82041414,\n",
       "         0.59615172,  0.65401093,  0.57309575,  0.42654047,  0.51760476,\n",
       "         0.63727745,  0.45057405],\n",
       "       [ 0.26017807,  0.29524962,  0.42804967,  0.78804635,  0.75601441,\n",
       "         0.08487268,  0.55539619,  0.88385399,  0.59517242,  0.10777578,\n",
       "         0.08665526,  0.43665495]])"
      ]
     },
     "execution_count": 4,
     "metadata": {},
     "output_type": "execute_result"
    }
   ],
   "source": [
    "uniform_data"
   ]
  },
  {
   "cell_type": "code",
   "execution_count": null,
   "metadata": {
    "collapsed": true
   },
   "outputs": [],
   "source": []
  }
 ],
 "metadata": {
  "kernelspec": {
   "display_name": "Python 3",
   "language": "python",
   "name": "python3"
  },
  "language_info": {
   "codemirror_mode": {
    "name": "ipython",
    "version": 3
   },
   "file_extension": ".py",
   "mimetype": "text/x-python",
   "name": "python",
   "nbconvert_exporter": "python",
   "pygments_lexer": "ipython3",
   "version": "3.5.2"
  }
 },
 "nbformat": 4,
 "nbformat_minor": 2
}
