{
 "cells": [
  {
   "cell_type": "code",
   "execution_count": 31,
   "metadata": {
    "collapsed": true
   },
   "outputs": [],
   "source": [
    "import pandas as pd\n",
    "import numpy as np\n",
    "import random\n",
    "import seaborn as sns; sns.set()\n",
    "from matplotlib import pyplot as plt\n",
    "from datetime import datetime, timedelta\n",
    "import pickle\n",
    "from matplotlib.colors import LinearSegmentedColormap\n",
    "\n",
    "# plt.style.use('bmh')\n",
    "\n",
    "# from ipywidgets import widgets\n",
    "# from IPython.display import display\n",
    "\n",
    "%matplotlib inline  "
   ]
  },
  {
   "cell_type": "markdown",
   "metadata": {},
   "source": [
    "ATL is located on the property of Georgia Power Co. at 829 Jefferson Street NW in Fulton County, GA. The site is  4.2 km northwest of downtown Atlanta, defined as the intersection of highways I-20 and I-75/85. ATL is in an area of mixed industrial-residential land use. Immediately surrounding the site are 1- and 2-story buildings, generally devoted to warehousing and storage, parking lots, and city streets. A resource recovery facility and a bus maintenance facility are located 700 m east and 250 m south, respectively. Located farther from the site (500–1000 m) are residential neighborhoods of single-family dwellings. The site is perched on a small grass-covered knoll  40 m east of Ashby Street and  30 m west of a large parking lot/storage area. Vegetation around the site includes 3- to 5-yr-old loblolly pines (3– 4 m tall), sparse deciduous trees (mainly oak) along Jefferson and Ashby Streets, and woody shrubs (mainly sumac) to the north."
   ]
  },
  {
   "cell_type": "code",
   "execution_count": 2,
   "metadata": {
    "collapsed": false
   },
   "outputs": [],
   "source": [
    "# winter = datetime.date(2012, 12, 15)\n",
    "# spring = datetime.date(2012, 3, 15)\n",
    "# summer = datetime.date(2012, 6, 15)\n",
    "# fall = datetime.date(2012, 9, 15)\n",
    "\n",
    "summer = [6, 7, 8]\n",
    "winter = [12, 1, 2]\n",
    "spring = [3, 4, 5]\n",
    "fall = [9, 10, 11]\n",
    "\n",
    "season_map = {12: 4, 1: 4, 2: 4, 3: 1, 4: 1, 5: 1, 6: 2, 7: 2, 8: 2, 9: 3, 10: 3, 11: 3}\n",
    "day_night_map = {6:1, 7:1, 8:1, 9:1, 10:1, 11:1, 12:1, 13:1, 14:1, 15:1, 16:1, 17:1, 0:2, 1:2, 2:2, 3:2, 4:2, 5:2, 18:2, 19:2, 20:2, 21:2, 22:2, 23:2}\n",
    "weekday_map = {1:1, 2:1, 3:1, 4:1, 5:1, 6:2, 7:2}\n",
    "\n",
    "season_p = {1:92/366, 2:92/366, 3:91/366, 4:91/366}\n",
    "day_night_p = {1:1/2, 2:1/2}\n",
    "weekday_p = {1:5/7, 2:2/7}\n",
    "\n",
    "weekday = [0, 1, 2, 3, 4]\n",
    "weekend = [5, 6]\n",
    "\n",
    "day = [6, 7, 8, 9, 10, 11, 12, 13, 14, 15, 16, 17]\n",
    "night = [0, 1, 2, 3, 4, 5, 18, 19, 20, 21, 22, 23]"
   ]
  },
  {
   "cell_type": "code",
   "execution_count": 58,
   "metadata": {
    "collapsed": false
   },
   "outputs": [],
   "source": [
    "test = data5min[data5min[\"Count BC\"] == \"5\"]"
   ]
  },
  {
   "cell_type": "code",
   "execution_count": 59,
   "metadata": {
    "collapsed": false
   },
   "outputs": [
    {
     "data": {
      "text/plain": [
       "94378"
      ]
     },
     "execution_count": 59,
     "metadata": {},
     "output_type": "execute_result"
    }
   ],
   "source": [
    "len(test)"
   ]
  },
  {
   "cell_type": "code",
   "execution_count": 63,
   "metadata": {
    "collapsed": false
   },
   "outputs": [
    {
     "data": {
      "text/plain": [
       "55150"
      ]
     },
     "execution_count": 63,
     "metadata": {},
     "output_type": "execute_result"
    }
   ],
   "source": [
    "(105408-94378)*5"
   ]
  },
  {
   "cell_type": "code",
   "execution_count": 1,
   "metadata": {
    "collapsed": false
   },
   "outputs": [
    {
     "ename": "NameError",
     "evalue": "name 'test' is not defined",
     "output_type": "error",
     "traceback": [
      "\u001b[0;31m---------------------------------------------------------------------------\u001b[0m",
      "\u001b[0;31mNameError\u001b[0m                                 Traceback (most recent call last)",
      "\u001b[0;32m<ipython-input-1-b2597a83c69c>\u001b[0m in \u001b[0;36m<module>\u001b[0;34m()\u001b[0m\n\u001b[0;32m----> 1\u001b[0;31m \u001b[0mlen\u001b[0m\u001b[0;34m(\u001b[0m\u001b[0mtest\u001b[0m\u001b[0;34m)\u001b[0m\u001b[0;34m\u001b[0m\u001b[0m\n\u001b[0m",
      "\u001b[0;31mNameError\u001b[0m: name 'test' is not defined"
     ]
    }
   ],
   "source": [
    "len(test)"
   ]
  },
  {
   "cell_type": "code",
   "execution_count": 3,
   "metadata": {
    "collapsed": false
   },
   "outputs": [],
   "source": [
    "data1min = pd.read_csv(\"2012-1min.csv\", header=12)\n",
    "data1min[\"datetime\"] = pd.to_datetime(data1min[\"Date/Time[LST]\"], format='%m/%d/%Y %H:%M')\n",
    "data1min.rename(columns={'NO [ppb]': 'no', 'NO2 [ppb]': 'no2', 'BC [ug/m3]': 'bc'}, inplace=True)\n",
    "data1min = data1min[[\"datetime\", \"no\", \"no2\", \"bc\"]]\n",
    "melted_data1min = pd.melt(data1min, id_vars=\"datetime\", value_vars=[\"no\", \"no2\", \"bc\"], var_name=\"pol\", value_name=\"amt\")\n",
    "melted_data1min[\"datetime5min\"] = pd.to_datetime(pd.DataFrame({'year': pd.DatetimeIndex(melted_data1min.datetime).year,\n",
    "                       'month': pd.DatetimeIndex(melted_data1min.datetime).month,\n",
    "                       'day': pd.DatetimeIndex(melted_data1min.datetime).day,\n",
    "                       'hour': pd.DatetimeIndex(melted_data1min.datetime).hour,\n",
    "                       'minute': np.floor(pd.DatetimeIndex(melted_data1min.datetime).minute / 5)*5,}))"
   ]
  },
  {
   "cell_type": "code",
   "execution_count": 4,
   "metadata": {
    "collapsed": true
   },
   "outputs": [],
   "source": [
    "# melted_data1min[\"year\"] = pd.DatetimeIndex(data1min.datetime).year\n",
    "# melted_data1min[\"month\"] = pd.DatetimeIndex(data1min.datetime).month\n",
    "# melted_data1min[\"day\"] = pd.DatetimeIndex(data1min.datetime).day\n",
    "# melted_data1min[\"hour\"] = pd.DatetimeIndex(data1min.datetime).hour\n",
    "# melted_data1min[\"minute\"] = np.floor(pd.DatetimeIndex(data1min.datetime).minute / 5)*5"
   ]
  },
  {
   "cell_type": "code",
   "execution_count": 5,
   "metadata": {
    "collapsed": false
   },
   "outputs": [],
   "source": [
    "data5min = pd.read_csv(\"2012-5min.csv\", header=12)\n",
    "data5min[\"datetime5min\"] = pd.to_datetime(data5min[\"Date/Time[LST]\"], format='%m/%d/%y %H:%M')\n",
    "rename = {'Average NO[ppb]': 'no_Avg', 'Count NO': 'no_N', 'Average NO2[ppb]': 'no2_Avg', \n",
    "          'Count NO2': 'no2_N', 'Average BC[ug/m3]': 'bc_Avg', 'Count BC': 'bc_N'}\n",
    "data5min.rename(columns=rename, inplace=True)\n",
    "data5min = data5min[[\"datetime5min\", \"no_Avg\", \"no_N\", \"no2_Avg\", \"no2_N\", \"bc_Avg\", \"bc_N\"]]\n",
    "melted_data5min = pd.melt(data5min, id_vars=\"datetime5min\", \n",
    "                          value_vars=[\"no_Avg\", \"no_N\", \"no2_Avg\", \"no2_N\", \"bc_Avg\", \"bc_N\"], \n",
    "                          var_name=\"measure\", value_name=\"amt\")\n",
    "melted_data5min = melted_data5min[melted_data5min[\"amt\"]!=\"Null\"]\n",
    "melted_data5min['pol'], melted_data5min['stat'] = melted_data5min[\"measure\"].str.split('_', 1).str\n",
    "melted_data5min[\"amt\"] = melted_data5min[\"amt\"].astype(\"float64\")\n",
    "pivot_data5min = melted_data5min.pivot_table(values=\"amt\", index=[\"datetime5min\", \"pol\"], columns=\"stat\")\n",
    "flattened_data5min = pd.DataFrame(pivot_data5min.to_records())"
   ]
  },
  {
   "cell_type": "code",
   "execution_count": 9,
   "metadata": {
    "collapsed": false
   },
   "outputs": [
    {
     "data": {
      "text/html": [
       "<div>\n",
       "<table border=\"1\" class=\"dataframe\">\n",
       "  <thead>\n",
       "    <tr style=\"text-align: right;\">\n",
       "      <th></th>\n",
       "      <th>datetime</th>\n",
       "      <th>pol</th>\n",
       "      <th>amt</th>\n",
       "      <th>datetime5min</th>\n",
       "      <th>Avg</th>\n",
       "      <th>N</th>\n",
       "    </tr>\n",
       "  </thead>\n",
       "  <tbody>\n",
       "    <tr>\n",
       "      <th>527045</th>\n",
       "      <td>2012-01-01 00:05:00</td>\n",
       "      <td>no2</td>\n",
       "      <td>14</td>\n",
       "      <td>2012-01-01 00:05:00</td>\n",
       "      <td>49.89958</td>\n",
       "      <td>5.0</td>\n",
       "    </tr>\n",
       "    <tr>\n",
       "      <th>527046</th>\n",
       "      <td>2012-01-01 00:06:00</td>\n",
       "      <td>no2</td>\n",
       "      <td>14.35</td>\n",
       "      <td>2012-01-01 00:05:00</td>\n",
       "      <td>49.89958</td>\n",
       "      <td>5.0</td>\n",
       "    </tr>\n",
       "    <tr>\n",
       "      <th>527047</th>\n",
       "      <td>2012-01-01 00:07:00</td>\n",
       "      <td>no2</td>\n",
       "      <td>14.32333</td>\n",
       "      <td>2012-01-01 00:05:00</td>\n",
       "      <td>49.89958</td>\n",
       "      <td>5.0</td>\n",
       "    </tr>\n",
       "    <tr>\n",
       "      <th>527048</th>\n",
       "      <td>2012-01-01 00:08:00</td>\n",
       "      <td>no2</td>\n",
       "      <td>19.6345</td>\n",
       "      <td>2012-01-01 00:05:00</td>\n",
       "      <td>49.89958</td>\n",
       "      <td>5.0</td>\n",
       "    </tr>\n",
       "    <tr>\n",
       "      <th>527049</th>\n",
       "      <td>2012-01-01 00:09:00</td>\n",
       "      <td>no2</td>\n",
       "      <td>34.83327</td>\n",
       "      <td>2012-01-01 00:05:00</td>\n",
       "      <td>49.89958</td>\n",
       "      <td>5.0</td>\n",
       "    </tr>\n",
       "    <tr>\n",
       "      <th>527050</th>\n",
       "      <td>2012-01-01 00:10:00</td>\n",
       "      <td>no2</td>\n",
       "      <td>33.84333</td>\n",
       "      <td>2012-01-01 00:10:00</td>\n",
       "      <td>44.00299</td>\n",
       "      <td>5.0</td>\n",
       "    </tr>\n",
       "    <tr>\n",
       "      <th>527051</th>\n",
       "      <td>2012-01-01 00:11:00</td>\n",
       "      <td>no2</td>\n",
       "      <td>18.1845</td>\n",
       "      <td>2012-01-01 00:10:00</td>\n",
       "      <td>44.00299</td>\n",
       "      <td>5.0</td>\n",
       "    </tr>\n",
       "    <tr>\n",
       "      <th>527052</th>\n",
       "      <td>2012-01-01 00:12:00</td>\n",
       "      <td>no2</td>\n",
       "      <td>17.96603</td>\n",
       "      <td>2012-01-01 00:10:00</td>\n",
       "      <td>44.00299</td>\n",
       "      <td>5.0</td>\n",
       "    </tr>\n",
       "    <tr>\n",
       "      <th>527053</th>\n",
       "      <td>2012-01-01 00:13:00</td>\n",
       "      <td>no2</td>\n",
       "      <td>10.00917</td>\n",
       "      <td>2012-01-01 00:10:00</td>\n",
       "      <td>44.00299</td>\n",
       "      <td>5.0</td>\n",
       "    </tr>\n",
       "    <tr>\n",
       "      <th>527054</th>\n",
       "      <td>2012-01-01 00:14:00</td>\n",
       "      <td>no2</td>\n",
       "      <td>5.688499</td>\n",
       "      <td>2012-01-01 00:10:00</td>\n",
       "      <td>44.00299</td>\n",
       "      <td>5.0</td>\n",
       "    </tr>\n",
       "    <tr>\n",
       "      <th>527055</th>\n",
       "      <td>2012-01-01 00:15:00</td>\n",
       "      <td>no2</td>\n",
       "      <td>18.97259</td>\n",
       "      <td>2012-01-01 00:15:00</td>\n",
       "      <td>57.93444</td>\n",
       "      <td>5.0</td>\n",
       "    </tr>\n",
       "    <tr>\n",
       "      <th>527056</th>\n",
       "      <td>2012-01-01 00:16:00</td>\n",
       "      <td>no2</td>\n",
       "      <td>31.11333</td>\n",
       "      <td>2012-01-01 00:15:00</td>\n",
       "      <td>57.93444</td>\n",
       "      <td>5.0</td>\n",
       "    </tr>\n",
       "    <tr>\n",
       "      <th>527057</th>\n",
       "      <td>2012-01-01 00:17:00</td>\n",
       "      <td>no2</td>\n",
       "      <td>29.073</td>\n",
       "      <td>2012-01-01 00:15:00</td>\n",
       "      <td>57.93444</td>\n",
       "      <td>5.0</td>\n",
       "    </tr>\n",
       "    <tr>\n",
       "      <th>527058</th>\n",
       "      <td>2012-01-01 00:18:00</td>\n",
       "      <td>no2</td>\n",
       "      <td>18.16379</td>\n",
       "      <td>2012-01-01 00:15:00</td>\n",
       "      <td>57.93444</td>\n",
       "      <td>5.0</td>\n",
       "    </tr>\n",
       "    <tr>\n",
       "      <th>527059</th>\n",
       "      <td>2012-01-01 00:19:00</td>\n",
       "      <td>no2</td>\n",
       "      <td>15.41333</td>\n",
       "      <td>2012-01-01 00:15:00</td>\n",
       "      <td>57.93444</td>\n",
       "      <td>5.0</td>\n",
       "    </tr>\n",
       "    <tr>\n",
       "      <th>527060</th>\n",
       "      <td>2012-01-01 00:20:00</td>\n",
       "      <td>no2</td>\n",
       "      <td>12.5845</td>\n",
       "      <td>2012-01-01 00:20:00</td>\n",
       "      <td>37.89194</td>\n",
       "      <td>5.0</td>\n",
       "    </tr>\n",
       "    <tr>\n",
       "      <th>527061</th>\n",
       "      <td>2012-01-01 00:21:00</td>\n",
       "      <td>no2</td>\n",
       "      <td>12.07828</td>\n",
       "      <td>2012-01-01 00:20:00</td>\n",
       "      <td>37.89194</td>\n",
       "      <td>5.0</td>\n",
       "    </tr>\n",
       "    <tr>\n",
       "      <th>527062</th>\n",
       "      <td>2012-01-01 00:22:00</td>\n",
       "      <td>no2</td>\n",
       "      <td>15.20416</td>\n",
       "      <td>2012-01-01 00:20:00</td>\n",
       "      <td>37.89194</td>\n",
       "      <td>5.0</td>\n",
       "    </tr>\n",
       "    <tr>\n",
       "      <th>527063</th>\n",
       "      <td>2012-01-01 00:23:00</td>\n",
       "      <td>no2</td>\n",
       "      <td>17.36917</td>\n",
       "      <td>2012-01-01 00:20:00</td>\n",
       "      <td>37.89194</td>\n",
       "      <td>5.0</td>\n",
       "    </tr>\n",
       "    <tr>\n",
       "      <th>527064</th>\n",
       "      <td>2012-01-01 00:24:00</td>\n",
       "      <td>no2</td>\n",
       "      <td>16.5885</td>\n",
       "      <td>2012-01-01 00:20:00</td>\n",
       "      <td>37.89194</td>\n",
       "      <td>5.0</td>\n",
       "    </tr>\n",
       "    <tr>\n",
       "      <th>527065</th>\n",
       "      <td>2012-01-01 00:25:00</td>\n",
       "      <td>no2</td>\n",
       "      <td>19.67121</td>\n",
       "      <td>2012-01-01 00:25:00</td>\n",
       "      <td>43.07826</td>\n",
       "      <td>5.0</td>\n",
       "    </tr>\n",
       "    <tr>\n",
       "      <th>527066</th>\n",
       "      <td>2012-01-01 00:26:00</td>\n",
       "      <td>no2</td>\n",
       "      <td>21.98666</td>\n",
       "      <td>2012-01-01 00:25:00</td>\n",
       "      <td>43.07826</td>\n",
       "      <td>5.0</td>\n",
       "    </tr>\n",
       "    <tr>\n",
       "      <th>527067</th>\n",
       "      <td>2012-01-01 00:27:00</td>\n",
       "      <td>no2</td>\n",
       "      <td>17.962</td>\n",
       "      <td>2012-01-01 00:25:00</td>\n",
       "      <td>43.07826</td>\n",
       "      <td>5.0</td>\n",
       "    </tr>\n",
       "    <tr>\n",
       "      <th>527068</th>\n",
       "      <td>2012-01-01 00:28:00</td>\n",
       "      <td>no2</td>\n",
       "      <td>13.26069</td>\n",
       "      <td>2012-01-01 00:25:00</td>\n",
       "      <td>43.07826</td>\n",
       "      <td>5.0</td>\n",
       "    </tr>\n",
       "    <tr>\n",
       "      <th>527069</th>\n",
       "      <td>2012-01-01 00:29:00</td>\n",
       "      <td>no2</td>\n",
       "      <td>11.01083</td>\n",
       "      <td>2012-01-01 00:25:00</td>\n",
       "      <td>43.07826</td>\n",
       "      <td>5.0</td>\n",
       "    </tr>\n",
       "    <tr>\n",
       "      <th>527070</th>\n",
       "      <td>2012-01-01 00:30:00</td>\n",
       "      <td>no2</td>\n",
       "      <td>11.1705</td>\n",
       "      <td>2012-01-01 00:30:00</td>\n",
       "      <td>34.05236</td>\n",
       "      <td>5.0</td>\n",
       "    </tr>\n",
       "    <tr>\n",
       "      <th>527071</th>\n",
       "      <td>2012-01-01 00:31:00</td>\n",
       "      <td>no2</td>\n",
       "      <td>14.17327</td>\n",
       "      <td>2012-01-01 00:30:00</td>\n",
       "      <td>34.05236</td>\n",
       "      <td>5.0</td>\n",
       "    </tr>\n",
       "    <tr>\n",
       "      <th>527072</th>\n",
       "      <td>2012-01-01 00:32:00</td>\n",
       "      <td>no2</td>\n",
       "      <td>17.0225</td>\n",
       "      <td>2012-01-01 00:30:00</td>\n",
       "      <td>34.05236</td>\n",
       "      <td>5.0</td>\n",
       "    </tr>\n",
       "    <tr>\n",
       "      <th>527073</th>\n",
       "      <td>2012-01-01 00:33:00</td>\n",
       "      <td>no2</td>\n",
       "      <td>13.841</td>\n",
       "      <td>2012-01-01 00:30:00</td>\n",
       "      <td>34.05236</td>\n",
       "      <td>5.0</td>\n",
       "    </tr>\n",
       "    <tr>\n",
       "      <th>527074</th>\n",
       "      <td>2012-01-01 00:34:00</td>\n",
       "      <td>no2</td>\n",
       "      <td>10.16086</td>\n",
       "      <td>2012-01-01 00:30:00</td>\n",
       "      <td>34.05236</td>\n",
       "      <td>5.0</td>\n",
       "    </tr>\n",
       "    <tr>\n",
       "      <th>...</th>\n",
       "      <td>...</td>\n",
       "      <td>...</td>\n",
       "      <td>...</td>\n",
       "      <td>...</td>\n",
       "      <td>...</td>\n",
       "      <td>...</td>\n",
       "    </tr>\n",
       "    <tr>\n",
       "      <th>1054025</th>\n",
       "      <td>2012-12-31 23:05:00</td>\n",
       "      <td>no2</td>\n",
       "      <td>8.598001</td>\n",
       "      <td>2012-12-31 23:05:00</td>\n",
       "      <td>19.59265</td>\n",
       "      <td>5.0</td>\n",
       "    </tr>\n",
       "    <tr>\n",
       "      <th>1054026</th>\n",
       "      <td>2012-12-31 23:06:00</td>\n",
       "      <td>no2</td>\n",
       "      <td>8.684</td>\n",
       "      <td>2012-12-31 23:05:00</td>\n",
       "      <td>19.59265</td>\n",
       "      <td>5.0</td>\n",
       "    </tr>\n",
       "    <tr>\n",
       "      <th>1054027</th>\n",
       "      <td>2012-12-31 23:07:00</td>\n",
       "      <td>no2</td>\n",
       "      <td>8.846</td>\n",
       "      <td>2012-12-31 23:05:00</td>\n",
       "      <td>19.59265</td>\n",
       "      <td>5.0</td>\n",
       "    </tr>\n",
       "    <tr>\n",
       "      <th>1054028</th>\n",
       "      <td>2012-12-31 23:08:00</td>\n",
       "      <td>no2</td>\n",
       "      <td>9.178</td>\n",
       "      <td>2012-12-31 23:05:00</td>\n",
       "      <td>19.59265</td>\n",
       "      <td>5.0</td>\n",
       "    </tr>\n",
       "    <tr>\n",
       "      <th>1054029</th>\n",
       "      <td>2012-12-31 23:09:00</td>\n",
       "      <td>no2</td>\n",
       "      <td>9.249999</td>\n",
       "      <td>2012-12-31 23:05:00</td>\n",
       "      <td>19.59265</td>\n",
       "      <td>5.0</td>\n",
       "    </tr>\n",
       "    <tr>\n",
       "      <th>1054030</th>\n",
       "      <td>2012-12-31 23:10:00</td>\n",
       "      <td>no2</td>\n",
       "      <td>9.15</td>\n",
       "      <td>2012-12-31 23:10:00</td>\n",
       "      <td>16.17943</td>\n",
       "      <td>5.0</td>\n",
       "    </tr>\n",
       "    <tr>\n",
       "      <th>1054031</th>\n",
       "      <td>2012-12-31 23:11:00</td>\n",
       "      <td>no2</td>\n",
       "      <td>8.273</td>\n",
       "      <td>2012-12-31 23:10:00</td>\n",
       "      <td>16.17943</td>\n",
       "      <td>5.0</td>\n",
       "    </tr>\n",
       "    <tr>\n",
       "      <th>1054032</th>\n",
       "      <td>2012-12-31 23:12:00</td>\n",
       "      <td>no2</td>\n",
       "      <td>8.2</td>\n",
       "      <td>2012-12-31 23:10:00</td>\n",
       "      <td>16.17943</td>\n",
       "      <td>5.0</td>\n",
       "    </tr>\n",
       "    <tr>\n",
       "      <th>1054033</th>\n",
       "      <td>2012-12-31 23:13:00</td>\n",
       "      <td>no2</td>\n",
       "      <td>5.628333</td>\n",
       "      <td>2012-12-31 23:10:00</td>\n",
       "      <td>16.17943</td>\n",
       "      <td>5.0</td>\n",
       "    </tr>\n",
       "    <tr>\n",
       "      <th>1054034</th>\n",
       "      <td>2012-12-31 23:14:00</td>\n",
       "      <td>no2</td>\n",
       "      <td>5.572001</td>\n",
       "      <td>2012-12-31 23:10:00</td>\n",
       "      <td>16.17943</td>\n",
       "      <td>5.0</td>\n",
       "    </tr>\n",
       "    <tr>\n",
       "      <th>1054035</th>\n",
       "      <td>2012-12-31 23:15:00</td>\n",
       "      <td>no2</td>\n",
       "      <td>10.727</td>\n",
       "      <td>2012-12-31 23:15:00</td>\n",
       "      <td>30.43732</td>\n",
       "      <td>5.0</td>\n",
       "    </tr>\n",
       "    <tr>\n",
       "      <th>1054036</th>\n",
       "      <td>2012-12-31 23:16:00</td>\n",
       "      <td>no2</td>\n",
       "      <td>15.717</td>\n",
       "      <td>2012-12-31 23:15:00</td>\n",
       "      <td>30.43732</td>\n",
       "      <td>5.0</td>\n",
       "    </tr>\n",
       "    <tr>\n",
       "      <th>1054037</th>\n",
       "      <td>2012-12-31 23:17:00</td>\n",
       "      <td>no2</td>\n",
       "      <td>15.881</td>\n",
       "      <td>2012-12-31 23:15:00</td>\n",
       "      <td>30.43732</td>\n",
       "      <td>5.0</td>\n",
       "    </tr>\n",
       "    <tr>\n",
       "      <th>1054038</th>\n",
       "      <td>2012-12-31 23:18:00</td>\n",
       "      <td>no2</td>\n",
       "      <td>12.222</td>\n",
       "      <td>2012-12-31 23:15:00</td>\n",
       "      <td>30.43732</td>\n",
       "      <td>5.0</td>\n",
       "    </tr>\n",
       "    <tr>\n",
       "      <th>1054039</th>\n",
       "      <td>2012-12-31 23:19:00</td>\n",
       "      <td>no2</td>\n",
       "      <td>14.577</td>\n",
       "      <td>2012-12-31 23:15:00</td>\n",
       "      <td>30.43732</td>\n",
       "      <td>5.0</td>\n",
       "    </tr>\n",
       "    <tr>\n",
       "      <th>1054040</th>\n",
       "      <td>2012-12-31 23:20:00</td>\n",
       "      <td>no2</td>\n",
       "      <td>11.954</td>\n",
       "      <td>2012-12-31 23:20:00</td>\n",
       "      <td>23.55977</td>\n",
       "      <td>5.0</td>\n",
       "    </tr>\n",
       "    <tr>\n",
       "      <th>1054041</th>\n",
       "      <td>2012-12-31 23:21:00</td>\n",
       "      <td>no2</td>\n",
       "      <td>10.38</td>\n",
       "      <td>2012-12-31 23:20:00</td>\n",
       "      <td>23.55977</td>\n",
       "      <td>5.0</td>\n",
       "    </tr>\n",
       "    <tr>\n",
       "      <th>1054042</th>\n",
       "      <td>2012-12-31 23:22:00</td>\n",
       "      <td>no2</td>\n",
       "      <td>9.698999</td>\n",
       "      <td>2012-12-31 23:20:00</td>\n",
       "      <td>23.55977</td>\n",
       "      <td>5.0</td>\n",
       "    </tr>\n",
       "    <tr>\n",
       "      <th>1054043</th>\n",
       "      <td>2012-12-31 23:23:00</td>\n",
       "      <td>no2</td>\n",
       "      <td>10.168</td>\n",
       "      <td>2012-12-31 23:20:00</td>\n",
       "      <td>23.55977</td>\n",
       "      <td>5.0</td>\n",
       "    </tr>\n",
       "    <tr>\n",
       "      <th>1054044</th>\n",
       "      <td>2012-12-31 23:24:00</td>\n",
       "      <td>no2</td>\n",
       "      <td>11.342</td>\n",
       "      <td>2012-12-31 23:20:00</td>\n",
       "      <td>23.55977</td>\n",
       "      <td>5.0</td>\n",
       "    </tr>\n",
       "    <tr>\n",
       "      <th>1054065</th>\n",
       "      <td>2012-12-31 23:45:00</td>\n",
       "      <td>no2</td>\n",
       "      <td>10.921</td>\n",
       "      <td>2012-12-31 23:45:00</td>\n",
       "      <td>25.24605</td>\n",
       "      <td>5.0</td>\n",
       "    </tr>\n",
       "    <tr>\n",
       "      <th>1054066</th>\n",
       "      <td>2012-12-31 23:46:00</td>\n",
       "      <td>no2</td>\n",
       "      <td>11.161</td>\n",
       "      <td>2012-12-31 23:45:00</td>\n",
       "      <td>25.24605</td>\n",
       "      <td>5.0</td>\n",
       "    </tr>\n",
       "    <tr>\n",
       "      <th>1054067</th>\n",
       "      <td>2012-12-31 23:47:00</td>\n",
       "      <td>no2</td>\n",
       "      <td>10.095</td>\n",
       "      <td>2012-12-31 23:45:00</td>\n",
       "      <td>25.24605</td>\n",
       "      <td>5.0</td>\n",
       "    </tr>\n",
       "    <tr>\n",
       "      <th>1054068</th>\n",
       "      <td>2012-12-31 23:48:00</td>\n",
       "      <td>no2</td>\n",
       "      <td>11.24</td>\n",
       "      <td>2012-12-31 23:45:00</td>\n",
       "      <td>25.24605</td>\n",
       "      <td>5.0</td>\n",
       "    </tr>\n",
       "    <tr>\n",
       "      <th>1054069</th>\n",
       "      <td>2012-12-31 23:49:00</td>\n",
       "      <td>no2</td>\n",
       "      <td>13.94417</td>\n",
       "      <td>2012-12-31 23:45:00</td>\n",
       "      <td>25.24605</td>\n",
       "      <td>5.0</td>\n",
       "    </tr>\n",
       "    <tr>\n",
       "      <th>1054070</th>\n",
       "      <td>2012-12-31 23:50:00</td>\n",
       "      <td>no2</td>\n",
       "      <td>14.794</td>\n",
       "      <td>2012-12-31 23:50:00</td>\n",
       "      <td>29.14388</td>\n",
       "      <td>5.0</td>\n",
       "    </tr>\n",
       "    <tr>\n",
       "      <th>1054071</th>\n",
       "      <td>2012-12-31 23:51:00</td>\n",
       "      <td>no2</td>\n",
       "      <td>13.148</td>\n",
       "      <td>2012-12-31 23:50:00</td>\n",
       "      <td>29.14388</td>\n",
       "      <td>5.0</td>\n",
       "    </tr>\n",
       "    <tr>\n",
       "      <th>1054072</th>\n",
       "      <td>2012-12-31 23:52:00</td>\n",
       "      <td>no2</td>\n",
       "      <td>13.477</td>\n",
       "      <td>2012-12-31 23:50:00</td>\n",
       "      <td>29.14388</td>\n",
       "      <td>5.0</td>\n",
       "    </tr>\n",
       "    <tr>\n",
       "      <th>1054073</th>\n",
       "      <td>2012-12-31 23:53:00</td>\n",
       "      <td>no2</td>\n",
       "      <td>13.839</td>\n",
       "      <td>2012-12-31 23:50:00</td>\n",
       "      <td>29.14388</td>\n",
       "      <td>5.0</td>\n",
       "    </tr>\n",
       "    <tr>\n",
       "      <th>1054074</th>\n",
       "      <td>2012-12-31 23:54:00</td>\n",
       "      <td>no2</td>\n",
       "      <td>10.932</td>\n",
       "      <td>2012-12-31 23:50:00</td>\n",
       "      <td>29.14388</td>\n",
       "      <td>5.0</td>\n",
       "    </tr>\n",
       "  </tbody>\n",
       "</table>\n",
       "<p>493670 rows × 6 columns</p>\n",
       "</div>"
      ],
      "text/plain": [
       "                   datetime  pol       amt        datetime5min       Avg    N\n",
       "527045  2012-01-01 00:05:00  no2        14 2012-01-01 00:05:00  49.89958  5.0\n",
       "527046  2012-01-01 00:06:00  no2     14.35 2012-01-01 00:05:00  49.89958  5.0\n",
       "527047  2012-01-01 00:07:00  no2  14.32333 2012-01-01 00:05:00  49.89958  5.0\n",
       "527048  2012-01-01 00:08:00  no2   19.6345 2012-01-01 00:05:00  49.89958  5.0\n",
       "527049  2012-01-01 00:09:00  no2  34.83327 2012-01-01 00:05:00  49.89958  5.0\n",
       "527050  2012-01-01 00:10:00  no2  33.84333 2012-01-01 00:10:00  44.00299  5.0\n",
       "527051  2012-01-01 00:11:00  no2   18.1845 2012-01-01 00:10:00  44.00299  5.0\n",
       "527052  2012-01-01 00:12:00  no2  17.96603 2012-01-01 00:10:00  44.00299  5.0\n",
       "527053  2012-01-01 00:13:00  no2  10.00917 2012-01-01 00:10:00  44.00299  5.0\n",
       "527054  2012-01-01 00:14:00  no2  5.688499 2012-01-01 00:10:00  44.00299  5.0\n",
       "527055  2012-01-01 00:15:00  no2  18.97259 2012-01-01 00:15:00  57.93444  5.0\n",
       "527056  2012-01-01 00:16:00  no2  31.11333 2012-01-01 00:15:00  57.93444  5.0\n",
       "527057  2012-01-01 00:17:00  no2    29.073 2012-01-01 00:15:00  57.93444  5.0\n",
       "527058  2012-01-01 00:18:00  no2  18.16379 2012-01-01 00:15:00  57.93444  5.0\n",
       "527059  2012-01-01 00:19:00  no2  15.41333 2012-01-01 00:15:00  57.93444  5.0\n",
       "527060  2012-01-01 00:20:00  no2   12.5845 2012-01-01 00:20:00  37.89194  5.0\n",
       "527061  2012-01-01 00:21:00  no2  12.07828 2012-01-01 00:20:00  37.89194  5.0\n",
       "527062  2012-01-01 00:22:00  no2  15.20416 2012-01-01 00:20:00  37.89194  5.0\n",
       "527063  2012-01-01 00:23:00  no2  17.36917 2012-01-01 00:20:00  37.89194  5.0\n",
       "527064  2012-01-01 00:24:00  no2   16.5885 2012-01-01 00:20:00  37.89194  5.0\n",
       "527065  2012-01-01 00:25:00  no2  19.67121 2012-01-01 00:25:00  43.07826  5.0\n",
       "527066  2012-01-01 00:26:00  no2  21.98666 2012-01-01 00:25:00  43.07826  5.0\n",
       "527067  2012-01-01 00:27:00  no2    17.962 2012-01-01 00:25:00  43.07826  5.0\n",
       "527068  2012-01-01 00:28:00  no2  13.26069 2012-01-01 00:25:00  43.07826  5.0\n",
       "527069  2012-01-01 00:29:00  no2  11.01083 2012-01-01 00:25:00  43.07826  5.0\n",
       "527070  2012-01-01 00:30:00  no2   11.1705 2012-01-01 00:30:00  34.05236  5.0\n",
       "527071  2012-01-01 00:31:00  no2  14.17327 2012-01-01 00:30:00  34.05236  5.0\n",
       "527072  2012-01-01 00:32:00  no2   17.0225 2012-01-01 00:30:00  34.05236  5.0\n",
       "527073  2012-01-01 00:33:00  no2    13.841 2012-01-01 00:30:00  34.05236  5.0\n",
       "527074  2012-01-01 00:34:00  no2  10.16086 2012-01-01 00:30:00  34.05236  5.0\n",
       "...                     ...  ...       ...                 ...       ...  ...\n",
       "1054025 2012-12-31 23:05:00  no2  8.598001 2012-12-31 23:05:00  19.59265  5.0\n",
       "1054026 2012-12-31 23:06:00  no2     8.684 2012-12-31 23:05:00  19.59265  5.0\n",
       "1054027 2012-12-31 23:07:00  no2     8.846 2012-12-31 23:05:00  19.59265  5.0\n",
       "1054028 2012-12-31 23:08:00  no2     9.178 2012-12-31 23:05:00  19.59265  5.0\n",
       "1054029 2012-12-31 23:09:00  no2  9.249999 2012-12-31 23:05:00  19.59265  5.0\n",
       "1054030 2012-12-31 23:10:00  no2      9.15 2012-12-31 23:10:00  16.17943  5.0\n",
       "1054031 2012-12-31 23:11:00  no2     8.273 2012-12-31 23:10:00  16.17943  5.0\n",
       "1054032 2012-12-31 23:12:00  no2       8.2 2012-12-31 23:10:00  16.17943  5.0\n",
       "1054033 2012-12-31 23:13:00  no2  5.628333 2012-12-31 23:10:00  16.17943  5.0\n",
       "1054034 2012-12-31 23:14:00  no2  5.572001 2012-12-31 23:10:00  16.17943  5.0\n",
       "1054035 2012-12-31 23:15:00  no2    10.727 2012-12-31 23:15:00  30.43732  5.0\n",
       "1054036 2012-12-31 23:16:00  no2    15.717 2012-12-31 23:15:00  30.43732  5.0\n",
       "1054037 2012-12-31 23:17:00  no2    15.881 2012-12-31 23:15:00  30.43732  5.0\n",
       "1054038 2012-12-31 23:18:00  no2    12.222 2012-12-31 23:15:00  30.43732  5.0\n",
       "1054039 2012-12-31 23:19:00  no2    14.577 2012-12-31 23:15:00  30.43732  5.0\n",
       "1054040 2012-12-31 23:20:00  no2    11.954 2012-12-31 23:20:00  23.55977  5.0\n",
       "1054041 2012-12-31 23:21:00  no2     10.38 2012-12-31 23:20:00  23.55977  5.0\n",
       "1054042 2012-12-31 23:22:00  no2  9.698999 2012-12-31 23:20:00  23.55977  5.0\n",
       "1054043 2012-12-31 23:23:00  no2    10.168 2012-12-31 23:20:00  23.55977  5.0\n",
       "1054044 2012-12-31 23:24:00  no2    11.342 2012-12-31 23:20:00  23.55977  5.0\n",
       "1054065 2012-12-31 23:45:00  no2    10.921 2012-12-31 23:45:00  25.24605  5.0\n",
       "1054066 2012-12-31 23:46:00  no2    11.161 2012-12-31 23:45:00  25.24605  5.0\n",
       "1054067 2012-12-31 23:47:00  no2    10.095 2012-12-31 23:45:00  25.24605  5.0\n",
       "1054068 2012-12-31 23:48:00  no2     11.24 2012-12-31 23:45:00  25.24605  5.0\n",
       "1054069 2012-12-31 23:49:00  no2  13.94417 2012-12-31 23:45:00  25.24605  5.0\n",
       "1054070 2012-12-31 23:50:00  no2    14.794 2012-12-31 23:50:00  29.14388  5.0\n",
       "1054071 2012-12-31 23:51:00  no2    13.148 2012-12-31 23:50:00  29.14388  5.0\n",
       "1054072 2012-12-31 23:52:00  no2    13.477 2012-12-31 23:50:00  29.14388  5.0\n",
       "1054073 2012-12-31 23:53:00  no2    13.839 2012-12-31 23:50:00  29.14388  5.0\n",
       "1054074 2012-12-31 23:54:00  no2    10.932 2012-12-31 23:50:00  29.14388  5.0\n",
       "\n",
       "[493670 rows x 6 columns]"
      ]
     },
     "execution_count": 9,
     "metadata": {},
     "output_type": "execute_result"
    }
   ],
   "source": [
    "merged.query(\"pol == 'no2'\")"
   ]
  },
  {
   "cell_type": "code",
   "execution_count": 6,
   "metadata": {
    "collapsed": false
   },
   "outputs": [],
   "source": [
    "merged = pd.merge(melted_data1min, flattened_data5min, how=\"left\", on=[\"datetime5min\",\"pol\"])\n",
    "# Drop null values\n",
    "merged.dropna()\n",
    "# Drop obs with N < 5 in 5-min data\n",
    "merged = merged[merged[\"N\"]==5]"
   ]
  },
  {
   "cell_type": "code",
   "execution_count": 7,
   "metadata": {
    "collapsed": false
   },
   "outputs": [
    {
     "name": "stdout",
     "output_type": "stream",
     "text": [
      "0.0633158773527626\n",
      "0.10464101396478445\n"
     ]
    }
   ],
   "source": [
    "# How much of the data was dropped?\n",
    "print((len(melted_data1min.query(\"pol == 'no2'\")) - len(merged.query(\"pol == 'no2'\")))/ len(melted_data1min.query(\"pol == 'no2'\")))\n",
    "print((len(melted_data1min.query(\"pol == 'bc'\")) - len(merged.query(\"pol == 'bc'\")))/ len(melted_data1min.query(\"pol == 'bc'\")))"
   ]
  },
  {
   "cell_type": "code",
   "execution_count": 16,
   "metadata": {
    "collapsed": false
   },
   "outputs": [],
   "source": [
    "merged[\"amt\"] = merged[\"amt\"].astype(\"float64\")\n",
    "means = pd.DataFrame(merged[[\"pol\", \"datetime5min\", \"amt\"]].groupby([\"datetime5min\", \"pol\"]).mean().to_records())\n",
    "means.rename(columns={\"amt\":\"Avg1Min\"}, inplace=True)\n",
    "merged = pd.merge(merged, means, how=\"left\", on=[\"datetime5min\",\"pol\"])\n",
    "merged[\"cf\"] = merged[\"Avg\"] / merged[\"Avg1Min\"]\n",
    "merged[\"amt_c\"] = np.where(merged[\"cf\"] == np.inf, merged[\"Avg\"], merged[\"amt\"] * merged[\"cf\"])"
   ]
  },
  {
   "cell_type": "code",
   "execution_count": 57,
   "metadata": {
    "collapsed": true
   },
   "outputs": [],
   "source": [
    "merged_no2 = merged.query(\"pol == 'no2'\")\n",
    "merged_bc = merged.query(\"pol == 'bc'\")"
   ]
  },
  {
   "cell_type": "code",
   "execution_count": 75,
   "metadata": {
    "collapsed": true
   },
   "outputs": [],
   "source": [
    "sns.set(font_scale=1.75)\n",
    "sns.set_style(\"white\")"
   ]
  },
  {
   "cell_type": "code",
   "execution_count": 85,
   "metadata": {
    "collapsed": false
   },
   "outputs": [
    {
     "data": {
      "text/plain": [
       "0.10    0.220967\n",
       "0.25    0.385333\n",
       "0.50    0.634208\n",
       "0.75    1.081667\n",
       "0.90    1.827952\n",
       "Name: amt, dtype: float64"
      ]
     },
     "execution_count": 85,
     "metadata": {},
     "output_type": "execute_result"
    }
   ],
   "source": [
    "merged_bc.amt.quantile([0.1, 0.25, .5, 0.75, 0.9])"
   ]
  },
  {
   "cell_type": "code",
   "execution_count": 76,
   "metadata": {
    "collapsed": false,
    "scrolled": false
   },
   "outputs": [
    {
     "data": {
      "image/png": "[encoded data removed]",
      "text/plain": [
       "<matplotlib.figure.Figure at 0x1c1b0beb8>"
      ]
     },
     "metadata": {},
     "output_type": "display_data"
    }
   ],
   "source": [
    "ax = sns.FacetGrid(merged_no2, size=8)\n",
    "ax.map(plt.plot,\"datetime\", \"amt\", linewidth=0.08)\n",
    "ax.map(plt.axhline, y=no2_mean, linewidth=0.6, color=\"black\", linestyle=\"--\")\n",
    "ax.set_axis_labels(\"Date\", \"ppm\")\n",
    "ax.savefig(\"no2_ts.png\", dpi=400);"
   ]
  },
  {
   "cell_type": "code",
   "execution_count": 77,
   "metadata": {
    "collapsed": false
   },
   "outputs": [
    {
     "data": {
      "image/png": "[encoded data removed]",
      "text/plain": [
       "<matplotlib.figure.Figure at 0x1c76ce518>"
      ]
     },
     "metadata": {},
     "output_type": "display_data"
    }
   ],
   "source": [
    "ax = sns.FacetGrid(merged_bc, size=8)\n",
    "ax.map(plt.plot,\"datetime\", \"amt\", linewidth=0.08,)\n",
    "ax.map(plt.axhline, y=bc_mean, linewidth=0.6, color=\"black\", linestyle=\"--\")\n",
    "ax.set_axis_labels(\"Date\", \"bc\")\n",
    "ax.savefig(\"bc_ts.png\", dpi=400)"
   ]
  },
  {
   "cell_type": "code",
   "execution_count": 26,
   "metadata": {
    "collapsed": false
   },
   "outputs": [
    {
     "data": {
      "text/plain": [
       "<matplotlib.axes._subplots.AxesSubplot at 0x122e574a8>"
      ]
     },
     "execution_count": 26,
     "metadata": {},
     "output_type": "execute_result"
    },
    {
     "data": {
      "image/png": "[encoded data removed]",
      "text/plain": [
       "<matplotlib.figure.Figure at 0x1166d1d68>"
      ]
     },
     "metadata": {},
     "output_type": "display_data"
    }
   ],
   "source": [
    "merged.query(\"pol == 'no2'\").amt.hist()"
   ]
  },
  {
   "cell_type": "code",
   "execution_count": 208,
   "metadata": {
    "collapsed": false
   },
   "outputs": [
    {
     "data": {
      "text/plain": [
       "<matplotlib.axes._subplots.AxesSubplot at 0x191592ef0>"
      ]
     },
     "execution_count": 208,
     "metadata": {},
     "output_type": "execute_result"
    },
    {
     "data": {
      "image/png": "[encoded data removed]",
      "text/plain": [
       "<matplotlib.figure.Figure at 0x17c447c88>"
      ]
     },
     "metadata": {},
     "output_type": "display_data"
    }
   ],
   "source": [
    "# Histogram of non-infinite correction factors between 1st and 99th percentile\n",
    "merged[\"cf\"][merged[\"cf\"]!= np.inf][merged[\"cf\"] < merged[\"cf\"].quantile(.99)][merged[\"cf\"] > merged[\"cf\"].quantile(.01)].hist()"
   ]
  },
  {
   "cell_type": "code",
   "execution_count": 195,
   "metadata": {
    "collapsed": true
   },
   "outputs": [
    {
     "data": {
      "text/html": [
       "<div>\n",
       "<table border=\"1\" class=\"dataframe\">\n",
       "  <thead>\n",
       "    <tr style=\"text-align: right;\">\n",
       "      <th></th>\n",
       "      <th>datetime</th>\n",
       "      <th>pol</th>\n",
       "      <th>amt</th>\n",
       "      <th>datetime5min</th>\n",
       "      <th>Avg</th>\n",
       "      <th>N</th>\n",
       "      <th>Avg1Min</th>\n",
       "      <th>cf</th>\n",
       "      <th>amt_c</th>\n",
       "    </tr>\n",
       "  </thead>\n",
       "  <tbody>\n",
       "    <tr>\n",
       "      <th>167600</th>\n",
       "      <td>2012-05-04 01:00:00</td>\n",
       "      <td>no</td>\n",
       "      <td>-0.0675</td>\n",
       "      <td>2012-05-04 01:00:00</td>\n",
       "      <td>0.094043</td>\n",
       "      <td>5.0</td>\n",
       "      <td>0.0</td>\n",
       "      <td>inf</td>\n",
       "      <td>0.094043</td>\n",
       "    </tr>\n",
       "    <tr>\n",
       "      <th>167601</th>\n",
       "      <td>2012-05-04 01:01:00</td>\n",
       "      <td>no</td>\n",
       "      <td>-0.0475</td>\n",
       "      <td>2012-05-04 01:00:00</td>\n",
       "      <td>0.094043</td>\n",
       "      <td>5.0</td>\n",
       "      <td>0.0</td>\n",
       "      <td>inf</td>\n",
       "      <td>0.094043</td>\n",
       "    </tr>\n",
       "    <tr>\n",
       "      <th>167602</th>\n",
       "      <td>2012-05-04 01:02:00</td>\n",
       "      <td>no</td>\n",
       "      <td>-0.0475</td>\n",
       "      <td>2012-05-04 01:00:00</td>\n",
       "      <td>0.094043</td>\n",
       "      <td>5.0</td>\n",
       "      <td>0.0</td>\n",
       "      <td>inf</td>\n",
       "      <td>0.094043</td>\n",
       "    </tr>\n",
       "    <tr>\n",
       "      <th>167603</th>\n",
       "      <td>2012-05-04 01:03:00</td>\n",
       "      <td>no</td>\n",
       "      <td>-0.0725</td>\n",
       "      <td>2012-05-04 01:00:00</td>\n",
       "      <td>0.094043</td>\n",
       "      <td>5.0</td>\n",
       "      <td>0.0</td>\n",
       "      <td>inf</td>\n",
       "      <td>0.094043</td>\n",
       "    </tr>\n",
       "    <tr>\n",
       "      <th>167604</th>\n",
       "      <td>2012-05-04 01:04:00</td>\n",
       "      <td>no</td>\n",
       "      <td>0.2350</td>\n",
       "      <td>2012-05-04 01:00:00</td>\n",
       "      <td>0.094043</td>\n",
       "      <td>5.0</td>\n",
       "      <td>0.0</td>\n",
       "      <td>inf</td>\n",
       "      <td>0.094043</td>\n",
       "    </tr>\n",
       "    <tr>\n",
       "      <th>225780</th>\n",
       "      <td>2012-06-14 19:00:00</td>\n",
       "      <td>no</td>\n",
       "      <td>0.0000</td>\n",
       "      <td>2012-06-14 19:00:00</td>\n",
       "      <td>0.052926</td>\n",
       "      <td>5.0</td>\n",
       "      <td>0.0</td>\n",
       "      <td>inf</td>\n",
       "      <td>0.052926</td>\n",
       "    </tr>\n",
       "    <tr>\n",
       "      <th>225781</th>\n",
       "      <td>2012-06-14 19:01:00</td>\n",
       "      <td>no</td>\n",
       "      <td>0.0000</td>\n",
       "      <td>2012-06-14 19:00:00</td>\n",
       "      <td>0.052926</td>\n",
       "      <td>5.0</td>\n",
       "      <td>0.0</td>\n",
       "      <td>inf</td>\n",
       "      <td>0.052926</td>\n",
       "    </tr>\n",
       "    <tr>\n",
       "      <th>225782</th>\n",
       "      <td>2012-06-14 19:02:00</td>\n",
       "      <td>no</td>\n",
       "      <td>-0.0015</td>\n",
       "      <td>2012-06-14 19:00:00</td>\n",
       "      <td>0.052926</td>\n",
       "      <td>5.0</td>\n",
       "      <td>0.0</td>\n",
       "      <td>inf</td>\n",
       "      <td>0.052926</td>\n",
       "    </tr>\n",
       "    <tr>\n",
       "      <th>225783</th>\n",
       "      <td>2012-06-14 19:03:00</td>\n",
       "      <td>no</td>\n",
       "      <td>-0.0070</td>\n",
       "      <td>2012-06-14 19:00:00</td>\n",
       "      <td>0.052926</td>\n",
       "      <td>5.0</td>\n",
       "      <td>0.0</td>\n",
       "      <td>inf</td>\n",
       "      <td>0.052926</td>\n",
       "    </tr>\n",
       "    <tr>\n",
       "      <th>225784</th>\n",
       "      <td>2012-06-14 19:04:00</td>\n",
       "      <td>no</td>\n",
       "      <td>0.0085</td>\n",
       "      <td>2012-06-14 19:00:00</td>\n",
       "      <td>0.052926</td>\n",
       "      <td>5.0</td>\n",
       "      <td>0.0</td>\n",
       "      <td>inf</td>\n",
       "      <td>0.052926</td>\n",
       "    </tr>\n",
       "    <tr>\n",
       "      <th>1414595</th>\n",
       "      <td>2012-11-26 15:30:00</td>\n",
       "      <td>bc</td>\n",
       "      <td>0.0000</td>\n",
       "      <td>2012-11-26 15:30:00</td>\n",
       "      <td>0.094000</td>\n",
       "      <td>5.0</td>\n",
       "      <td>0.0</td>\n",
       "      <td>inf</td>\n",
       "      <td>0.094000</td>\n",
       "    </tr>\n",
       "    <tr>\n",
       "      <th>1414596</th>\n",
       "      <td>2012-11-26 15:31:00</td>\n",
       "      <td>bc</td>\n",
       "      <td>0.0000</td>\n",
       "      <td>2012-11-26 15:30:00</td>\n",
       "      <td>0.094000</td>\n",
       "      <td>5.0</td>\n",
       "      <td>0.0</td>\n",
       "      <td>inf</td>\n",
       "      <td>0.094000</td>\n",
       "    </tr>\n",
       "    <tr>\n",
       "      <th>1414597</th>\n",
       "      <td>2012-11-26 15:32:00</td>\n",
       "      <td>bc</td>\n",
       "      <td>0.0000</td>\n",
       "      <td>2012-11-26 15:30:00</td>\n",
       "      <td>0.094000</td>\n",
       "      <td>5.0</td>\n",
       "      <td>0.0</td>\n",
       "      <td>inf</td>\n",
       "      <td>0.094000</td>\n",
       "    </tr>\n",
       "    <tr>\n",
       "      <th>1414598</th>\n",
       "      <td>2012-11-26 15:33:00</td>\n",
       "      <td>bc</td>\n",
       "      <td>0.0000</td>\n",
       "      <td>2012-11-26 15:30:00</td>\n",
       "      <td>0.094000</td>\n",
       "      <td>5.0</td>\n",
       "      <td>0.0</td>\n",
       "      <td>inf</td>\n",
       "      <td>0.094000</td>\n",
       "    </tr>\n",
       "    <tr>\n",
       "      <th>1414599</th>\n",
       "      <td>2012-11-26 15:34:00</td>\n",
       "      <td>bc</td>\n",
       "      <td>0.0000</td>\n",
       "      <td>2012-11-26 15:30:00</td>\n",
       "      <td>0.094000</td>\n",
       "      <td>5.0</td>\n",
       "      <td>0.0</td>\n",
       "      <td>inf</td>\n",
       "      <td>0.094000</td>\n",
       "    </tr>\n",
       "  </tbody>\n",
       "</table>\n",
       "</div>"
      ],
      "text/plain": [
       "                   datetime pol     amt        datetime5min       Avg    N  \\\n",
       "167600  2012-05-04 01:00:00  no -0.0675 2012-05-04 01:00:00  0.094043  5.0   \n",
       "167601  2012-05-04 01:01:00  no -0.0475 2012-05-04 01:00:00  0.094043  5.0   \n",
       "167602  2012-05-04 01:02:00  no -0.0475 2012-05-04 01:00:00  0.094043  5.0   \n",
       "167603  2012-05-04 01:03:00  no -0.0725 2012-05-04 01:00:00  0.094043  5.0   \n",
       "167604  2012-05-04 01:04:00  no  0.2350 2012-05-04 01:00:00  0.094043  5.0   \n",
       "225780  2012-06-14 19:00:00  no  0.0000 2012-06-14 19:00:00  0.052926  5.0   \n",
       "225781  2012-06-14 19:01:00  no  0.0000 2012-06-14 19:00:00  0.052926  5.0   \n",
       "225782  2012-06-14 19:02:00  no -0.0015 2012-06-14 19:00:00  0.052926  5.0   \n",
       "225783  2012-06-14 19:03:00  no -0.0070 2012-06-14 19:00:00  0.052926  5.0   \n",
       "225784  2012-06-14 19:04:00  no  0.0085 2012-06-14 19:00:00  0.052926  5.0   \n",
       "1414595 2012-11-26 15:30:00  bc  0.0000 2012-11-26 15:30:00  0.094000  5.0   \n",
       "1414596 2012-11-26 15:31:00  bc  0.0000 2012-11-26 15:30:00  0.094000  5.0   \n",
       "1414597 2012-11-26 15:32:00  bc  0.0000 2012-11-26 15:30:00  0.094000  5.0   \n",
       "1414598 2012-11-26 15:33:00  bc  0.0000 2012-11-26 15:30:00  0.094000  5.0   \n",
       "1414599 2012-11-26 15:34:00  bc  0.0000 2012-11-26 15:30:00  0.094000  5.0   \n",
       "\n",
       "         Avg1Min   cf     amt_c  \n",
       "167600       0.0  inf  0.094043  \n",
       "167601       0.0  inf  0.094043  \n",
       "167602       0.0  inf  0.094043  \n",
       "167603       0.0  inf  0.094043  \n",
       "167604       0.0  inf  0.094043  \n",
       "225780       0.0  inf  0.052926  \n",
       "225781       0.0  inf  0.052926  \n",
       "225782       0.0  inf  0.052926  \n",
       "225783       0.0  inf  0.052926  \n",
       "225784       0.0  inf  0.052926  \n",
       "1414595      0.0  inf  0.094000  \n",
       "1414596      0.0  inf  0.094000  \n",
       "1414597      0.0  inf  0.094000  \n",
       "1414598      0.0  inf  0.094000  \n",
       "1414599      0.0  inf  0.094000  "
      ]
     },
     "execution_count": 195,
     "metadata": {},
     "output_type": "execute_result"
    }
   ],
   "source": [
    "merged[merged[\"Avg1Min\"] == 0]"
   ]
  },
  {
   "cell_type": "code",
   "execution_count": 382,
   "metadata": {
    "collapsed": false
   },
   "outputs": [],
   "source": [
    "merged[\"season\"] = merged['datetime'].dt.month.map(season_map)\n",
    "merged[\"day_night\"] = merged['datetime'].dt.hour.map(day_night_map)\n",
    "merged[\"weekday\"] = merged['datetime'].dt.day.map(weekday_map)\n",
    "merged[\"prob\"] = merged[\"season\"].map(season_p)*merged[\"day_night\"].map(day_night_p)*merged[\"weekday\"].map(weekday_p)\n",
    "# merged.loc[merged['datetime'].dt.month in winter, \"season\"] = 4\n",
    "# merged[\"season\"] = np.where(merged['datetime'].month(), 'yes', 'no')"
   ]
  },
  {
   "cell_type": "code",
   "execution_count": 466,
   "metadata": {
    "collapsed": false
   },
   "outputs": [
    {
     "data": {
      "text/html": [
       "<div>\n",
       "<table border=\"1\" class=\"dataframe\">\n",
       "  <thead>\n",
       "    <tr style=\"text-align: right;\">\n",
       "      <th></th>\n",
       "      <th>datetime</th>\n",
       "      <th>pol</th>\n",
       "      <th>amt</th>\n",
       "      <th>datetime5min</th>\n",
       "      <th>Avg</th>\n",
       "      <th>N</th>\n",
       "      <th>Avg1Min</th>\n",
       "      <th>cf</th>\n",
       "      <th>amt_c</th>\n",
       "      <th>season</th>\n",
       "      <th>day_night</th>\n",
       "      <th>weekday</th>\n",
       "      <th>prob</th>\n",
       "    </tr>\n",
       "  </thead>\n",
       "  <tbody>\n",
       "    <tr>\n",
       "      <th>4000</th>\n",
       "      <td>2012-01-03 20:25:00</td>\n",
       "      <td>no</td>\n",
       "      <td>0.364000</td>\n",
       "      <td>2012-01-03 20:25:00</td>\n",
       "      <td>0.256187</td>\n",
       "      <td>5.0</td>\n",
       "      <td>0.266862</td>\n",
       "      <td>0.959996</td>\n",
       "      <td>0.349439</td>\n",
       "      <td>4</td>\n",
       "      <td>2</td>\n",
       "      <td>1.0</td>\n",
       "      <td>0.088798</td>\n",
       "    </tr>\n",
       "    <tr>\n",
       "      <th>4001</th>\n",
       "      <td>2012-01-03 20:26:00</td>\n",
       "      <td>no</td>\n",
       "      <td>0.266667</td>\n",
       "      <td>2012-01-03 20:25:00</td>\n",
       "      <td>0.256187</td>\n",
       "      <td>5.0</td>\n",
       "      <td>0.266862</td>\n",
       "      <td>0.959996</td>\n",
       "      <td>0.255999</td>\n",
       "      <td>4</td>\n",
       "      <td>2</td>\n",
       "      <td>1.0</td>\n",
       "      <td>0.088798</td>\n",
       "    </tr>\n",
       "    <tr>\n",
       "      <th>4002</th>\n",
       "      <td>2012-01-03 20:27:00</td>\n",
       "      <td>no</td>\n",
       "      <td>0.189310</td>\n",
       "      <td>2012-01-03 20:25:00</td>\n",
       "      <td>0.256187</td>\n",
       "      <td>5.0</td>\n",
       "      <td>0.266862</td>\n",
       "      <td>0.959996</td>\n",
       "      <td>0.181737</td>\n",
       "      <td>4</td>\n",
       "      <td>2</td>\n",
       "      <td>1.0</td>\n",
       "      <td>0.088798</td>\n",
       "    </tr>\n",
       "    <tr>\n",
       "      <th>4003</th>\n",
       "      <td>2012-01-03 20:28:00</td>\n",
       "      <td>no</td>\n",
       "      <td>0.192000</td>\n",
       "      <td>2012-01-03 20:25:00</td>\n",
       "      <td>0.256187</td>\n",
       "      <td>5.0</td>\n",
       "      <td>0.266862</td>\n",
       "      <td>0.959996</td>\n",
       "      <td>0.184319</td>\n",
       "      <td>4</td>\n",
       "      <td>2</td>\n",
       "      <td>1.0</td>\n",
       "      <td>0.088798</td>\n",
       "    </tr>\n",
       "    <tr>\n",
       "      <th>4004</th>\n",
       "      <td>2012-01-03 20:29:00</td>\n",
       "      <td>no</td>\n",
       "      <td>0.322333</td>\n",
       "      <td>2012-01-03 20:25:00</td>\n",
       "      <td>0.256187</td>\n",
       "      <td>5.0</td>\n",
       "      <td>0.266862</td>\n",
       "      <td>0.959996</td>\n",
       "      <td>0.309439</td>\n",
       "      <td>4</td>\n",
       "      <td>2</td>\n",
       "      <td>1.0</td>\n",
       "      <td>0.088798</td>\n",
       "    </tr>\n",
       "    <tr>\n",
       "      <th>4005</th>\n",
       "      <td>2012-01-03 20:30:00</td>\n",
       "      <td>no</td>\n",
       "      <td>0.748621</td>\n",
       "      <td>2012-01-03 20:30:00</td>\n",
       "      <td>1.070199</td>\n",
       "      <td>5.0</td>\n",
       "      <td>1.120164</td>\n",
       "      <td>0.955395</td>\n",
       "      <td>0.715228</td>\n",
       "      <td>4</td>\n",
       "      <td>2</td>\n",
       "      <td>1.0</td>\n",
       "      <td>0.088798</td>\n",
       "    </tr>\n",
       "    <tr>\n",
       "      <th>4006</th>\n",
       "      <td>2012-01-03 20:31:00</td>\n",
       "      <td>no</td>\n",
       "      <td>1.176000</td>\n",
       "      <td>2012-01-03 20:30:00</td>\n",
       "      <td>1.070199</td>\n",
       "      <td>5.0</td>\n",
       "      <td>1.120164</td>\n",
       "      <td>0.955395</td>\n",
       "      <td>1.123544</td>\n",
       "      <td>4</td>\n",
       "      <td>2</td>\n",
       "      <td>1.0</td>\n",
       "      <td>0.088798</td>\n",
       "    </tr>\n",
       "    <tr>\n",
       "      <th>4007</th>\n",
       "      <td>2012-01-03 20:32:00</td>\n",
       "      <td>no</td>\n",
       "      <td>1.019167</td>\n",
       "      <td>2012-01-03 20:30:00</td>\n",
       "      <td>1.070199</td>\n",
       "      <td>5.0</td>\n",
       "      <td>1.120164</td>\n",
       "      <td>0.955395</td>\n",
       "      <td>0.973707</td>\n",
       "      <td>4</td>\n",
       "      <td>2</td>\n",
       "      <td>1.0</td>\n",
       "      <td>0.088798</td>\n",
       "    </tr>\n",
       "    <tr>\n",
       "      <th>4008</th>\n",
       "      <td>2012-01-03 20:33:00</td>\n",
       "      <td>no</td>\n",
       "      <td>1.301034</td>\n",
       "      <td>2012-01-03 20:30:00</td>\n",
       "      <td>1.070199</td>\n",
       "      <td>5.0</td>\n",
       "      <td>1.120164</td>\n",
       "      <td>0.955395</td>\n",
       "      <td>1.243001</td>\n",
       "      <td>4</td>\n",
       "      <td>2</td>\n",
       "      <td>1.0</td>\n",
       "      <td>0.088798</td>\n",
       "    </tr>\n",
       "    <tr>\n",
       "      <th>4009</th>\n",
       "      <td>2012-01-03 20:34:00</td>\n",
       "      <td>no</td>\n",
       "      <td>1.356000</td>\n",
       "      <td>2012-01-03 20:30:00</td>\n",
       "      <td>1.070199</td>\n",
       "      <td>5.0</td>\n",
       "      <td>1.120164</td>\n",
       "      <td>0.955395</td>\n",
       "      <td>1.295515</td>\n",
       "      <td>4</td>\n",
       "      <td>2</td>\n",
       "      <td>1.0</td>\n",
       "      <td>0.088798</td>\n",
       "    </tr>\n",
       "    <tr>\n",
       "      <th>4010</th>\n",
       "      <td>2012-01-03 20:35:00</td>\n",
       "      <td>no</td>\n",
       "      <td>0.280667</td>\n",
       "      <td>2012-01-03 20:35:00</td>\n",
       "      <td>0.106373</td>\n",
       "      <td>5.0</td>\n",
       "      <td>0.109812</td>\n",
       "      <td>0.968692</td>\n",
       "      <td>0.271880</td>\n",
       "      <td>4</td>\n",
       "      <td>2</td>\n",
       "      <td>1.0</td>\n",
       "      <td>0.088798</td>\n",
       "    </tr>\n",
       "    <tr>\n",
       "      <th>4011</th>\n",
       "      <td>2012-01-03 20:36:00</td>\n",
       "      <td>no</td>\n",
       "      <td>0.011724</td>\n",
       "      <td>2012-01-03 20:35:00</td>\n",
       "      <td>0.106373</td>\n",
       "      <td>5.0</td>\n",
       "      <td>0.109812</td>\n",
       "      <td>0.968692</td>\n",
       "      <td>0.011357</td>\n",
       "      <td>4</td>\n",
       "      <td>2</td>\n",
       "      <td>1.0</td>\n",
       "      <td>0.088798</td>\n",
       "    </tr>\n",
       "    <tr>\n",
       "      <th>4012</th>\n",
       "      <td>2012-01-03 20:37:00</td>\n",
       "      <td>no</td>\n",
       "      <td>0.007667</td>\n",
       "      <td>2012-01-03 20:35:00</td>\n",
       "      <td>0.106373</td>\n",
       "      <td>5.0</td>\n",
       "      <td>0.109812</td>\n",
       "      <td>0.968692</td>\n",
       "      <td>0.007427</td>\n",
       "      <td>4</td>\n",
       "      <td>2</td>\n",
       "      <td>1.0</td>\n",
       "      <td>0.088798</td>\n",
       "    </tr>\n",
       "    <tr>\n",
       "      <th>4013</th>\n",
       "      <td>2012-01-03 20:38:00</td>\n",
       "      <td>no</td>\n",
       "      <td>0.024000</td>\n",
       "      <td>2012-01-03 20:35:00</td>\n",
       "      <td>0.106373</td>\n",
       "      <td>5.0</td>\n",
       "      <td>0.109812</td>\n",
       "      <td>0.968692</td>\n",
       "      <td>0.023249</td>\n",
       "      <td>4</td>\n",
       "      <td>2</td>\n",
       "      <td>1.0</td>\n",
       "      <td>0.088798</td>\n",
       "    </tr>\n",
       "    <tr>\n",
       "      <th>4014</th>\n",
       "      <td>2012-01-03 20:39:00</td>\n",
       "      <td>no</td>\n",
       "      <td>0.225000</td>\n",
       "      <td>2012-01-03 20:35:00</td>\n",
       "      <td>0.106373</td>\n",
       "      <td>5.0</td>\n",
       "      <td>0.109812</td>\n",
       "      <td>0.968692</td>\n",
       "      <td>0.217956</td>\n",
       "      <td>4</td>\n",
       "      <td>2</td>\n",
       "      <td>1.0</td>\n",
       "      <td>0.088798</td>\n",
       "    </tr>\n",
       "    <tr>\n",
       "      <th>4015</th>\n",
       "      <td>2012-01-03 20:40:00</td>\n",
       "      <td>no</td>\n",
       "      <td>0.409655</td>\n",
       "      <td>2012-01-03 20:40:00</td>\n",
       "      <td>0.249797</td>\n",
       "      <td>5.0</td>\n",
       "      <td>0.260156</td>\n",
       "      <td>0.960181</td>\n",
       "      <td>0.393343</td>\n",
       "      <td>4</td>\n",
       "      <td>2</td>\n",
       "      <td>1.0</td>\n",
       "      <td>0.088798</td>\n",
       "    </tr>\n",
       "    <tr>\n",
       "      <th>4016</th>\n",
       "      <td>2012-01-03 20:41:00</td>\n",
       "      <td>no</td>\n",
       "      <td>0.210000</td>\n",
       "      <td>2012-01-03 20:40:00</td>\n",
       "      <td>0.249797</td>\n",
       "      <td>5.0</td>\n",
       "      <td>0.260156</td>\n",
       "      <td>0.960181</td>\n",
       "      <td>0.201638</td>\n",
       "      <td>4</td>\n",
       "      <td>2</td>\n",
       "      <td>1.0</td>\n",
       "      <td>0.088798</td>\n",
       "    </tr>\n",
       "    <tr>\n",
       "      <th>4017</th>\n",
       "      <td>2012-01-03 20:42:00</td>\n",
       "      <td>no</td>\n",
       "      <td>0.077333</td>\n",
       "      <td>2012-01-03 20:40:00</td>\n",
       "      <td>0.249797</td>\n",
       "      <td>5.0</td>\n",
       "      <td>0.260156</td>\n",
       "      <td>0.960181</td>\n",
       "      <td>0.074254</td>\n",
       "      <td>4</td>\n",
       "      <td>2</td>\n",
       "      <td>1.0</td>\n",
       "      <td>0.088798</td>\n",
       "    </tr>\n",
       "    <tr>\n",
       "      <th>4018</th>\n",
       "      <td>2012-01-03 20:43:00</td>\n",
       "      <td>no</td>\n",
       "      <td>0.153793</td>\n",
       "      <td>2012-01-03 20:40:00</td>\n",
       "      <td>0.249797</td>\n",
       "      <td>5.0</td>\n",
       "      <td>0.260156</td>\n",
       "      <td>0.960181</td>\n",
       "      <td>0.147669</td>\n",
       "      <td>4</td>\n",
       "      <td>2</td>\n",
       "      <td>1.0</td>\n",
       "      <td>0.088798</td>\n",
       "    </tr>\n",
       "    <tr>\n",
       "      <th>4019</th>\n",
       "      <td>2012-01-03 20:44:00</td>\n",
       "      <td>no</td>\n",
       "      <td>0.450000</td>\n",
       "      <td>2012-01-03 20:40:00</td>\n",
       "      <td>0.249797</td>\n",
       "      <td>5.0</td>\n",
       "      <td>0.260156</td>\n",
       "      <td>0.960181</td>\n",
       "      <td>0.432081</td>\n",
       "      <td>4</td>\n",
       "      <td>2</td>\n",
       "      <td>1.0</td>\n",
       "      <td>0.088798</td>\n",
       "    </tr>\n",
       "    <tr>\n",
       "      <th>4020</th>\n",
       "      <td>2012-01-03 20:45:00</td>\n",
       "      <td>no</td>\n",
       "      <td>1.287000</td>\n",
       "      <td>2012-01-03 20:45:00</td>\n",
       "      <td>2.459546</td>\n",
       "      <td>5.0</td>\n",
       "      <td>2.576606</td>\n",
       "      <td>0.954568</td>\n",
       "      <td>1.228529</td>\n",
       "      <td>4</td>\n",
       "      <td>2</td>\n",
       "      <td>1.0</td>\n",
       "      <td>0.088798</td>\n",
       "    </tr>\n",
       "    <tr>\n",
       "      <th>4021</th>\n",
       "      <td>2012-01-03 20:46:00</td>\n",
       "      <td>no</td>\n",
       "      <td>2.194138</td>\n",
       "      <td>2012-01-03 20:45:00</td>\n",
       "      <td>2.459546</td>\n",
       "      <td>5.0</td>\n",
       "      <td>2.576606</td>\n",
       "      <td>0.954568</td>\n",
       "      <td>2.094454</td>\n",
       "      <td>4</td>\n",
       "      <td>2</td>\n",
       "      <td>1.0</td>\n",
       "      <td>0.088798</td>\n",
       "    </tr>\n",
       "    <tr>\n",
       "      <th>4022</th>\n",
       "      <td>2012-01-03 20:47:00</td>\n",
       "      <td>no</td>\n",
       "      <td>2.796000</td>\n",
       "      <td>2012-01-03 20:45:00</td>\n",
       "      <td>2.459546</td>\n",
       "      <td>5.0</td>\n",
       "      <td>2.576606</td>\n",
       "      <td>0.954568</td>\n",
       "      <td>2.668973</td>\n",
       "      <td>4</td>\n",
       "      <td>2</td>\n",
       "      <td>1.0</td>\n",
       "      <td>0.088798</td>\n",
       "    </tr>\n",
       "    <tr>\n",
       "      <th>4023</th>\n",
       "      <td>2012-01-03 20:48:00</td>\n",
       "      <td>no</td>\n",
       "      <td>3.184167</td>\n",
       "      <td>2012-01-03 20:45:00</td>\n",
       "      <td>2.459546</td>\n",
       "      <td>5.0</td>\n",
       "      <td>2.576606</td>\n",
       "      <td>0.954568</td>\n",
       "      <td>3.039505</td>\n",
       "      <td>4</td>\n",
       "      <td>2</td>\n",
       "      <td>1.0</td>\n",
       "      <td>0.088798</td>\n",
       "    </tr>\n",
       "    <tr>\n",
       "      <th>4024</th>\n",
       "      <td>2012-01-03 20:49:00</td>\n",
       "      <td>no</td>\n",
       "      <td>3.421724</td>\n",
       "      <td>2012-01-03 20:45:00</td>\n",
       "      <td>2.459546</td>\n",
       "      <td>5.0</td>\n",
       "      <td>2.576606</td>\n",
       "      <td>0.954568</td>\n",
       "      <td>3.266269</td>\n",
       "      <td>4</td>\n",
       "      <td>2</td>\n",
       "      <td>1.0</td>\n",
       "      <td>0.088798</td>\n",
       "    </tr>\n",
       "    <tr>\n",
       "      <th>4025</th>\n",
       "      <td>2012-01-03 20:50:00</td>\n",
       "      <td>no</td>\n",
       "      <td>3.938000</td>\n",
       "      <td>2012-01-03 20:50:00</td>\n",
       "      <td>3.998795</td>\n",
       "      <td>5.0</td>\n",
       "      <td>4.190200</td>\n",
       "      <td>0.954321</td>\n",
       "      <td>3.758115</td>\n",
       "      <td>4</td>\n",
       "      <td>2</td>\n",
       "      <td>1.0</td>\n",
       "      <td>0.088798</td>\n",
       "    </tr>\n",
       "    <tr>\n",
       "      <th>4026</th>\n",
       "      <td>2012-01-03 20:51:00</td>\n",
       "      <td>no</td>\n",
       "      <td>4.519000</td>\n",
       "      <td>2012-01-03 20:50:00</td>\n",
       "      <td>3.998795</td>\n",
       "      <td>5.0</td>\n",
       "      <td>4.190200</td>\n",
       "      <td>0.954321</td>\n",
       "      <td>4.312575</td>\n",
       "      <td>4</td>\n",
       "      <td>2</td>\n",
       "      <td>1.0</td>\n",
       "      <td>0.088798</td>\n",
       "    </tr>\n",
       "    <tr>\n",
       "      <th>4027</th>\n",
       "      <td>2012-01-03 20:52:00</td>\n",
       "      <td>no</td>\n",
       "      <td>4.852069</td>\n",
       "      <td>2012-01-03 20:50:00</td>\n",
       "      <td>3.998795</td>\n",
       "      <td>5.0</td>\n",
       "      <td>4.190200</td>\n",
       "      <td>0.954321</td>\n",
       "      <td>4.630430</td>\n",
       "      <td>4</td>\n",
       "      <td>2</td>\n",
       "      <td>1.0</td>\n",
       "      <td>0.088798</td>\n",
       "    </tr>\n",
       "    <tr>\n",
       "      <th>4028</th>\n",
       "      <td>2012-01-03 20:53:00</td>\n",
       "      <td>no</td>\n",
       "      <td>4.414000</td>\n",
       "      <td>2012-01-03 20:50:00</td>\n",
       "      <td>3.998795</td>\n",
       "      <td>5.0</td>\n",
       "      <td>4.190200</td>\n",
       "      <td>0.954321</td>\n",
       "      <td>4.212372</td>\n",
       "      <td>4</td>\n",
       "      <td>2</td>\n",
       "      <td>1.0</td>\n",
       "      <td>0.088798</td>\n",
       "    </tr>\n",
       "    <tr>\n",
       "      <th>4029</th>\n",
       "      <td>2012-01-03 20:54:00</td>\n",
       "      <td>no</td>\n",
       "      <td>3.227933</td>\n",
       "      <td>2012-01-03 20:50:00</td>\n",
       "      <td>3.998795</td>\n",
       "      <td>5.0</td>\n",
       "      <td>4.190200</td>\n",
       "      <td>0.954321</td>\n",
       "      <td>3.080483</td>\n",
       "      <td>4</td>\n",
       "      <td>2</td>\n",
       "      <td>1.0</td>\n",
       "      <td>0.088798</td>\n",
       "    </tr>\n",
       "    <tr>\n",
       "      <th>...</th>\n",
       "      <td>...</td>\n",
       "      <td>...</td>\n",
       "      <td>...</td>\n",
       "      <td>...</td>\n",
       "      <td>...</td>\n",
       "      <td>...</td>\n",
       "      <td>...</td>\n",
       "      <td>...</td>\n",
       "      <td>...</td>\n",
       "      <td>...</td>\n",
       "      <td>...</td>\n",
       "      <td>...</td>\n",
       "      <td>...</td>\n",
       "    </tr>\n",
       "    <tr>\n",
       "      <th>7980</th>\n",
       "      <td>2012-01-07 09:35:00</td>\n",
       "      <td>no</td>\n",
       "      <td>1.810000</td>\n",
       "      <td>2012-01-07 09:35:00</td>\n",
       "      <td>1.810868</td>\n",
       "      <td>5.0</td>\n",
       "      <td>1.901209</td>\n",
       "      <td>0.952482</td>\n",
       "      <td>1.723993</td>\n",
       "      <td>4</td>\n",
       "      <td>1</td>\n",
       "      <td>2.0</td>\n",
       "      <td>0.035519</td>\n",
       "    </tr>\n",
       "    <tr>\n",
       "      <th>7981</th>\n",
       "      <td>2012-01-07 09:36:00</td>\n",
       "      <td>no</td>\n",
       "      <td>1.873333</td>\n",
       "      <td>2012-01-07 09:35:00</td>\n",
       "      <td>1.810868</td>\n",
       "      <td>5.0</td>\n",
       "      <td>1.901209</td>\n",
       "      <td>0.952482</td>\n",
       "      <td>1.784317</td>\n",
       "      <td>4</td>\n",
       "      <td>1</td>\n",
       "      <td>2.0</td>\n",
       "      <td>0.035519</td>\n",
       "    </tr>\n",
       "    <tr>\n",
       "      <th>7982</th>\n",
       "      <td>2012-01-07 09:37:00</td>\n",
       "      <td>no</td>\n",
       "      <td>1.966379</td>\n",
       "      <td>2012-01-07 09:35:00</td>\n",
       "      <td>1.810868</td>\n",
       "      <td>5.0</td>\n",
       "      <td>1.901209</td>\n",
       "      <td>0.952482</td>\n",
       "      <td>1.872941</td>\n",
       "      <td>4</td>\n",
       "      <td>1</td>\n",
       "      <td>2.0</td>\n",
       "      <td>0.035519</td>\n",
       "    </tr>\n",
       "    <tr>\n",
       "      <th>7983</th>\n",
       "      <td>2012-01-07 09:38:00</td>\n",
       "      <td>no</td>\n",
       "      <td>1.913000</td>\n",
       "      <td>2012-01-07 09:35:00</td>\n",
       "      <td>1.810868</td>\n",
       "      <td>5.0</td>\n",
       "      <td>1.901209</td>\n",
       "      <td>0.952482</td>\n",
       "      <td>1.822099</td>\n",
       "      <td>4</td>\n",
       "      <td>1</td>\n",
       "      <td>2.0</td>\n",
       "      <td>0.035519</td>\n",
       "    </tr>\n",
       "    <tr>\n",
       "      <th>7984</th>\n",
       "      <td>2012-01-07 09:39:00</td>\n",
       "      <td>no</td>\n",
       "      <td>1.943333</td>\n",
       "      <td>2012-01-07 09:35:00</td>\n",
       "      <td>1.810868</td>\n",
       "      <td>5.0</td>\n",
       "      <td>1.901209</td>\n",
       "      <td>0.952482</td>\n",
       "      <td>1.850990</td>\n",
       "      <td>4</td>\n",
       "      <td>1</td>\n",
       "      <td>2.0</td>\n",
       "      <td>0.035519</td>\n",
       "    </tr>\n",
       "    <tr>\n",
       "      <th>7985</th>\n",
       "      <td>2012-01-07 09:40:00</td>\n",
       "      <td>no</td>\n",
       "      <td>1.973333</td>\n",
       "      <td>2012-01-07 09:40:00</td>\n",
       "      <td>2.219852</td>\n",
       "      <td>5.0</td>\n",
       "      <td>2.331713</td>\n",
       "      <td>0.952026</td>\n",
       "      <td>1.878665</td>\n",
       "      <td>4</td>\n",
       "      <td>1</td>\n",
       "      <td>2.0</td>\n",
       "      <td>0.035519</td>\n",
       "    </tr>\n",
       "    <tr>\n",
       "      <th>7986</th>\n",
       "      <td>2012-01-07 09:41:00</td>\n",
       "      <td>no</td>\n",
       "      <td>2.559655</td>\n",
       "      <td>2012-01-07 09:40:00</td>\n",
       "      <td>2.219852</td>\n",
       "      <td>5.0</td>\n",
       "      <td>2.331713</td>\n",
       "      <td>0.952026</td>\n",
       "      <td>2.436859</td>\n",
       "      <td>4</td>\n",
       "      <td>1</td>\n",
       "      <td>2.0</td>\n",
       "      <td>0.035519</td>\n",
       "    </tr>\n",
       "    <tr>\n",
       "      <th>7987</th>\n",
       "      <td>2012-01-07 09:42:00</td>\n",
       "      <td>no</td>\n",
       "      <td>3.091667</td>\n",
       "      <td>2012-01-07 09:40:00</td>\n",
       "      <td>2.219852</td>\n",
       "      <td>5.0</td>\n",
       "      <td>2.331713</td>\n",
       "      <td>0.952026</td>\n",
       "      <td>2.943349</td>\n",
       "      <td>4</td>\n",
       "      <td>1</td>\n",
       "      <td>2.0</td>\n",
       "      <td>0.035519</td>\n",
       "    </tr>\n",
       "    <tr>\n",
       "      <th>7988</th>\n",
       "      <td>2012-01-07 09:43:00</td>\n",
       "      <td>no</td>\n",
       "      <td>2.346667</td>\n",
       "      <td>2012-01-07 09:40:00</td>\n",
       "      <td>2.219852</td>\n",
       "      <td>5.0</td>\n",
       "      <td>2.331713</td>\n",
       "      <td>0.952026</td>\n",
       "      <td>2.234089</td>\n",
       "      <td>4</td>\n",
       "      <td>1</td>\n",
       "      <td>2.0</td>\n",
       "      <td>0.035519</td>\n",
       "    </tr>\n",
       "    <tr>\n",
       "      <th>7989</th>\n",
       "      <td>2012-01-07 09:44:00</td>\n",
       "      <td>no</td>\n",
       "      <td>1.687241</td>\n",
       "      <td>2012-01-07 09:40:00</td>\n",
       "      <td>2.219852</td>\n",
       "      <td>5.0</td>\n",
       "      <td>2.331713</td>\n",
       "      <td>0.952026</td>\n",
       "      <td>1.606298</td>\n",
       "      <td>4</td>\n",
       "      <td>1</td>\n",
       "      <td>2.0</td>\n",
       "      <td>0.035519</td>\n",
       "    </tr>\n",
       "    <tr>\n",
       "      <th>7990</th>\n",
       "      <td>2012-01-07 09:45:00</td>\n",
       "      <td>no</td>\n",
       "      <td>1.449667</td>\n",
       "      <td>2012-01-07 09:45:00</td>\n",
       "      <td>1.212251</td>\n",
       "      <td>5.0</td>\n",
       "      <td>1.271115</td>\n",
       "      <td>0.953691</td>\n",
       "      <td>1.382534</td>\n",
       "      <td>4</td>\n",
       "      <td>1</td>\n",
       "      <td>2.0</td>\n",
       "      <td>0.035519</td>\n",
       "    </tr>\n",
       "    <tr>\n",
       "      <th>7991</th>\n",
       "      <td>2012-01-07 09:46:00</td>\n",
       "      <td>no</td>\n",
       "      <td>1.306667</td>\n",
       "      <td>2012-01-07 09:45:00</td>\n",
       "      <td>1.212251</td>\n",
       "      <td>5.0</td>\n",
       "      <td>1.271115</td>\n",
       "      <td>0.953691</td>\n",
       "      <td>1.246157</td>\n",
       "      <td>4</td>\n",
       "      <td>1</td>\n",
       "      <td>2.0</td>\n",
       "      <td>0.035519</td>\n",
       "    </tr>\n",
       "    <tr>\n",
       "      <th>7992</th>\n",
       "      <td>2012-01-07 09:47:00</td>\n",
       "      <td>no</td>\n",
       "      <td>1.237241</td>\n",
       "      <td>2012-01-07 09:45:00</td>\n",
       "      <td>1.212251</td>\n",
       "      <td>5.0</td>\n",
       "      <td>1.271115</td>\n",
       "      <td>0.953691</td>\n",
       "      <td>1.179946</td>\n",
       "      <td>4</td>\n",
       "      <td>1</td>\n",
       "      <td>2.0</td>\n",
       "      <td>0.035519</td>\n",
       "    </tr>\n",
       "    <tr>\n",
       "      <th>7993</th>\n",
       "      <td>2012-01-07 09:48:00</td>\n",
       "      <td>no</td>\n",
       "      <td>1.182000</td>\n",
       "      <td>2012-01-07 09:45:00</td>\n",
       "      <td>1.212251</td>\n",
       "      <td>5.0</td>\n",
       "      <td>1.271115</td>\n",
       "      <td>0.953691</td>\n",
       "      <td>1.127263</td>\n",
       "      <td>4</td>\n",
       "      <td>1</td>\n",
       "      <td>2.0</td>\n",
       "      <td>0.035519</td>\n",
       "    </tr>\n",
       "    <tr>\n",
       "      <th>7994</th>\n",
       "      <td>2012-01-07 09:49:00</td>\n",
       "      <td>no</td>\n",
       "      <td>1.180000</td>\n",
       "      <td>2012-01-07 09:45:00</td>\n",
       "      <td>1.212251</td>\n",
       "      <td>5.0</td>\n",
       "      <td>1.271115</td>\n",
       "      <td>0.953691</td>\n",
       "      <td>1.125355</td>\n",
       "      <td>4</td>\n",
       "      <td>1</td>\n",
       "      <td>2.0</td>\n",
       "      <td>0.035519</td>\n",
       "    </tr>\n",
       "    <tr>\n",
       "      <th>7995</th>\n",
       "      <td>2012-01-07 09:50:00</td>\n",
       "      <td>no</td>\n",
       "      <td>1.268621</td>\n",
       "      <td>2012-01-07 09:50:00</td>\n",
       "      <td>1.612520</td>\n",
       "      <td>5.0</td>\n",
       "      <td>1.692446</td>\n",
       "      <td>0.952775</td>\n",
       "      <td>1.208710</td>\n",
       "      <td>4</td>\n",
       "      <td>1</td>\n",
       "      <td>2.0</td>\n",
       "      <td>0.035519</td>\n",
       "    </tr>\n",
       "    <tr>\n",
       "      <th>7996</th>\n",
       "      <td>2012-01-07 09:51:00</td>\n",
       "      <td>no</td>\n",
       "      <td>1.531667</td>\n",
       "      <td>2012-01-07 09:50:00</td>\n",
       "      <td>1.612520</td>\n",
       "      <td>5.0</td>\n",
       "      <td>1.692446</td>\n",
       "      <td>0.952775</td>\n",
       "      <td>1.459334</td>\n",
       "      <td>4</td>\n",
       "      <td>1</td>\n",
       "      <td>2.0</td>\n",
       "      <td>0.035519</td>\n",
       "    </tr>\n",
       "    <tr>\n",
       "      <th>7997</th>\n",
       "      <td>2012-01-07 09:52:00</td>\n",
       "      <td>no</td>\n",
       "      <td>1.653667</td>\n",
       "      <td>2012-01-07 09:50:00</td>\n",
       "      <td>1.612520</td>\n",
       "      <td>5.0</td>\n",
       "      <td>1.692446</td>\n",
       "      <td>0.952775</td>\n",
       "      <td>1.575572</td>\n",
       "      <td>4</td>\n",
       "      <td>1</td>\n",
       "      <td>2.0</td>\n",
       "      <td>0.035519</td>\n",
       "    </tr>\n",
       "    <tr>\n",
       "      <th>7998</th>\n",
       "      <td>2012-01-07 09:53:00</td>\n",
       "      <td>no</td>\n",
       "      <td>1.970000</td>\n",
       "      <td>2012-01-07 09:50:00</td>\n",
       "      <td>1.612520</td>\n",
       "      <td>5.0</td>\n",
       "      <td>1.692446</td>\n",
       "      <td>0.952775</td>\n",
       "      <td>1.876966</td>\n",
       "      <td>4</td>\n",
       "      <td>1</td>\n",
       "      <td>2.0</td>\n",
       "      <td>0.035519</td>\n",
       "    </tr>\n",
       "    <tr>\n",
       "      <th>7999</th>\n",
       "      <td>2012-01-07 09:54:00</td>\n",
       "      <td>no</td>\n",
       "      <td>2.038276</td>\n",
       "      <td>2012-01-07 09:50:00</td>\n",
       "      <td>1.612520</td>\n",
       "      <td>5.0</td>\n",
       "      <td>1.692446</td>\n",
       "      <td>0.952775</td>\n",
       "      <td>1.942018</td>\n",
       "      <td>4</td>\n",
       "      <td>1</td>\n",
       "      <td>2.0</td>\n",
       "      <td>0.035519</td>\n",
       "    </tr>\n",
       "    <tr>\n",
       "      <th>8000</th>\n",
       "      <td>2012-01-07 09:55:00</td>\n",
       "      <td>no</td>\n",
       "      <td>1.888667</td>\n",
       "      <td>2012-01-07 09:55:00</td>\n",
       "      <td>1.436287</td>\n",
       "      <td>5.0</td>\n",
       "      <td>1.506947</td>\n",
       "      <td>0.953110</td>\n",
       "      <td>1.800108</td>\n",
       "      <td>4</td>\n",
       "      <td>1</td>\n",
       "      <td>2.0</td>\n",
       "      <td>0.035519</td>\n",
       "    </tr>\n",
       "    <tr>\n",
       "      <th>8001</th>\n",
       "      <td>2012-01-07 09:56:00</td>\n",
       "      <td>no</td>\n",
       "      <td>1.643333</td>\n",
       "      <td>2012-01-07 09:55:00</td>\n",
       "      <td>1.436287</td>\n",
       "      <td>5.0</td>\n",
       "      <td>1.506947</td>\n",
       "      <td>0.953110</td>\n",
       "      <td>1.566278</td>\n",
       "      <td>4</td>\n",
       "      <td>1</td>\n",
       "      <td>2.0</td>\n",
       "      <td>0.035519</td>\n",
       "    </tr>\n",
       "    <tr>\n",
       "      <th>8002</th>\n",
       "      <td>2012-01-07 09:57:00</td>\n",
       "      <td>no</td>\n",
       "      <td>1.467069</td>\n",
       "      <td>2012-01-07 09:55:00</td>\n",
       "      <td>1.436287</td>\n",
       "      <td>5.0</td>\n",
       "      <td>1.506947</td>\n",
       "      <td>0.953110</td>\n",
       "      <td>1.398279</td>\n",
       "      <td>4</td>\n",
       "      <td>1</td>\n",
       "      <td>2.0</td>\n",
       "      <td>0.035519</td>\n",
       "    </tr>\n",
       "    <tr>\n",
       "      <th>8003</th>\n",
       "      <td>2012-01-07 09:58:00</td>\n",
       "      <td>no</td>\n",
       "      <td>1.312333</td>\n",
       "      <td>2012-01-07 09:55:00</td>\n",
       "      <td>1.436287</td>\n",
       "      <td>5.0</td>\n",
       "      <td>1.506947</td>\n",
       "      <td>0.953110</td>\n",
       "      <td>1.250798</td>\n",
       "      <td>4</td>\n",
       "      <td>1</td>\n",
       "      <td>2.0</td>\n",
       "      <td>0.035519</td>\n",
       "    </tr>\n",
       "    <tr>\n",
       "      <th>8004</th>\n",
       "      <td>2012-01-07 09:59:00</td>\n",
       "      <td>no</td>\n",
       "      <td>1.223333</td>\n",
       "      <td>2012-01-07 09:55:00</td>\n",
       "      <td>1.436287</td>\n",
       "      <td>5.0</td>\n",
       "      <td>1.506947</td>\n",
       "      <td>0.953110</td>\n",
       "      <td>1.165972</td>\n",
       "      <td>4</td>\n",
       "      <td>1</td>\n",
       "      <td>2.0</td>\n",
       "      <td>0.035519</td>\n",
       "    </tr>\n",
       "    <tr>\n",
       "      <th>8005</th>\n",
       "      <td>2012-01-07 10:00:00</td>\n",
       "      <td>no</td>\n",
       "      <td>1.406552</td>\n",
       "      <td>2012-01-07 10:00:00</td>\n",
       "      <td>1.637524</td>\n",
       "      <td>5.0</td>\n",
       "      <td>1.718777</td>\n",
       "      <td>0.952726</td>\n",
       "      <td>1.340059</td>\n",
       "      <td>4</td>\n",
       "      <td>1</td>\n",
       "      <td>2.0</td>\n",
       "      <td>0.035519</td>\n",
       "    </tr>\n",
       "    <tr>\n",
       "      <th>8006</th>\n",
       "      <td>2012-01-07 10:01:00</td>\n",
       "      <td>no</td>\n",
       "      <td>1.738000</td>\n",
       "      <td>2012-01-07 10:00:00</td>\n",
       "      <td>1.637524</td>\n",
       "      <td>5.0</td>\n",
       "      <td>1.718777</td>\n",
       "      <td>0.952726</td>\n",
       "      <td>1.655838</td>\n",
       "      <td>4</td>\n",
       "      <td>1</td>\n",
       "      <td>2.0</td>\n",
       "      <td>0.035519</td>\n",
       "    </tr>\n",
       "    <tr>\n",
       "      <th>8007</th>\n",
       "      <td>2012-01-07 10:02:00</td>\n",
       "      <td>no</td>\n",
       "      <td>2.010000</td>\n",
       "      <td>2012-01-07 10:00:00</td>\n",
       "      <td>1.637524</td>\n",
       "      <td>5.0</td>\n",
       "      <td>1.718777</td>\n",
       "      <td>0.952726</td>\n",
       "      <td>1.914980</td>\n",
       "      <td>4</td>\n",
       "      <td>1</td>\n",
       "      <td>2.0</td>\n",
       "      <td>0.035519</td>\n",
       "    </tr>\n",
       "    <tr>\n",
       "      <th>8008</th>\n",
       "      <td>2012-01-07 10:03:00</td>\n",
       "      <td>no</td>\n",
       "      <td>1.890000</td>\n",
       "      <td>2012-01-07 10:00:00</td>\n",
       "      <td>1.637524</td>\n",
       "      <td>5.0</td>\n",
       "      <td>1.718777</td>\n",
       "      <td>0.952726</td>\n",
       "      <td>1.800653</td>\n",
       "      <td>4</td>\n",
       "      <td>1</td>\n",
       "      <td>2.0</td>\n",
       "      <td>0.035519</td>\n",
       "    </tr>\n",
       "    <tr>\n",
       "      <th>8009</th>\n",
       "      <td>2012-01-07 10:04:00</td>\n",
       "      <td>no</td>\n",
       "      <td>1.549333</td>\n",
       "      <td>2012-01-07 10:00:00</td>\n",
       "      <td>1.637524</td>\n",
       "      <td>5.0</td>\n",
       "      <td>1.718777</td>\n",
       "      <td>0.952726</td>\n",
       "      <td>1.476090</td>\n",
       "      <td>4</td>\n",
       "      <td>1</td>\n",
       "      <td>2.0</td>\n",
       "      <td>0.035519</td>\n",
       "    </tr>\n",
       "  </tbody>\n",
       "</table>\n",
       "<p>4010 rows × 13 columns</p>\n",
       "</div>"
      ],
      "text/plain": [
       "                datetime pol       amt        datetime5min       Avg    N  \\\n",
       "4000 2012-01-03 20:25:00  no  0.364000 2012-01-03 20:25:00  0.256187  5.0   \n",
       "4001 2012-01-03 20:26:00  no  0.266667 2012-01-03 20:25:00  0.256187  5.0   \n",
       "4002 2012-01-03 20:27:00  no  0.189310 2012-01-03 20:25:00  0.256187  5.0   \n",
       "4003 2012-01-03 20:28:00  no  0.192000 2012-01-03 20:25:00  0.256187  5.0   \n",
       "4004 2012-01-03 20:29:00  no  0.322333 2012-01-03 20:25:00  0.256187  5.0   \n",
       "4005 2012-01-03 20:30:00  no  0.748621 2012-01-03 20:30:00  1.070199  5.0   \n",
       "4006 2012-01-03 20:31:00  no  1.176000 2012-01-03 20:30:00  1.070199  5.0   \n",
       "4007 2012-01-03 20:32:00  no  1.019167 2012-01-03 20:30:00  1.070199  5.0   \n",
       "4008 2012-01-03 20:33:00  no  1.301034 2012-01-03 20:30:00  1.070199  5.0   \n",
       "4009 2012-01-03 20:34:00  no  1.356000 2012-01-03 20:30:00  1.070199  5.0   \n",
       "4010 2012-01-03 20:35:00  no  0.280667 2012-01-03 20:35:00  0.106373  5.0   \n",
       "4011 2012-01-03 20:36:00  no  0.011724 2012-01-03 20:35:00  0.106373  5.0   \n",
       "4012 2012-01-03 20:37:00  no  0.007667 2012-01-03 20:35:00  0.106373  5.0   \n",
       "4013 2012-01-03 20:38:00  no  0.024000 2012-01-03 20:35:00  0.106373  5.0   \n",
       "4014 2012-01-03 20:39:00  no  0.225000 2012-01-03 20:35:00  0.106373  5.0   \n",
       "4015 2012-01-03 20:40:00  no  0.409655 2012-01-03 20:40:00  0.249797  5.0   \n",
       "4016 2012-01-03 20:41:00  no  0.210000 2012-01-03 20:40:00  0.249797  5.0   \n",
       "4017 2012-01-03 20:42:00  no  0.077333 2012-01-03 20:40:00  0.249797  5.0   \n",
       "4018 2012-01-03 20:43:00  no  0.153793 2012-01-03 20:40:00  0.249797  5.0   \n",
       "4019 2012-01-03 20:44:00  no  0.450000 2012-01-03 20:40:00  0.249797  5.0   \n",
       "4020 2012-01-03 20:45:00  no  1.287000 2012-01-03 20:45:00  2.459546  5.0   \n",
       "4021 2012-01-03 20:46:00  no  2.194138 2012-01-03 20:45:00  2.459546  5.0   \n",
       "4022 2012-01-03 20:47:00  no  2.796000 2012-01-03 20:45:00  2.459546  5.0   \n",
       "4023 2012-01-03 20:48:00  no  3.184167 2012-01-03 20:45:00  2.459546  5.0   \n",
       "4024 2012-01-03 20:49:00  no  3.421724 2012-01-03 20:45:00  2.459546  5.0   \n",
       "4025 2012-01-03 20:50:00  no  3.938000 2012-01-03 20:50:00  3.998795  5.0   \n",
       "4026 2012-01-03 20:51:00  no  4.519000 2012-01-03 20:50:00  3.998795  5.0   \n",
       "4027 2012-01-03 20:52:00  no  4.852069 2012-01-03 20:50:00  3.998795  5.0   \n",
       "4028 2012-01-03 20:53:00  no  4.414000 2012-01-03 20:50:00  3.998795  5.0   \n",
       "4029 2012-01-03 20:54:00  no  3.227933 2012-01-03 20:50:00  3.998795  5.0   \n",
       "...                  ...  ..       ...                 ...       ...  ...   \n",
       "7980 2012-01-07 09:35:00  no  1.810000 2012-01-07 09:35:00  1.810868  5.0   \n",
       "7981 2012-01-07 09:36:00  no  1.873333 2012-01-07 09:35:00  1.810868  5.0   \n",
       "7982 2012-01-07 09:37:00  no  1.966379 2012-01-07 09:35:00  1.810868  5.0   \n",
       "7983 2012-01-07 09:38:00  no  1.913000 2012-01-07 09:35:00  1.810868  5.0   \n",
       "7984 2012-01-07 09:39:00  no  1.943333 2012-01-07 09:35:00  1.810868  5.0   \n",
       "7985 2012-01-07 09:40:00  no  1.973333 2012-01-07 09:40:00  2.219852  5.0   \n",
       "7986 2012-01-07 09:41:00  no  2.559655 2012-01-07 09:40:00  2.219852  5.0   \n",
       "7987 2012-01-07 09:42:00  no  3.091667 2012-01-07 09:40:00  2.219852  5.0   \n",
       "7988 2012-01-07 09:43:00  no  2.346667 2012-01-07 09:40:00  2.219852  5.0   \n",
       "7989 2012-01-07 09:44:00  no  1.687241 2012-01-07 09:40:00  2.219852  5.0   \n",
       "7990 2012-01-07 09:45:00  no  1.449667 2012-01-07 09:45:00  1.212251  5.0   \n",
       "7991 2012-01-07 09:46:00  no  1.306667 2012-01-07 09:45:00  1.212251  5.0   \n",
       "7992 2012-01-07 09:47:00  no  1.237241 2012-01-07 09:45:00  1.212251  5.0   \n",
       "7993 2012-01-07 09:48:00  no  1.182000 2012-01-07 09:45:00  1.212251  5.0   \n",
       "7994 2012-01-07 09:49:00  no  1.180000 2012-01-07 09:45:00  1.212251  5.0   \n",
       "7995 2012-01-07 09:50:00  no  1.268621 2012-01-07 09:50:00  1.612520  5.0   \n",
       "7996 2012-01-07 09:51:00  no  1.531667 2012-01-07 09:50:00  1.612520  5.0   \n",
       "7997 2012-01-07 09:52:00  no  1.653667 2012-01-07 09:50:00  1.612520  5.0   \n",
       "7998 2012-01-07 09:53:00  no  1.970000 2012-01-07 09:50:00  1.612520  5.0   \n",
       "7999 2012-01-07 09:54:00  no  2.038276 2012-01-07 09:50:00  1.612520  5.0   \n",
       "8000 2012-01-07 09:55:00  no  1.888667 2012-01-07 09:55:00  1.436287  5.0   \n",
       "8001 2012-01-07 09:56:00  no  1.643333 2012-01-07 09:55:00  1.436287  5.0   \n",
       "8002 2012-01-07 09:57:00  no  1.467069 2012-01-07 09:55:00  1.436287  5.0   \n",
       "8003 2012-01-07 09:58:00  no  1.312333 2012-01-07 09:55:00  1.436287  5.0   \n",
       "8004 2012-01-07 09:59:00  no  1.223333 2012-01-07 09:55:00  1.436287  5.0   \n",
       "8005 2012-01-07 10:00:00  no  1.406552 2012-01-07 10:00:00  1.637524  5.0   \n",
       "8006 2012-01-07 10:01:00  no  1.738000 2012-01-07 10:00:00  1.637524  5.0   \n",
       "8007 2012-01-07 10:02:00  no  2.010000 2012-01-07 10:00:00  1.637524  5.0   \n",
       "8008 2012-01-07 10:03:00  no  1.890000 2012-01-07 10:00:00  1.637524  5.0   \n",
       "8009 2012-01-07 10:04:00  no  1.549333 2012-01-07 10:00:00  1.637524  5.0   \n",
       "\n",
       "       Avg1Min        cf     amt_c  season  day_night  weekday      prob  \n",
       "4000  0.266862  0.959996  0.349439       4          2      1.0  0.088798  \n",
       "4001  0.266862  0.959996  0.255999       4          2      1.0  0.088798  \n",
       "4002  0.266862  0.959996  0.181737       4          2      1.0  0.088798  \n",
       "4003  0.266862  0.959996  0.184319       4          2      1.0  0.088798  \n",
       "4004  0.266862  0.959996  0.309439       4          2      1.0  0.088798  \n",
       "4005  1.120164  0.955395  0.715228       4          2      1.0  0.088798  \n",
       "4006  1.120164  0.955395  1.123544       4          2      1.0  0.088798  \n",
       "4007  1.120164  0.955395  0.973707       4          2      1.0  0.088798  \n",
       "4008  1.120164  0.955395  1.243001       4          2      1.0  0.088798  \n",
       "4009  1.120164  0.955395  1.295515       4          2      1.0  0.088798  \n",
       "4010  0.109812  0.968692  0.271880       4          2      1.0  0.088798  \n",
       "4011  0.109812  0.968692  0.011357       4          2      1.0  0.088798  \n",
       "4012  0.109812  0.968692  0.007427       4          2      1.0  0.088798  \n",
       "4013  0.109812  0.968692  0.023249       4          2      1.0  0.088798  \n",
       "4014  0.109812  0.968692  0.217956       4          2      1.0  0.088798  \n",
       "4015  0.260156  0.960181  0.393343       4          2      1.0  0.088798  \n",
       "4016  0.260156  0.960181  0.201638       4          2      1.0  0.088798  \n",
       "4017  0.260156  0.960181  0.074254       4          2      1.0  0.088798  \n",
       "4018  0.260156  0.960181  0.147669       4          2      1.0  0.088798  \n",
       "4019  0.260156  0.960181  0.432081       4          2      1.0  0.088798  \n",
       "4020  2.576606  0.954568  1.228529       4          2      1.0  0.088798  \n",
       "4021  2.576606  0.954568  2.094454       4          2      1.0  0.088798  \n",
       "4022  2.576606  0.954568  2.668973       4          2      1.0  0.088798  \n",
       "4023  2.576606  0.954568  3.039505       4          2      1.0  0.088798  \n",
       "4024  2.576606  0.954568  3.266269       4          2      1.0  0.088798  \n",
       "4025  4.190200  0.954321  3.758115       4          2      1.0  0.088798  \n",
       "4026  4.190200  0.954321  4.312575       4          2      1.0  0.088798  \n",
       "4027  4.190200  0.954321  4.630430       4          2      1.0  0.088798  \n",
       "4028  4.190200  0.954321  4.212372       4          2      1.0  0.088798  \n",
       "4029  4.190200  0.954321  3.080483       4          2      1.0  0.088798  \n",
       "...        ...       ...       ...     ...        ...      ...       ...  \n",
       "7980  1.901209  0.952482  1.723993       4          1      2.0  0.035519  \n",
       "7981  1.901209  0.952482  1.784317       4          1      2.0  0.035519  \n",
       "7982  1.901209  0.952482  1.872941       4          1      2.0  0.035519  \n",
       "7983  1.901209  0.952482  1.822099       4          1      2.0  0.035519  \n",
       "7984  1.901209  0.952482  1.850990       4          1      2.0  0.035519  \n",
       "7985  2.331713  0.952026  1.878665       4          1      2.0  0.035519  \n",
       "7986  2.331713  0.952026  2.436859       4          1      2.0  0.035519  \n",
       "7987  2.331713  0.952026  2.943349       4          1      2.0  0.035519  \n",
       "7988  2.331713  0.952026  2.234089       4          1      2.0  0.035519  \n",
       "7989  2.331713  0.952026  1.606298       4          1      2.0  0.035519  \n",
       "7990  1.271115  0.953691  1.382534       4          1      2.0  0.035519  \n",
       "7991  1.271115  0.953691  1.246157       4          1      2.0  0.035519  \n",
       "7992  1.271115  0.953691  1.179946       4          1      2.0  0.035519  \n",
       "7993  1.271115  0.953691  1.127263       4          1      2.0  0.035519  \n",
       "7994  1.271115  0.953691  1.125355       4          1      2.0  0.035519  \n",
       "7995  1.692446  0.952775  1.208710       4          1      2.0  0.035519  \n",
       "7996  1.692446  0.952775  1.459334       4          1      2.0  0.035519  \n",
       "7997  1.692446  0.952775  1.575572       4          1      2.0  0.035519  \n",
       "7998  1.692446  0.952775  1.876966       4          1      2.0  0.035519  \n",
       "7999  1.692446  0.952775  1.942018       4          1      2.0  0.035519  \n",
       "8000  1.506947  0.953110  1.800108       4          1      2.0  0.035519  \n",
       "8001  1.506947  0.953110  1.566278       4          1      2.0  0.035519  \n",
       "8002  1.506947  0.953110  1.398279       4          1      2.0  0.035519  \n",
       "8003  1.506947  0.953110  1.250798       4          1      2.0  0.035519  \n",
       "8004  1.506947  0.953110  1.165972       4          1      2.0  0.035519  \n",
       "8005  1.718777  0.952726  1.340059       4          1      2.0  0.035519  \n",
       "8006  1.718777  0.952726  1.655838       4          1      2.0  0.035519  \n",
       "8007  1.718777  0.952726  1.914980       4          1      2.0  0.035519  \n",
       "8008  1.718777  0.952726  1.800653       4          1      2.0  0.035519  \n",
       "8009  1.718777  0.952726  1.476090       4          1      2.0  0.035519  \n",
       "\n",
       "[4010 rows x 13 columns]"
      ]
     },
     "execution_count": 466,
     "metadata": {},
     "output_type": "execute_result"
    }
   ],
   "source": [
    "merged[4000:8010]"
   ]
  },
  {
   "cell_type": "code",
   "execution_count": null,
   "metadata": {
    "collapsed": false
   },
   "outputs": [],
   "source": [
    "# Run simulations\n",
    "visits = [x+1 for x in range(600)]\n",
    "lengths = [1, 2, 3, 5, 10, 15, 30]\n",
    "# visits = [10, 20, 30, 40, 50, 60, 70, 80, 90, 100, 150, 200, 250, 300, 500]\n",
    "# lengths = [x+1 for x in range(15)]\n",
    "n = 20000\n",
    "results = {}\n",
    "for p in [\"no2\", \"bc\"]:\n",
    "    results[p] = []\n",
    "    pol = merged[merged[\"pol\"] == p]\n",
    "    data = [[ts.to_pydatetime() for ts in pol[\"datetime\"].tolist()],pol[\"amt\"].tolist()]\n",
    "    data_c = [[ts.to_pydatetime() for ts in pol[\"datetime\"].tolist()],pol[\"amt_c\"].tolist()]\n",
    "    for d in [data, data_c]:\n",
    "        simulationResults = 0\n",
    "        for i in range(n):\n",
    "            simulationResults = np.add(simulationResults,rand(d, visits, lengths)) \n",
    "        simulationRMSE = np.sqrt(np.divide(simulationResults,n))\n",
    "        results[p].append(simulationRMSE)"
   ]
  },
  {
   "cell_type": "code",
   "execution_count": null,
   "metadata": {
    "collapsed": true
   },
   "outputs": [],
   "source": [
    "# Run stratified simulations\n",
    "visits = [10, 20, 30, 40, 50, 60, 70, 80, 90, 100, 150, 200, 250, 300, 500]\n",
    "lengths = [x+1 for x in range(15)]\n",
    "n = 20000\n",
    "results_stratified = {}\n",
    "for season in [x+1 for x in range(4)]:\n",
    "    for day_night in [x+1 for x in range(2)]:\n",
    "        for weekday in [x+1 for x in range(2)]:\n",
    "            subset = merged[merged[\"season\"] == season and merged[\"day_night\"] == day_night and merged[\"weekday\"] == weekday]\n",
    "            for p in [\"no\", \"no2\", \"bc\"]:\n",
    "                results[p] = []\n",
    "                pol = subset[subset[\"pol\"] == p]\n",
    "                data = [[ts.to_pydatetime() for ts in pol[\"datetime\"].tolist()],pol[\"amt\"].tolist()]\n",
    "                data_c = [[ts.to_pydatetime() for ts in pol[\"datetime\"].tolist()],pol[\"amt_c\"].tolist()]\n",
    "                for d in [data, data_c]:\n",
    "                    simulationResults = 0\n",
    "                    for i in range(n):\n",
    "                        simulationResults = np.add(simulationResults,rand(d, visits, lengths)) \n",
    "                    simulationRMSE = np.sqrt(np.divide(simulationResults,n))\n",
    "                    results_stratified[p].append(simulationRMSE)            "
   ]
  },
  {
   "cell_type": "code",
   "execution_count": 296,
   "metadata": {
    "collapsed": true
   },
   "outputs": [],
   "source": [
    "results_pct = {}\n",
    "for p in [\"no\", \"no2\", \"bc\"]:\n",
    "    results_pct[p] = results[p][0]"
   ]
  },
  {
   "cell_type": "code",
   "execution_count": 297,
   "metadata": {
    "collapsed": true
   },
   "outputs": [],
   "source": [
    "results_pct[\"no\"] = results_pct[\"no\"]*(no_mean**-1)\n",
    "results_pct[\"no2\"] = results_pct[\"no2\"]*(no2_mean**-1)\n",
    "results_pct[\"bc\"] = results_pct[\"bc\"]*(bc_mean**-1)"
   ]
  },
  {
   "cell_type": "code",
   "execution_count": 39,
   "metadata": {
    "collapsed": false
   },
   "outputs": [],
   "source": [
    "bc_mean = np.mean([[ts.to_pydatetime() for ts in merged[merged[\"pol\"] == \"bc\"][\"datetime\"].tolist()],merged[merged[\"pol\"] == \"bc\"][\"amt\"].tolist()][1])\n",
    "no_mean = np.mean([[ts.to_pydatetime() for ts in merged[merged[\"pol\"] == \"no\"][\"datetime\"].tolist()],merged[merged[\"pol\"] == \"no\"][\"amt\"].tolist()][1])\n",
    "no2_mean = np.mean([[ts.to_pydatetime() for ts in merged[merged[\"pol\"] == \"no2\"][\"datetime\"].tolist()],merged[merged[\"pol\"] == \"no2\"][\"amt\"].tolist()][1])\n",
    "\n",
    "bc_std = np.std([[ts.to_pydatetime() for ts in merged[merged[\"pol\"] == \"bc\"][\"datetime\"].tolist()],merged[merged[\"pol\"] == \"bc\"][\"amt\"].tolist()][1])\n",
    "no_std = np.std([[ts.to_pydatetime() for ts in merged[merged[\"pol\"] == \"no\"][\"datetime\"].tolist()],merged[merged[\"pol\"] == \"no\"][\"amt\"].tolist()][1])\n",
    "no2_std = np.std([[ts.to_pydatetime() for ts in merged[merged[\"pol\"] == \"no2\"][\"datetime\"].tolist()],merged[merged[\"pol\"] == \"no2\"][\"amt\"].tolist()][1])"
   ]
  },
  {
   "cell_type": "code",
   "execution_count": 40,
   "metadata": {
    "collapsed": false
   },
   "outputs": [
    {
     "data": {
      "text/plain": [
       "((0.88304232255721671, 0.83638352735338062),\n",
       " (9.5803754641798609, 30.508419914380305),\n",
       " (5.3844408101777024, 4.7065210412029286))"
      ]
     },
     "execution_count": 40,
     "metadata": {},
     "output_type": "execute_result"
    }
   ],
   "source": [
    "((bc_mean, bc_std), (no_mean, no_std), (no2_mean, no2_std))"
   ]
  },
  {
   "cell_type": "code",
   "execution_count": 314,
   "metadata": {
    "collapsed": true
   },
   "outputs": [],
   "source": [
    "X = [x+1 for x in range(15)]\n",
    "Y = [10, 20, 30, 40, 50, 60, 70, 80, 90, 100, 150, 200, 250, 300, 500]\n",
    "X, Y = np.meshgrid(X, Y)\n",
    "Z = results_pct[\"bc\"]"
   ]
  },
  {
   "cell_type": "code",
   "execution_count": 342,
   "metadata": {
    "collapsed": false
   },
   "outputs": [
    {
     "data": {
      "image/png": "[encoded data removed]",
      "text/plain": [
       "<matplotlib.figure.Figure at 0x18d543da0>"
      ]
     },
     "metadata": {},
     "output_type": "display_data"
    }
   ],
   "source": [
    "levels = np.linspace(0.1, 0.4, 4)\n",
    "\n",
    "ax = plt.contour(X, Y, Z, levels=levels, colors='k')\n",
    "plt.clabel(ax, fontsize=9, inline=1)\n",
    "\n",
    "\n",
    "plt.show()"
   ]
  },
  {
   "cell_type": "code",
   "execution_count": null,
   "metadata": {
    "collapsed": true
   },
   "outputs": [],
   "source": []
  },
  {
   "cell_type": "code",
   "execution_count": 30,
   "metadata": {
    "collapsed": false
   },
   "outputs": [],
   "source": [
    "data1min[\"datetime\"] = pd.to_datetime(data1min[\"Date/Time[LST]\"], format='%m/%d/%Y %H:%M')\n",
    "data5min[\"datetime\"] = pd.to_datetime(data5min[\"Date/Time[LST]\"], format='%m/%d/%y %H:%M')\n",
    "data1min[\"nox\"] = data1min[\"NO [ppb]\"] + data1min[\"NO2 [ppb]\"]\n",
    "no = data1min[[\"datetime\", \"NO [ppb]\"]]\n",
    "no2 = data1min[[\"datetime\", \"NO2 [ppb]\"]]\n",
    "bc = data1min[[\"datetime\", \"BC [ug/m3]\"]]\n",
    "nox = data1min[[\"datetime\", \"NO [ppb]\", \"NO2 [ppb]\"]]\n",
    "# data1min = data1min.copy().rename(columns={\"NO [ppb]\": \"no\", \"NO2 [ppb]\": \"no2\", \"BC [ug/m3]\": \"bc\"})\n",
    "# data[\"bc\"] = data[\"pm\"].replace(\"<\", \"0\")"
   ]
  },
  {
   "cell_type": "code",
   "execution_count": 27,
   "metadata": {
    "collapsed": false
   },
   "outputs": [],
   "source": [
    "bc = bc.loc[bc[\"BC [ug/m3]\"] != \"Null\"]"
   ]
  },
  {
   "cell_type": "code",
   "execution_count": 28,
   "metadata": {
    "collapsed": true
   },
   "outputs": [],
   "source": [
    "bc[\"BC [ug/m3]\"] = bc[\"BC [ug/m3]\"].astype(float)"
   ]
  },
  {
   "cell_type": "code",
   "execution_count": 29,
   "metadata": {
    "collapsed": false
   },
   "outputs": [],
   "source": [
    "bc[\"BC [ug/m3]\"] = np.where(bc[\"BC [ug/m3]\"] < 0, 0, bc[\"BC [ug/m3]\"])"
   ]
  },
  {
   "cell_type": "code",
   "execution_count": 76,
   "metadata": {
    "collapsed": true
   },
   "outputs": [],
   "source": [
    "dates = bc[\"datetime\"].tolist()\n",
    "ugm3 = bc[\"BC [ug/m3]\"].tolist()"
   ]
  },
  {
   "cell_type": "code",
   "execution_count": 211,
   "metadata": {
    "collapsed": false
   },
   "outputs": [
    {
     "ename": "NameError",
     "evalue": "name 'ugm3' is not defined",
     "output_type": "error",
     "traceback": [
      "\u001b[0;31m---------------------------------------------------------------------------\u001b[0m",
      "\u001b[0;31mNameError\u001b[0m                                 Traceback (most recent call last)",
      "\u001b[0;32m<ipython-input-211-fa468d115eba>\u001b[0m in \u001b[0;36m<module>\u001b[0;34m()\u001b[0m\n\u001b[0;32m----> 1\u001b[0;31m \u001b[0mbc\u001b[0m \u001b[0;34m=\u001b[0m \u001b[0;34m[\u001b[0m\u001b[0;34m(\u001b[0m\u001b[0ma\u001b[0m\u001b[0;34m,\u001b[0m \u001b[0mb\u001b[0m\u001b[0;34m)\u001b[0m \u001b[0;32mfor\u001b[0m \u001b[0ma\u001b[0m \u001b[0;32min\u001b[0m \u001b[0mdates\u001b[0m \u001b[0;32mfor\u001b[0m \u001b[0mb\u001b[0m \u001b[0;32min\u001b[0m \u001b[0mugm3\u001b[0m\u001b[0;34m]\u001b[0m\u001b[0;34m\u001b[0m\u001b[0m\n\u001b[0m",
      "\u001b[0;32m<ipython-input-211-fa468d115eba>\u001b[0m in \u001b[0;36m<listcomp>\u001b[0;34m(.0)\u001b[0m\n\u001b[0;32m----> 1\u001b[0;31m \u001b[0mbc\u001b[0m \u001b[0;34m=\u001b[0m \u001b[0;34m[\u001b[0m\u001b[0;34m(\u001b[0m\u001b[0ma\u001b[0m\u001b[0;34m,\u001b[0m \u001b[0mb\u001b[0m\u001b[0;34m)\u001b[0m \u001b[0;32mfor\u001b[0m \u001b[0ma\u001b[0m \u001b[0;32min\u001b[0m \u001b[0mdates\u001b[0m \u001b[0;32mfor\u001b[0m \u001b[0mb\u001b[0m \u001b[0;32min\u001b[0m \u001b[0mugm3\u001b[0m\u001b[0;34m]\u001b[0m\u001b[0;34m\u001b[0m\u001b[0m\n\u001b[0m",
      "\u001b[0;31mNameError\u001b[0m: name 'ugm3' is not defined"
     ]
    }
   ],
   "source": [
    "bc = [(a, b) for a in dates for b in ugm3]"
   ]
  },
  {
   "cell_type": "code",
   "execution_count": 36,
   "metadata": {
    "collapsed": true
   },
   "outputs": [],
   "source": [
    "bc_list = [[ts.to_pydatetime() for ts in bc[\"datetime\"].tolist()],bc[\"BC [ug/m3]\"].tolist()]\n",
    "bc_tuple = [tuple(x) for x in bc.values]"
   ]
  },
  {
   "cell_type": "code",
   "execution_count": 63,
   "metadata": {
    "collapsed": false
   },
   "outputs": [
    {
     "data": {
      "text/plain": [
       "True"
      ]
     },
     "execution_count": 63,
     "metadata": {},
     "output_type": "execute_result"
    }
   ],
   "source": [
    "max(test)== min(test) + timedelta(minutes=len(test)-1)"
   ]
  },
  {
   "cell_type": "code",
   "execution_count": 62,
   "metadata": {
    "collapsed": false
   },
   "outputs": [],
   "source": [
    "test = [datetime(2012, 1, 1, 0, 1), datetime(2012, 1, 1, 0, 2), datetime(2012, 1, 1, 0, 3), datetime(2012, 1, 1, 0, 4)]"
   ]
  },
  {
   "cell_type": "code",
   "execution_count": 44,
   "metadata": {
    "collapsed": false
   },
   "outputs": [
    {
     "data": {
      "text/plain": [
       "array(['Null', 'A/v0/v1'], dtype=object)"
      ]
     },
     "execution_count": 44,
     "metadata": {},
     "output_type": "execute_result"
    }
   ],
   "source": [
    "data[\"Flags[CO]\"].unique()"
   ]
  },
  {
   "cell_type": "code",
   "execution_count": 2,
   "metadata": {
    "collapsed": false
   },
   "outputs": [],
   "source": [
    "data =  pd.read_csv(\"PMdata.csv\")\n",
    "\n",
    "data[\"pm\"] = data[\"pm\"].replace(\"<\", \"0\")\n",
    "data[\"pm\"] = data[\"pm\"].replace(\" \", \"0\")\n",
    "# data = data[data.pm.notnull()]\n",
    "data[\"pm\"] = data[\"pm\"].astype(float)\n",
    "\n",
    "data[\"datetime\"] = pd.to_datetime(data.datetime, format='%m/%d/%y %H:%M')\n",
    "\n",
    "data.set_index('datetime', inplace=True)\n",
    "\n",
    "data = data.ix[\"2014\"]\n",
    "data = data[~pd.isnull(data).any(axis=1)]\n",
    "\n",
    "pm = data.pm.tolist()"
   ]
  },
  {
   "cell_type": "code",
   "execution_count": 38,
   "metadata": {
    "collapsed": true
   },
   "outputs": [],
   "source": [
    "data.reset_index(inplace=True)"
   ]
  },
  {
   "cell_type": "code",
   "execution_count": 98,
   "metadata": {
    "collapsed": true
   },
   "outputs": [],
   "source": [
    "pm = data.pm.tolist()"
   ]
  },
  {
   "cell_type": "code",
   "execution_count": 80,
   "metadata": {
    "collapsed": false
   },
   "outputs": [
    {
     "data": {
      "text/plain": [
       "5.4"
      ]
     },
     "execution_count": 80,
     "metadata": {},
     "output_type": "execute_result"
    }
   ],
   "source": [
    "pm[8759]"
   ]
  },
  {
   "cell_type": "code",
   "execution_count": 70,
   "metadata": {
    "collapsed": false
   },
   "outputs": [
    {
     "data": {
      "text/plain": [
       "2576"
      ]
     },
     "execution_count": 70,
     "metadata": {},
     "output_type": "execute_result"
    }
   ],
   "source": [
    "random.randint(0,len(pm))"
   ]
  },
  {
   "cell_type": "code",
   "execution_count": 75,
   "metadata": {
    "collapsed": false
   },
   "outputs": [
    {
     "data": {
      "text/plain": [
       "3.2"
      ]
     },
     "execution_count": 75,
     "metadata": {},
     "output_type": "execute_result"
    }
   ],
   "source": [
    "pm.pop(2576)"
   ]
  },
  {
   "cell_type": "code",
   "execution_count": 189,
   "metadata": {
    "collapsed": false
   },
   "outputs": [
    {
     "data": {
      "text/plain": [
       "6.2765828571428566"
      ]
     },
     "execution_count": 189,
     "metadata": {},
     "output_type": "execute_result"
    }
   ],
   "source": [
    "np.mean(pm)"
   ]
  },
  {
   "cell_type": "code",
   "execution_count": 305,
   "metadata": {
    "collapsed": false
   },
   "outputs": [
    {
     "data": {
      "text/plain": [
       "8750"
      ]
     },
     "execution_count": 305,
     "metadata": {},
     "output_type": "execute_result"
    }
   ],
   "source": [
    "len(pm)"
   ]
  },
  {
   "cell_type": "code",
   "execution_count": 317,
   "metadata": {
    "collapsed": false
   },
   "outputs": [
    {
     "data": {
      "text/plain": [
       "[0, 1, 2, 3, 4, 5, 6, 7, 8, 9, 10, 11, 12, 13, 14]"
      ]
     },
     "execution_count": 317,
     "metadata": {},
     "output_type": "execute_result"
    }
   ],
   "source": [
    "[x+1 for x in range(15)]"
   ]
  },
  {
   "cell_type": "code",
   "execution_count": 87,
   "metadata": {
    "collapsed": true
   },
   "outputs": [],
   "source": [
    "# New Rand\n",
    "def rand(data, visits, lengths):\n",
    "    mean = np.mean(data[1])\n",
    "    results = []\n",
    "    for v in visits:\n",
    "        length_results = []\n",
    "        for l in lengths:\n",
    "            rchosen = []\n",
    "            vloop = v\n",
    "            s = []\n",
    "            while vloop > 0:\n",
    "                r = random.randint(0,len(data[1])-1)\n",
    "                if len(data[1]) < r + l:\n",
    "                        r = l - len(data[1])\n",
    "                # Ensure that only consecutive observations are chosen for each group of consecutive visits\n",
    "                while (max(data[0][r:r+l]) != min(data[0][r:r+l]) + timedelta(minutes=len(data[0][r:r+l])-1)) or (r in rchosen or (r + l) in rchosen):\n",
    "                    r = random.randint(0,len(data[1])-1)\n",
    "                    if len(data[1]) < r + l:\n",
    "                        r = l - len(data[1])\n",
    "                for i in range(l):\n",
    "                    s.append(data[1][r])\n",
    "                vloop -= l\n",
    "            length_results.append((np.mean(s) - mean)**2)\n",
    "        results.append(length_results)\n",
    "    return results"
   ]
  },
  {
   "cell_type": "code",
   "execution_count": null,
   "metadata": {
    "collapsed": true
   },
   "outputs": [],
   "source": [
    "# Stratified Random Sampling\n",
    "\n",
    "summer = [4, 5, 6, 7, 8, 9]\n",
    "winter = [1, 2, 3, 10, 11, 12]\n",
    "\n",
    "weekend\n",
    "\n",
    "def strat_rand(data, visits, lengths):\n",
    "    mean = np.mean(data[1])\n",
    "    results = []\n",
    "    for v in visits:\n",
    "        length_results = []\n",
    "        for l in lengths:\n",
    "            rchosen = []\n",
    "            vloop = v\n",
    "            s = []\n",
    "            while vloop > 0:\n",
    "                r = random.randint(0,len(data[1])-1)\n",
    "                if len(data[1]) < r + l:\n",
    "                        r = l - len(data[1])\n",
    "                # Ensure that only consecutive observations are chosen for each group of consecutive visits\n",
    "                while (max(data[0][r:r+l]) != min(data[0][r:r+l]) + timedelta(minutes=len(data[0][r:r+l])-1)) or (r in rchosen or (r + l) in rchosen):\n",
    "                    r = random.randint(0,len(data[1])-1)\n",
    "                    if len(data[1]) < r + l:\n",
    "                        r = l - len(data[1])\n",
    "                for i in range(l):\n",
    "                    s.append(data[1][r])\n",
    "                vloop -= l\n",
    "            length_results.append((np.mean(s) - mean)**2)\n",
    "        results.append(length_results)\n",
    "    return results"
   ]
  },
  {
   "cell_type": "code",
   "execution_count": 79,
   "metadata": {
    "collapsed": false
   },
   "outputs": [],
   "source": [
    "# # Original Rand\n",
    "# def rand(data, visits, lengths):\n",
    "#     mean = np.mean(data[1])\n",
    "#     results = []\n",
    "#     for v in visits:\n",
    "#         length_results = []\n",
    "#         for l in lengths:\n",
    "#             times = data[0].copy()\n",
    "#             obs = data[1].copy()\n",
    "#             vloop = v\n",
    "#             s = []\n",
    "#             while vloop > 0:\n",
    "#                 r = random.randint(0,len(obs)-1)\n",
    "#                 if len(obs) < r + l:\n",
    "#                         r = l - len(obs)\n",
    "#                 # Ensure that only consecutive observations are chosen for each group of consecutive visits\n",
    "#                 while max(times[r:r+l]) != min(times[r:r+l]) + timedelta(minutes=len(times[r:r+l])-1):\n",
    "#                     r = random.randint(0,len(obs)-1)\n",
    "#                     if len(obs) < r + l:\n",
    "#                         r = l - len(obs)\n",
    "#                 for i in range(l):\n",
    "#                     s.append(obs.pop(r))\n",
    "#                 vloop -= l\n",
    "# #             length_results.append(abs(np.mean(s) - mean))\n",
    "#             length_results.append((np.mean(s) - mean)**2)\n",
    "#         results.append(length_results)\n",
    "#     return results"
   ]
  },
  {
   "cell_type": "code",
   "execution_count": 99,
   "metadata": {
    "collapsed": false
   },
   "outputs": [],
   "source": [
    "visits = [10, 20, 30, 40, 50, 60, 70, 80, 90, 100, 150, 200, 250, 300, 500]\n",
    "lengths = [x+1 for x in range(15)]\n",
    "simulationResults = 0\n",
    "n = 20000\n",
    "for i in range(n):\n",
    "    simulationResults = np.add(simulationResults,rand(bc_list, visits, lengths)) \n",
    "simulationRMSE = np.sqrt(np.divide(simulationResults,n))"
   ]
  },
  {
   "cell_type": "code",
   "execution_count": 79,
   "metadata": {
    "collapsed": false
   },
   "outputs": [],
   "source": [
    "# Run1:\n",
    "# visits = [10, 20, 30, 40, 50, 60, 70, 80, 90, 100, 150, 200, 250, 300, 500]\n",
    "# lengths = [x+1 for x in range(15)]\n",
    "\n",
    "# Run2:\n",
    "# visits = [10, 20, 30, 40, 50, 60, 70, 80, 90, 100, 150, 200, 250, 300, 500]\n",
    "# lengths = [x+1 for x in range(15)]\n",
    "\n",
    "# simulationResults = 0\n",
    "# n = 100a0\n",
    "# for i in range(n):\n",
    "#     simulationResults = np.add(simulationResults,rand(pm, visits, lengths)) \n",
    "# simulationRMSE = np.sqrt(np.divide(simulationResults,n))"
   ]
  },
  {
   "cell_type": "code",
   "execution_count": 271,
   "metadata": {
    "collapsed": false
   },
   "outputs": [],
   "source": [
    "with open('Jun3Random', 'wb') as fp:\n",
    "    pickle.dump(results, fp)\n",
    "# with open ('outfile', 'rb') as fp:\n",
    "#     itemlist = pickle.load(fp)"
   ]
  },
  {
   "cell_type": "code",
   "execution_count": 429,
   "metadata": {
    "collapsed": false
   },
   "outputs": [],
   "source": [
    "cmap = LinearSegmentedColormap.from_list('custom', \n",
    "                                             [(0,    '#5e4fa2'),\n",
    "                                              (0.1,'#3288bd'),\n",
    "                                              (0.2,'#66c2a5'),\n",
    "                                              (0.3,'#abdda4'),\n",
    "                                              (0.4,'#e6f598'),\n",
    "                                              (0.5,'#fee08b'),\n",
    "                                              (0.6,'#fdae61'),\n",
    "                                              (0.7,'#f46d43'),\n",
    "                                              (0.8,'#d53e4f'),\n",
    "                                              (1,'#9e0142')], N=10)"
   ]
  },
  {
   "cell_type": "code",
   "execution_count": 414,
   "metadata": {
    "collapsed": false
   },
   "outputs": [
    {
     "ename": "ValueError",
     "evalue": "Invalid RGBA argument: 0.1",
     "output_type": "error",
     "traceback": [
      "\u001b[0;31m---------------------------------------------------------------------------\u001b[0m",
      "\u001b[0;31mKeyError\u001b[0m                                  Traceback (most recent call last)",
      "\u001b[0;32m//anaconda/lib/python3.5/site-packages/matplotlib/colors.py\u001b[0m in \u001b[0;36mto_rgba\u001b[0;34m(c, alpha)\u001b[0m\n\u001b[1;32m    140\u001b[0m     \u001b[0;32mtry\u001b[0m\u001b[0;34m:\u001b[0m\u001b[0;34m\u001b[0m\u001b[0m\n\u001b[0;32m--> 141\u001b[0;31m         \u001b[0mrgba\u001b[0m \u001b[0;34m=\u001b[0m \u001b[0m_colors_full_map\u001b[0m\u001b[0;34m.\u001b[0m\u001b[0mcache\u001b[0m\u001b[0;34m[\u001b[0m\u001b[0mc\u001b[0m\u001b[0;34m,\u001b[0m \u001b[0malpha\u001b[0m\u001b[0;34m]\u001b[0m\u001b[0;34m\u001b[0m\u001b[0m\n\u001b[0m\u001b[1;32m    142\u001b[0m     \u001b[0;32mexcept\u001b[0m \u001b[0;34m(\u001b[0m\u001b[0mKeyError\u001b[0m\u001b[0;34m,\u001b[0m \u001b[0mTypeError\u001b[0m\u001b[0;34m)\u001b[0m\u001b[0;34m:\u001b[0m  \u001b[0;31m# Not in cache, or unhashable.\u001b[0m\u001b[0;34m\u001b[0m\u001b[0m\n",
      "\u001b[0;31mKeyError\u001b[0m: (0.1, None)",
      "\nDuring handling of the above exception, another exception occurred:\n",
      "\u001b[0;31mTypeError\u001b[0m                                 Traceback (most recent call last)",
      "\u001b[0;32m//anaconda/lib/python3.5/site-packages/matplotlib/colors.py\u001b[0m in \u001b[0;36m_to_rgba_no_colorcycle\u001b[0;34m(c, alpha)\u001b[0m\n\u001b[1;32m    191\u001b[0m     \u001b[0;32mtry\u001b[0m\u001b[0;34m:\u001b[0m\u001b[0;34m\u001b[0m\u001b[0m\n\u001b[0;32m--> 192\u001b[0;31m         \u001b[0mc\u001b[0m \u001b[0;34m=\u001b[0m \u001b[0mtuple\u001b[0m\u001b[0;34m(\u001b[0m\u001b[0mmap\u001b[0m\u001b[0;34m(\u001b[0m\u001b[0mfloat\u001b[0m\u001b[0;34m,\u001b[0m \u001b[0mc\u001b[0m\u001b[0;34m)\u001b[0m\u001b[0;34m)\u001b[0m\u001b[0;34m\u001b[0m\u001b[0m\n\u001b[0m\u001b[1;32m    193\u001b[0m     \u001b[0;32mexcept\u001b[0m \u001b[0mTypeError\u001b[0m\u001b[0;34m:\u001b[0m\u001b[0;34m\u001b[0m\u001b[0m\n",
      "\u001b[0;31mTypeError\u001b[0m: 'float' object is not iterable",
      "\nDuring handling of the above exception, another exception occurred:\n",
      "\u001b[0;31mValueError\u001b[0m                                Traceback (most recent call last)",
      "\u001b[0;32m<ipython-input-414-8961b93fb15e>\u001b[0m in \u001b[0;36m<module>\u001b[0;34m()\u001b[0m\n\u001b[1;32m      3\u001b[0m \u001b[0mcmap_name\u001b[0m \u001b[0;34m=\u001b[0m \u001b[0;34m'my_list'\u001b[0m\u001b[0;34m\u001b[0m\u001b[0m\n\u001b[1;32m      4\u001b[0m cm = LinearSegmentedColormap.from_list(\n\u001b[0;32m----> 5\u001b[0;31m         cmap_name, colors, N=n_bins)\n\u001b[0m",
      "\u001b[0;32m//anaconda/lib/python3.5/site-packages/matplotlib/colors.py\u001b[0m in \u001b[0;36mfrom_list\u001b[0;34m(name, colors, N, gamma)\u001b[0m\n\u001b[1;32m    684\u001b[0m         \u001b[0mcdict\u001b[0m \u001b[0;34m=\u001b[0m \u001b[0mdict\u001b[0m\u001b[0;34m(\u001b[0m\u001b[0mred\u001b[0m\u001b[0;34m=\u001b[0m\u001b[0;34m[\u001b[0m\u001b[0;34m]\u001b[0m\u001b[0;34m,\u001b[0m \u001b[0mgreen\u001b[0m\u001b[0;34m=\u001b[0m\u001b[0;34m[\u001b[0m\u001b[0;34m]\u001b[0m\u001b[0;34m,\u001b[0m \u001b[0mblue\u001b[0m\u001b[0;34m=\u001b[0m\u001b[0;34m[\u001b[0m\u001b[0;34m]\u001b[0m\u001b[0;34m,\u001b[0m \u001b[0malpha\u001b[0m\u001b[0;34m=\u001b[0m\u001b[0;34m[\u001b[0m\u001b[0;34m]\u001b[0m\u001b[0;34m)\u001b[0m\u001b[0;34m\u001b[0m\u001b[0m\n\u001b[1;32m    685\u001b[0m         \u001b[0;32mfor\u001b[0m \u001b[0mval\u001b[0m\u001b[0;34m,\u001b[0m \u001b[0mcolor\u001b[0m \u001b[0;32min\u001b[0m \u001b[0mzip\u001b[0m\u001b[0;34m(\u001b[0m\u001b[0mvals\u001b[0m\u001b[0;34m,\u001b[0m \u001b[0mcolors\u001b[0m\u001b[0;34m)\u001b[0m\u001b[0;34m:\u001b[0m\u001b[0;34m\u001b[0m\u001b[0m\n\u001b[0;32m--> 686\u001b[0;31m             \u001b[0mr\u001b[0m\u001b[0;34m,\u001b[0m \u001b[0mg\u001b[0m\u001b[0;34m,\u001b[0m \u001b[0mb\u001b[0m\u001b[0;34m,\u001b[0m \u001b[0ma\u001b[0m \u001b[0;34m=\u001b[0m \u001b[0mcolorConverter\u001b[0m\u001b[0;34m.\u001b[0m\u001b[0mto_rgba\u001b[0m\u001b[0;34m(\u001b[0m\u001b[0mcolor\u001b[0m\u001b[0;34m)\u001b[0m\u001b[0;34m\u001b[0m\u001b[0m\n\u001b[0m\u001b[1;32m    687\u001b[0m             \u001b[0mcdict\u001b[0m\u001b[0;34m[\u001b[0m\u001b[0;34m'red'\u001b[0m\u001b[0;34m]\u001b[0m\u001b[0;34m.\u001b[0m\u001b[0mappend\u001b[0m\u001b[0;34m(\u001b[0m\u001b[0;34m(\u001b[0m\u001b[0mval\u001b[0m\u001b[0;34m,\u001b[0m \u001b[0mr\u001b[0m\u001b[0;34m,\u001b[0m \u001b[0mr\u001b[0m\u001b[0;34m)\u001b[0m\u001b[0;34m)\u001b[0m\u001b[0;34m\u001b[0m\u001b[0m\n\u001b[1;32m    688\u001b[0m             \u001b[0mcdict\u001b[0m\u001b[0;34m[\u001b[0m\u001b[0;34m'green'\u001b[0m\u001b[0;34m]\u001b[0m\u001b[0;34m.\u001b[0m\u001b[0mappend\u001b[0m\u001b[0;34m(\u001b[0m\u001b[0;34m(\u001b[0m\u001b[0mval\u001b[0m\u001b[0;34m,\u001b[0m \u001b[0mg\u001b[0m\u001b[0;34m,\u001b[0m \u001b[0mg\u001b[0m\u001b[0;34m)\u001b[0m\u001b[0;34m)\u001b[0m\u001b[0;34m\u001b[0m\u001b[0m\n",
      "\u001b[0;32m//anaconda/lib/python3.5/site-packages/matplotlib/colors.py\u001b[0m in \u001b[0;36mto_rgba\u001b[0;34m(arg, alpha)\u001b[0m\n\u001b[1;32m    320\u001b[0m         \u001b[0;34m*\u001b[0m\u001b[0malpha\u001b[0m\u001b[0;34m*\u001b[0m \u001b[0mwill\u001b[0m \u001b[0mreplace\u001b[0m \u001b[0mthe\u001b[0m \u001b[0moriginal\u001b[0m \u001b[0;34m*\u001b[0m\u001b[0mA\u001b[0m\u001b[0;34m*\u001b[0m\u001b[0;34m.\u001b[0m\u001b[0;34m\u001b[0m\u001b[0m\n\u001b[1;32m    321\u001b[0m         \"\"\"\n\u001b[0;32m--> 322\u001b[0;31m         \u001b[0;32mreturn\u001b[0m \u001b[0mto_rgba\u001b[0m\u001b[0;34m(\u001b[0m\u001b[0marg\u001b[0m\u001b[0;34m,\u001b[0m \u001b[0malpha\u001b[0m\u001b[0;34m)\u001b[0m\u001b[0;34m\u001b[0m\u001b[0m\n\u001b[0m\u001b[1;32m    323\u001b[0m \u001b[0;34m\u001b[0m\u001b[0m\n\u001b[1;32m    324\u001b[0m     \u001b[0;34m@\u001b[0m\u001b[0mstaticmethod\u001b[0m\u001b[0;34m\u001b[0m\u001b[0m\n",
      "\u001b[0;32m//anaconda/lib/python3.5/site-packages/matplotlib/colors.py\u001b[0m in \u001b[0;36mto_rgba\u001b[0;34m(c, alpha)\u001b[0m\n\u001b[1;32m    141\u001b[0m         \u001b[0mrgba\u001b[0m \u001b[0;34m=\u001b[0m \u001b[0m_colors_full_map\u001b[0m\u001b[0;34m.\u001b[0m\u001b[0mcache\u001b[0m\u001b[0;34m[\u001b[0m\u001b[0mc\u001b[0m\u001b[0;34m,\u001b[0m \u001b[0malpha\u001b[0m\u001b[0;34m]\u001b[0m\u001b[0;34m\u001b[0m\u001b[0m\n\u001b[1;32m    142\u001b[0m     \u001b[0;32mexcept\u001b[0m \u001b[0;34m(\u001b[0m\u001b[0mKeyError\u001b[0m\u001b[0;34m,\u001b[0m \u001b[0mTypeError\u001b[0m\u001b[0;34m)\u001b[0m\u001b[0;34m:\u001b[0m  \u001b[0;31m# Not in cache, or unhashable.\u001b[0m\u001b[0;34m\u001b[0m\u001b[0m\n\u001b[0;32m--> 143\u001b[0;31m         \u001b[0mrgba\u001b[0m \u001b[0;34m=\u001b[0m \u001b[0m_to_rgba_no_colorcycle\u001b[0m\u001b[0;34m(\u001b[0m\u001b[0mc\u001b[0m\u001b[0;34m,\u001b[0m \u001b[0malpha\u001b[0m\u001b[0;34m)\u001b[0m\u001b[0;34m\u001b[0m\u001b[0m\n\u001b[0m\u001b[1;32m    144\u001b[0m         \u001b[0;32mtry\u001b[0m\u001b[0;34m:\u001b[0m\u001b[0;34m\u001b[0m\u001b[0m\n\u001b[1;32m    145\u001b[0m             \u001b[0m_colors_full_map\u001b[0m\u001b[0;34m.\u001b[0m\u001b[0mcache\u001b[0m\u001b[0;34m[\u001b[0m\u001b[0mc\u001b[0m\u001b[0;34m,\u001b[0m \u001b[0malpha\u001b[0m\u001b[0;34m]\u001b[0m \u001b[0;34m=\u001b[0m \u001b[0mrgba\u001b[0m\u001b[0;34m\u001b[0m\u001b[0m\n",
      "\u001b[0;32m//anaconda/lib/python3.5/site-packages/matplotlib/colors.py\u001b[0m in \u001b[0;36m_to_rgba_no_colorcycle\u001b[0;34m(c, alpha)\u001b[0m\n\u001b[1;32m    192\u001b[0m         \u001b[0mc\u001b[0m \u001b[0;34m=\u001b[0m \u001b[0mtuple\u001b[0m\u001b[0;34m(\u001b[0m\u001b[0mmap\u001b[0m\u001b[0;34m(\u001b[0m\u001b[0mfloat\u001b[0m\u001b[0;34m,\u001b[0m \u001b[0mc\u001b[0m\u001b[0;34m)\u001b[0m\u001b[0;34m)\u001b[0m\u001b[0;34m\u001b[0m\u001b[0m\n\u001b[1;32m    193\u001b[0m     \u001b[0;32mexcept\u001b[0m \u001b[0mTypeError\u001b[0m\u001b[0;34m:\u001b[0m\u001b[0;34m\u001b[0m\u001b[0m\n\u001b[0;32m--> 194\u001b[0;31m         \u001b[0;32mraise\u001b[0m \u001b[0mValueError\u001b[0m\u001b[0;34m(\u001b[0m\u001b[0;34m\"Invalid RGBA argument: {!r}\"\u001b[0m\u001b[0;34m.\u001b[0m\u001b[0mformat\u001b[0m\u001b[0;34m(\u001b[0m\u001b[0morig_c\u001b[0m\u001b[0;34m)\u001b[0m\u001b[0;34m)\u001b[0m\u001b[0;34m\u001b[0m\u001b[0m\n\u001b[0m\u001b[1;32m    195\u001b[0m     \u001b[0;32mif\u001b[0m \u001b[0mlen\u001b[0m\u001b[0;34m(\u001b[0m\u001b[0mc\u001b[0m\u001b[0;34m)\u001b[0m \u001b[0;32mnot\u001b[0m \u001b[0;32min\u001b[0m \u001b[0;34m[\u001b[0m\u001b[0;36m3\u001b[0m\u001b[0;34m,\u001b[0m \u001b[0;36m4\u001b[0m\u001b[0;34m]\u001b[0m\u001b[0;34m:\u001b[0m\u001b[0;34m\u001b[0m\u001b[0m\n\u001b[1;32m    196\u001b[0m         \u001b[0;32mraise\u001b[0m \u001b[0mValueError\u001b[0m\u001b[0;34m(\u001b[0m\u001b[0;34m\"RGBA sequence should have length 3 or 4\"\u001b[0m\u001b[0;34m)\u001b[0m\u001b[0;34m\u001b[0m\u001b[0m\n",
      "\u001b[0;31mValueError\u001b[0m: Invalid RGBA argument: 0.1"
     ]
    }
   ],
   "source": [
    "colors = [((204, 229, 255),0.1), ((0, 76, 153),0.1)]  # R -> G -> B\n",
    "n_bins = 10  # Discretizes the interpolation into bins\n",
    "cmap_name = 'my_list'\n",
    "cm = LinearSegmentedColormap.from_list(\n",
    "        cmap_name, colors, N=n_bins)"
   ]
  },
  {
   "cell_type": "code",
   "execution_count": 465,
   "metadata": {
    "collapsed": false
   },
   "outputs": [
    {
     "data": {
      "image/png": "[encoded data removed]",
      "text/plain": [
       "<matplotlib.figure.Figure at 0x1a82d4940>"
      ]
     },
     "metadata": {},
     "output_type": "display_data"
    }
   ],
   "source": [
    "# ax = plt.subplots(figsize=(20, 10))\n",
    "ax = sns.heatmap(results_pct[\"bc\"]*100, vmin=0, vmax=100, cmap=cmap, cbar_kws={'label': 'Percent Error'})\n",
    "ax.invert_yaxis()\n",
    "ax.set_xticklabels(lengths)\n",
    "ax.set_yticklabels(list(reversed(visits)))\n",
    "ax.set_xlabel('Consecutive Minutes')\n",
    "ax.set_ylabel('Total Minutes')\n",
    "for item in ax.get_yticklabels():\n",
    "    item.set_rotation(0)\n",
    "ax.get_figure().savefig(\"bc.png\", dpi=400)"
   ]
  },
  {
   "cell_type": "code",
   "execution_count": 464,
   "metadata": {
    "collapsed": false
   },
   "outputs": [
    {
     "data": {
      "image/png": "[encoded data removed]",
      "text/plain": [
       "<matplotlib.figure.Figure at 0x185da9128>"
      ]
     },
     "metadata": {},
     "output_type": "display_data"
    }
   ],
   "source": [
    "# ax = plt.subplots(figsize=(20, 10))\n",
    "ax = sns.heatmap(results_pct[\"no2\"]*100, vmin=0, vmax=100, cmap=cmap, cbar_kws={'label': 'Percent Error'})\n",
    "ax.invert_yaxis()\n",
    "ax.set_xticklabels(lengths)\n",
    "ax.set_yticklabels(list(reversed(visits)))\n",
    "ax.set_xlabel('Consecutive Minutes')\n",
    "ax.set_ylabel('Total Minutes')\n",
    "for item in ax.get_yticklabels():\n",
    "    item.set_rotation(0)\n",
    "ax.get_figure().savefig(\"no2.png\", dpi=400)"
   ]
  },
  {
   "cell_type": "code",
   "execution_count": 454,
   "metadata": {
    "collapsed": false
   },
   "outputs": [
    {
     "data": {
      "text/plain": [
       "array([[  29.87665941,   42.50138609,   47.90385097,   55.04506517,\n",
       "          68.58359204,   67.85870028,   68.3947337 ,   68.01124336,\n",
       "          70.25316788,   95.13961485,   96.26481758,   99.53419644,\n",
       "          98.17032789,   99.1749212 ,  100.4674221 ],\n",
       "       [  21.29609642,   30.22239347,   36.02991073,   42.92035627,\n",
       "          47.84565145,   48.13037415,   55.8652271 ,   55.92253135,\n",
       "          56.18376163,   69.32854372,   70.05685344,   68.88709871,\n",
       "          69.38548017,   69.7297776 ,   70.2956375 ],\n",
       "       [  17.38730333,   24.51754996,   29.90416377,   33.73821191,\n",
       "          39.6518725 ,   42.97885027,   42.4260839 ,   48.88168405,\n",
       "          48.64048349,   56.5518866 ,   55.30733071,   57.12686393,\n",
       "          57.44803093,   59.12174465,   70.19221671],\n",
       "       [  14.9932035 ,   21.10297251,   25.44867415,   30.43878646,\n",
       "          33.83980248,   36.76993156,   39.46080478,   43.16218221,\n",
       "          43.76526852,   48.89262883,   48.86659181,   49.54571482,\n",
       "          50.02622061,   57.7890047 ,   57.86216041],\n",
       "       [  13.29879691,   19.18144992,   23.08119794,   26.35991284,\n",
       "          30.8167497 ,   32.00265292,   34.60329169,   36.99957898,\n",
       "          39.99020292,   44.21592546,   44.42398678,   43.92708411,\n",
       "          49.54624814,   50.02353945,   50.2615435 ],\n",
       "       [  12.2640528 ,   17.48777434,   21.37697948,   25.01593022,\n",
       "          27.55423609,   30.96869855,   32.31109025,   34.78939423,\n",
       "          37.02815788,   39.98565113,   40.71225354,   44.21963838,\n",
       "          45.59889753,   45.1617795 ,   49.75021928],\n",
       "       [  11.31768859,   16.13908366,   19.44993261,   22.655432  ,\n",
       "          26.17903376,   27.99161142,   30.85478622,   32.70107276,\n",
       "          34.57068154,   37.32586513,   37.43674632,   40.60747816,\n",
       "          41.49820742,   45.0031877 ,   44.93075859],\n",
       "       [  10.60616352,   15.09153276,   18.64496895,   21.80524107,\n",
       "          24.10768155,   25.76814003,   28.44731866,   30.71192494,\n",
       "          32.32609588,   35.2750423 ,   35.46893599,   37.46622716,\n",
       "          38.0364823 ,   40.98583559,   40.6819945 ],\n",
       "       [  10.02030689,   14.15412377,   17.38231381,   19.7725429 ,\n",
       "          22.75456099,   25.11157676,   26.65088685,   28.12301741,\n",
       "          31.28300119,   33.30762102,   33.06697324,   35.24848865,\n",
       "          37.91251994,   38.54936579,   40.85807714],\n",
       "       [   9.39259671,   13.27186986,   16.42016316,   18.99635532,\n",
       "          21.54953808,   23.63902221,   25.17156597,   27.01466363,\n",
       "          28.88524058,   31.01211673,   31.76739901,   33.8265963 ,\n",
       "          35.15684095,   35.53136916,   37.71791362],\n",
       "       [   7.73317455,   10.90388923,   13.54247102,   15.63801236,\n",
       "          17.57678651,   19.64216728,   20.99099059,   22.61009755,\n",
       "          24.41249424,   26.01411466,   26.96905227,   28.23866211,\n",
       "          29.14479004,   30.9523315 ,   32.84909187],\n",
       "       [   6.73223279,    9.47800798,   11.69163529,   13.6836526 ,\n",
       "          15.51885684,   16.88869015,   18.29783954,   19.80017384,\n",
       "          20.84560814,   22.52589744,   23.26486429,   24.86637057,\n",
       "          25.65916882,   26.6841445 ,   27.63095579],\n",
       "       [   5.94642977,    8.54269644,   10.42385978,   12.19838884,\n",
       "          13.82531857,   15.27426933,   16.55861546,   17.65489615,\n",
       "          19.14168394,   20.24780366,   21.61330677,   22.22458516,\n",
       "          23.14981068,   24.65078415,   25.17527433],\n",
       "       [   5.50066616,    7.66999061,    9.61458659,   11.23762056,\n",
       "          12.63922025,   13.93738978,   15.13481783,   16.16121956,\n",
       "          17.33413051,   18.51971937,   19.48023249,   20.62738471,\n",
       "          21.2116283 ,   22.57559265,   23.56899869],\n",
       "       [   4.21820296,    6.00923129,    7.44447074,    8.70740678,\n",
       "          10.02088634,   10.98675234,   11.93271429,   12.8469627 ,\n",
       "          13.86154358,   14.91748861,   15.70569844,   16.39329039,\n",
       "          17.33424089,   18.23957691,   18.67072637]])"
      ]
     },
     "execution_count": 454,
     "metadata": {},
     "output_type": "execute_result"
    }
   ],
   "source": [
    "results_pct[\"bc\"]*100"
   ]
  },
  {
   "cell_type": "code",
   "execution_count": 251,
   "metadata": {
    "collapsed": false
   },
   "outputs": [],
   "source": [
    "test[0].get_figure().savefig(\"output.png\", dpi=400)"
   ]
  },
  {
   "cell_type": "code",
   "execution_count": 71,
   "metadata": {
    "collapsed": false
   },
   "outputs": [
    {
     "data": {
      "text/plain": [
       "array([[ 1.9   ,  4.3   ],\n",
       "       [ 3.0594,  3.3375]])"
      ]
     },
     "execution_count": 71,
     "metadata": {},
     "output_type": "execute_result"
    }
   ],
   "source": [
    "np.divide(simulationResults[0], 2)"
   ]
  },
  {
   "cell_type": "code",
   "execution_count": 70,
   "metadata": {
    "collapsed": false
   },
   "outputs": [
    {
     "data": {
      "text/plain": [
       "[[3.7999999999999998, 8.6000000000000014],\n",
       " [6.1188000000000002, 6.6749999999999998]]"
      ]
     },
     "execution_count": 70,
     "metadata": {},
     "output_type": "execute_result"
    }
   ],
   "source": [
    "simulationResults[0]"
   ]
  },
  {
   "cell_type": "code",
   "execution_count": 66,
   "metadata": {
    "collapsed": false
   },
   "outputs": [
    {
     "data": {
      "text/plain": [
       "[[6.2000000000000002, 1.8999999999999999],\n",
       " [6.3973999999999993, 6.8287999999999993]]"
      ]
     },
     "execution_count": 66,
     "metadata": {},
     "output_type": "execute_result"
    }
   ],
   "source": [
    "simulationResults[1]"
   ]
  },
  {
   "cell_type": "code",
   "execution_count": 58,
   "metadata": {
    "collapsed": false
   },
   "outputs": [
    {
     "data": {
      "text/plain": [
       "[<matplotlib.text.Text at 0x115011400>, <matplotlib.text.Text at 0x114ffc6d8>]"
      ]
     },
     "execution_count": 58,
     "metadata": {},
     "output_type": "execute_result"
    },
    {
     "data": {
      "image/png": "[encoded data removed]",
      "text/plain": [
       "<matplotlib.figure.Figure at 0x114f32080>"
      ]
     },
     "metadata": {},
     "output_type": "display_data"
    }
   ],
   "source": [
    "randTest = rand(pm, [2, 500], [1, 2])\n",
    "# randTest = rand(pm, [10, 20, 30, 40, 50, 60, 70, 80, 90, 100, 150, 200, 250, 300, 500], [x+1 for x in range(15)])\n",
    "\n",
    "# randTest, s = rand(pm, [1], [1000])\n",
    "# df = pd.DataFrame(s)\n",
    "# df.hist()\n",
    "\n",
    "# sns.color_palette(\"Paired\", as_cmap=True)\n",
    "# cmap = sns.diverging_palette(240, 10, n=9, as_cmap=True)\n",
    "# sns.choose_diverging_palette()\n",
    "# cmap = sns.color_palette(240, 10, n=9, cmap=True)\n",
    "ax = sns.heatmap(randTest, cmap=\"Accent\")\n",
    "ax.invert_yaxis()\n",
    "ax.set_xticklabels([1, 2])\n",
    "ax.set_yticklabels([500, 2])"
   ]
  },
  {
   "cell_type": "code",
   "execution_count": 59,
   "metadata": {
    "collapsed": false
   },
   "outputs": [
    {
     "data": {
      "text/plain": [
       "[[3.8499999999999996, 5.8499999999999996],\n",
       " [6.5226000000000006, 6.0839999999999996]]"
      ]
     },
     "execution_count": 59,
     "metadata": {},
     "output_type": "execute_result"
    }
   ],
   "source": [
    "randTest"
   ]
  },
  {
   "cell_type": "code",
   "execution_count": null,
   "metadata": {
    "collapsed": true
   },
   "outputs": [],
   "source": [
    "data.drop([0])"
   ]
  },
  {
   "cell_type": "code",
   "execution_count": 50,
   "metadata": {
    "collapsed": false
   },
   "outputs": [
    {
     "data": {
      "text/plain": [
       "[500, 2]"
      ]
     },
     "execution_count": 50,
     "metadata": {},
     "output_type": "execute_result"
    }
   ],
   "source": [
    "list(reversed([2, 500]))"
   ]
  },
  {
   "cell_type": "code",
   "execution_count": null,
   "metadata": {
    "collapsed": true
   },
   "outputs": [],
   "source": []
  },
  {
   "cell_type": "code",
   "execution_count": 161,
   "metadata": {
    "collapsed": false
   },
   "outputs": [],
   "source": [
    "annualAvg = np.mean(data.pm)"
   ]
  },
  {
   "cell_type": "code",
   "execution_count": 162,
   "metadata": {
    "collapsed": false
   },
   "outputs": [
    {
     "data": {
      "text/plain": [
       "6.276582857142844"
      ]
     },
     "execution_count": 162,
     "metadata": {},
     "output_type": "execute_result"
    }
   ],
   "source": [
    "annualAvg"
   ]
  },
  {
   "cell_type": "code",
   "execution_count": 9,
   "metadata": {
    "collapsed": false
   },
   "outputs": [
    {
     "data": {
      "text/plain": [
       "8760"
      ]
     },
     "execution_count": 9,
     "metadata": {},
     "output_type": "execute_result"
    }
   ],
   "source": [
    "len(data.pm)"
   ]
  },
  {
   "cell_type": "code",
   "execution_count": 245,
   "metadata": {
    "collapsed": true
   },
   "outputs": [],
   "source": [
    "sampleAvg = np.mean(data.take(np.random.permutation(len(data))[:1000]).pm)"
   ]
  },
  {
   "cell_type": "code",
   "execution_count": 246,
   "metadata": {
    "collapsed": false
   },
   "outputs": [
    {
     "data": {
      "text/plain": [
       "6.113299999999991"
      ]
     },
     "execution_count": 246,
     "metadata": {},
     "output_type": "execute_result"
    }
   ],
   "source": [
    "sampleAvg"
   ]
  },
  {
   "cell_type": "code",
   "execution_count": 15,
   "metadata": {
    "collapsed": false
   },
   "outputs": [],
   "source": [
    "sampleAvg = np.mean(data.take(np.random.permutation(len(data))[:5]).pm)\n",
    "sampleAvgs = []\n",
    "for i in range(1000):\n",
    "    sampleAvgs.append(np.mean(data.take(np.random.permutation(len(data))[:5]).pm))"
   ]
  },
  {
   "cell_type": "code",
   "execution_count": 13,
   "metadata": {
    "collapsed": false
   },
   "outputs": [
    {
     "data": {
      "text/plain": [
       "datetime\n",
       "2014-10-27 09:00:00    10.5\n",
       "2014-01-25 17:00:00     5.2\n",
       "2014-12-19 13:00:00     1.7\n",
       "2014-07-24 12:00:00     3.3\n",
       "2014-03-27 07:00:00     1.5\n",
       "Name: pm, dtype: float64"
      ]
     },
     "execution_count": 13,
     "metadata": {},
     "output_type": "execute_result"
    }
   ],
   "source": [
    "data.take(np.random.permutation(len(data))[:5]).pm"
   ]
  },
  {
   "cell_type": "code",
   "execution_count": 14,
   "metadata": {
    "collapsed": false
   },
   "outputs": [
    {
     "data": {
      "text/plain": [
       "datetime\n",
       "2014-01-01 06:00:00     8.2\n",
       "2014-02-08 04:00:00     3.2\n",
       "2014-07-29 08:00:00     4.2\n",
       "2014-08-23 08:00:00    10.9\n",
       "2014-04-18 16:00:00     3.1\n",
       "Name: pm, dtype: float64"
      ]
     },
     "execution_count": 14,
     "metadata": {},
     "output_type": "execute_result"
    }
   ],
   "source": [
    "data.sample(n=5).pm"
   ]
  },
  {
   "cell_type": "code",
   "execution_count": 16,
   "metadata": {
    "collapsed": false
   },
   "outputs": [],
   "source": [
    "sampleAvgs2 = []\n",
    "for i in range(1000):\n",
    "    sampleAvgs2.append(np.mean(data.sample(n=5).pm))"
   ]
  },
  {
   "cell_type": "code",
   "execution_count": null,
   "metadata": {
    "collapsed": true
   },
   "outputs": [],
   "source": []
  },
  {
   "cell_type": "code",
   "execution_count": 17,
   "metadata": {
    "collapsed": false
   },
   "outputs": [
    {
     "data": {
      "text/plain": [
       "array([[<matplotlib.axes._subplots.AxesSubplot object at 0x10db51470>]], dtype=object)"
      ]
     },
     "execution_count": 17,
     "metadata": {},
     "output_type": "execute_result"
    },
    {
     "data": {
      "image/png": "[encoded data removed]",
      "text/plain": [
       "<matplotlib.figure.Figure at 0x10db2feb8>"
      ]
     },
     "metadata": {},
     "output_type": "display_data"
    }
   ],
   "source": [
    "df2 = pd.DataFrame(sampleAvgs2)\n",
    "df2.hist()"
   ]
  },
  {
   "cell_type": "code",
   "execution_count": 18,
   "metadata": {
    "collapsed": false
   },
   "outputs": [
    {
     "data": {
      "text/plain": [
       "array([[<matplotlib.axes._subplots.AxesSubplot object at 0x10d2e6128>]], dtype=object)"
      ]
     },
     "execution_count": 18,
     "metadata": {},
     "output_type": "execute_result"
    },
    {
     "data": {
      "image/png": "[encoded data removed]",
      "text/plain": [
       "<matplotlib.figure.Figure at 0x10dada9e8>"
      ]
     },
     "metadata": {},
     "output_type": "display_data"
    }
   ],
   "source": [
    "df = pd.DataFrame(sampleAvgs)\n",
    "df.hist()"
   ]
  },
  {
   "cell_type": "code",
   "execution_count": 3,
   "metadata": {
    "collapsed": false
   },
   "outputs": [],
   "source": [
    "uniform_data = np.random.rand(10, 12)"
   ]
  },
  {
   "cell_type": "code",
   "execution_count": 4,
   "metadata": {
    "collapsed": false
   },
   "outputs": [
    {
     "data": {
      "text/plain": [
       "array([[ 0.97802044,  0.50138008,  0.12037897,  0.02188043,  0.85461811,\n",
       "         0.8217014 ,  0.13127829,  0.16098051,  0.38067068,  0.69237515,\n",
       "         0.81130553,  0.73751703],\n",
       "       [ 0.82066353,  0.1616369 ,  0.0882263 ,  0.52551445,  0.76683675,\n",
       "         0.78055372,  0.3109151 ,  0.90991658,  0.74870347,  0.70478773,\n",
       "         0.00833904,  0.23969491],\n",
       "       [ 0.92101222,  0.12298682,  0.41809457,  0.78242087,  0.77436766,\n",
       "         0.46443669,  0.16543257,  0.3019539 ,  0.49202781,  0.03155179,\n",
       "         0.18614536,  0.90085184],\n",
       "       [ 0.50421279,  0.78808387,  0.30945059,  0.66593542,  0.26140491,\n",
       "         0.64641729,  0.93061068,  0.18703038,  0.77889126,  0.38466413,\n",
       "         0.53435187,  0.39894999],\n",
       "       [ 0.53275317,  0.52586636,  0.72418005,  0.02611774,  0.55613439,\n",
       "         0.47662244,  0.33559134,  0.0167529 ,  0.26449919,  0.44152902,\n",
       "         0.93267666,  0.70699767],\n",
       "       [ 0.90854977,  0.26089401,  0.74878386,  0.72763483,  0.66120846,\n",
       "         0.30294625,  0.55594599,  0.96255676,  0.65193805,  0.83244803,\n",
       "         0.60889984,  0.34657991],\n",
       "       [ 0.40866326,  0.14053442,  0.66350748,  0.21162458,  0.11632671,\n",
       "         0.65595254,  0.76046312,  0.76878681,  0.33925221,  0.34456696,\n",
       "         0.67990248,  0.78774347],\n",
       "       [ 0.46759987,  0.81132337,  0.11545974,  0.5782572 ,  0.02140774,\n",
       "         0.28984809,  0.47852127,  0.03982555,  0.82773472,  0.32874139,\n",
       "         0.00806226,  0.20968312],\n",
       "       [ 0.93407597,  0.59276934,  0.28619823,  0.95629123,  0.82041414,\n",
       "         0.59615172,  0.65401093,  0.57309575,  0.42654047,  0.51760476,\n",
       "         0.63727745,  0.45057405],\n",
       "       [ 0.26017807,  0.29524962,  0.42804967,  0.78804635,  0.75601441,\n",
       "         0.08487268,  0.55539619,  0.88385399,  0.59517242,  0.10777578,\n",
       "         0.08665526,  0.43665495]])"
      ]
     },
     "execution_count": 4,
     "metadata": {},
     "output_type": "execute_result"
    }
   ],
   "source": [
    "uniform_data"
   ]
  },
  {
   "cell_type": "code",
   "execution_count": null,
   "metadata": {
    "collapsed": true
   },
   "outputs": [],
   "source": []
  }
 ],
 "metadata": {
  "kernelspec": {
   "display_name": "Python 3",
   "language": "python",
   "name": "python3"
  },
  "language_info": {
   "codemirror_mode": {
    "name": "ipython",
    "version": 3
   },
   "file_extension": ".py",
   "mimetype": "text/x-python",
   "name": "python",
   "nbconvert_exporter": "python",
   "pygments_lexer": "ipython3",
   "version": "3.5.2"
  }
 },
 "nbformat": 4,
 "nbformat_minor": 2
}
