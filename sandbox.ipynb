{
 "cells": [
  {
   "cell_type": "code",
   "execution_count": 1,
   "metadata": {
    "collapsed": true
   },
   "outputs": [],
   "source": [
    "import pandas as pd\n",
    "import numpy as np\n",
    "import random\n",
    "import seaborn as sns; sns.set()\n",
    "from matplotlib import pyplot as plt\n",
    "# plt.style.use('bmh')\n",
    "\n",
    "# from ipywidgets import widgets\n",
    "# from IPython.display import display\n",
    "\n",
    "%matplotlib inline  "
   ]
  },
  {
   "cell_type": "code",
   "execution_count": 7,
   "metadata": {
    "collapsed": false
   },
   "outputs": [],
   "source": [
    "data1min = pd.read_csv(\"2012-1min.csv\", header=12)\n",
    "data5min = pd.read_csv(\"2012-5min.csv\", header=12)"
   ]
  },
  {
   "cell_type": "code",
   "execution_count": 58,
   "metadata": {
    "collapsed": false
   },
   "outputs": [],
   "source": [
    "test = data5min[data5min[\"Count BC\"] == \"5\"]"
   ]
  },
  {
   "cell_type": "code",
   "execution_count": 59,
   "metadata": {
    "collapsed": false
   },
   "outputs": [
    {
     "data": {
      "text/plain": [
       "94378"
      ]
     },
     "execution_count": 59,
     "metadata": {},
     "output_type": "execute_result"
    }
   ],
   "source": [
    "len(test)"
   ]
  },
  {
   "cell_type": "code",
   "execution_count": 63,
   "metadata": {
    "collapsed": false
   },
   "outputs": [
    {
     "data": {
      "text/plain": [
       "55150"
      ]
     },
     "execution_count": 63,
     "metadata": {},
     "output_type": "execute_result"
    }
   ],
   "source": [
    "(105408-94378)*5"
   ]
  },
  {
   "cell_type": "code",
   "execution_count": 57,
   "metadata": {
    "collapsed": false
   },
   "outputs": [
    {
     "data": {
      "text/plain": [
       "105408"
      ]
     },
     "execution_count": 57,
     "metadata": {},
     "output_type": "execute_result"
    }
   ],
   "source": [
    "len(test)"
   ]
  },
  {
   "cell_type": "code",
   "execution_count": 46,
   "metadata": {
    "collapsed": false
   },
   "outputs": [
    {
     "data": {
      "text/html": [
       "<div>\n",
       "<table border=\"1\" class=\"dataframe\">\n",
       "  <thead>\n",
       "    <tr style=\"text-align: right;\">\n",
       "      <th></th>\n",
       "      <th>Date/Time[LST]</th>\n",
       "      <th>Site Name</th>\n",
       "      <th>Flags[CO]</th>\n",
       "      <th>Average CO[ppb]</th>\n",
       "      <th>Min CO[ppb]</th>\n",
       "      <th>Max CO[ppb]</th>\n",
       "      <th>StDev CO[ppb]</th>\n",
       "      <th>Median CO[ppb]</th>\n",
       "      <th>Count CO</th>\n",
       "      <th>Flags[NO]</th>\n",
       "      <th>...</th>\n",
       "      <th>StDev NEPH[Mm-1]</th>\n",
       "      <th>Median NEPH[Mm-1]</th>\n",
       "      <th>Count NEPH</th>\n",
       "      <th>Flags[BC]</th>\n",
       "      <th>Average BC[ug/m3]</th>\n",
       "      <th>Min BC [ug/m3]</th>\n",
       "      <th>Max BC [ug/m3]</th>\n",
       "      <th>StDev BC [ug/m3]</th>\n",
       "      <th>Median BC [ug/m3]</th>\n",
       "      <th>Count BC</th>\n",
       "    </tr>\n",
       "  </thead>\n",
       "  <tbody>\n",
       "    <tr>\n",
       "      <th>0</th>\n",
       "      <td>1/1/12 0:00</td>\n",
       "      <td>JST</td>\n",
       "      <td>A/v0/v1</td>\n",
       "      <td>374.899</td>\n",
       "      <td>359.2357</td>\n",
       "      <td>386.8708</td>\n",
       "      <td>11.48795</td>\n",
       "      <td>376.7449</td>\n",
       "      <td>4</td>\n",
       "      <td>A/v0/v1</td>\n",
       "      <td>...</td>\n",
       "      <td>Null</td>\n",
       "      <td>Null</td>\n",
       "      <td>Null</td>\n",
       "      <td>A/v0/v1/v2</td>\n",
       "      <td>0.5747434</td>\n",
       "      <td>0.1986028</td>\n",
       "      <td>1.047896</td>\n",
       "      <td>0.3872676</td>\n",
       "      <td>0.5262373</td>\n",
       "      <td>4</td>\n",
       "    </tr>\n",
       "    <tr>\n",
       "      <th>1</th>\n",
       "      <td>1/1/12 0:05</td>\n",
       "      <td>JST</td>\n",
       "      <td>A/v0/v1</td>\n",
       "      <td>362.8132</td>\n",
       "      <td>343.1299</td>\n",
       "      <td>386.5153</td>\n",
       "      <td>16.3245</td>\n",
       "      <td>359.804</td>\n",
       "      <td>5</td>\n",
       "      <td>A/v0/v1</td>\n",
       "      <td>...</td>\n",
       "      <td>7.745387</td>\n",
       "      <td>50.97553</td>\n",
       "      <td>5</td>\n",
       "      <td>A/v0/v1/v2</td>\n",
       "      <td>1.774513</td>\n",
       "      <td>1.523905</td>\n",
       "      <td>1.902296</td>\n",
       "      <td>0.1537918</td>\n",
       "      <td>1.784644</td>\n",
       "      <td>5</td>\n",
       "    </tr>\n",
       "    <tr>\n",
       "      <th>2</th>\n",
       "      <td>1/1/12 0:10</td>\n",
       "      <td>JST</td>\n",
       "      <td>A/v0/v1</td>\n",
       "      <td>348.4381</td>\n",
       "      <td>317.2605</td>\n",
       "      <td>384.5443</td>\n",
       "      <td>26.74022</td>\n",
       "      <td>339.4034</td>\n",
       "      <td>5</td>\n",
       "      <td>A/v0/v1</td>\n",
       "      <td>...</td>\n",
       "      <td>12.73702</td>\n",
       "      <td>50.34055</td>\n",
       "      <td>5</td>\n",
       "      <td>A/v0/v1/v2</td>\n",
       "      <td>2.072346</td>\n",
       "      <td>1.423243</td>\n",
       "      <td>3.622488</td>\n",
       "      <td>0.9300339</td>\n",
       "      <td>1.612749</td>\n",
       "      <td>5</td>\n",
       "    </tr>\n",
       "    <tr>\n",
       "      <th>3</th>\n",
       "      <td>1/1/12 0:15</td>\n",
       "      <td>JST</td>\n",
       "      <td>A/v0/v1</td>\n",
       "      <td>319.8958</td>\n",
       "      <td>301.8157</td>\n",
       "      <td>338.0209</td>\n",
       "      <td>14.84213</td>\n",
       "      <td>322.2204</td>\n",
       "      <td>5</td>\n",
       "      <td>A/v0/v1</td>\n",
       "      <td>...</td>\n",
       "      <td>4.646767</td>\n",
       "      <td>32.45723</td>\n",
       "      <td>5</td>\n",
       "      <td>A/v0/v1/v2</td>\n",
       "      <td>3.093899</td>\n",
       "      <td>1.847709</td>\n",
       "      <td>4.410205</td>\n",
       "      <td>1.08867</td>\n",
       "      <td>2.944664</td>\n",
       "      <td>5</td>\n",
       "    </tr>\n",
       "    <tr>\n",
       "      <th>4</th>\n",
       "      <td>1/1/12 0:20</td>\n",
       "      <td>JST</td>\n",
       "      <td>A/v0/v1</td>\n",
       "      <td>347.394</td>\n",
       "      <td>320.0026</td>\n",
       "      <td>366.8376</td>\n",
       "      <td>19.78175</td>\n",
       "      <td>351.7625</td>\n",
       "      <td>5</td>\n",
       "      <td>A/v0/v1</td>\n",
       "      <td>...</td>\n",
       "      <td>0.5728888</td>\n",
       "      <td>28.60348</td>\n",
       "      <td>5</td>\n",
       "      <td>A/v0/v1/v2</td>\n",
       "      <td>1.425246</td>\n",
       "      <td>1.332696</td>\n",
       "      <td>1.557688</td>\n",
       "      <td>0.08203153</td>\n",
       "      <td>1.408168</td>\n",
       "      <td>5</td>\n",
       "    </tr>\n",
       "  </tbody>\n",
       "</table>\n",
       "<p>5 rows × 44 columns</p>\n",
       "</div>"
      ],
      "text/plain": [
       "  Date/Time[LST] Site Name Flags[CO] Average CO[ppb] Min CO[ppb] Max CO[ppb]  \\\n",
       "0    1/1/12 0:00       JST   A/v0/v1         374.899    359.2357    386.8708   \n",
       "1    1/1/12 0:05       JST   A/v0/v1        362.8132    343.1299    386.5153   \n",
       "2    1/1/12 0:10       JST   A/v0/v1        348.4381    317.2605    384.5443   \n",
       "3    1/1/12 0:15       JST   A/v0/v1        319.8958    301.8157    338.0209   \n",
       "4    1/1/12 0:20       JST   A/v0/v1         347.394    320.0026    366.8376   \n",
       "\n",
       "  StDev CO[ppb] Median CO[ppb] Count CO Flags[NO]   ...    StDev NEPH[Mm-1]  \\\n",
       "0      11.48795       376.7449        4   A/v0/v1   ...                Null   \n",
       "1       16.3245        359.804        5   A/v0/v1   ...            7.745387   \n",
       "2      26.74022       339.4034        5   A/v0/v1   ...            12.73702   \n",
       "3      14.84213       322.2204        5   A/v0/v1   ...            4.646767   \n",
       "4      19.78175       351.7625        5   A/v0/v1   ...           0.5728888   \n",
       "\n",
       "  Median NEPH[Mm-1] Count NEPH   Flags[BC] Average BC[ug/m3] Min BC [ug/m3]  \\\n",
       "0              Null       Null  A/v0/v1/v2         0.5747434      0.1986028   \n",
       "1          50.97553          5  A/v0/v1/v2          1.774513       1.523905   \n",
       "2          50.34055          5  A/v0/v1/v2          2.072346       1.423243   \n",
       "3          32.45723          5  A/v0/v1/v2          3.093899       1.847709   \n",
       "4          28.60348          5  A/v0/v1/v2          1.425246       1.332696   \n",
       "\n",
       "  Max BC [ug/m3] StDev BC [ug/m3] Median BC [ug/m3] Count BC  \n",
       "0       1.047896        0.3872676         0.5262373        4  \n",
       "1       1.902296        0.1537918          1.784644        5  \n",
       "2       3.622488        0.9300339          1.612749        5  \n",
       "3       4.410205          1.08867          2.944664        5  \n",
       "4       1.557688       0.08203153          1.408168        5  \n",
       "\n",
       "[5 rows x 44 columns]"
      ]
     },
     "execution_count": 46,
     "metadata": {},
     "output_type": "execute_result"
    }
   ],
   "source": [
    "data5min.head()"
   ]
  },
  {
   "cell_type": "code",
   "execution_count": 8,
   "metadata": {
    "collapsed": false
   },
   "outputs": [],
   "source": [
    "data1min[\"datetime\"] = pd.to_datetime(data1min[\"Date/Time[LST]\"], format='%m/%d/%Y %H:%M')\n",
    "data1min[\"nox\"] = data1min[\"NO [ppb]\"] + data1min[\"NO2 [ppb]\"]\n",
    "no = data1min[[\"datetime\", \"NO [ppb]\"]]\n",
    "no2 = data1min[[\"datetime\", \"NO2 [ppb]\"]]\n",
    "bc = data1min[[\"datetime\", \"BC [ug/m3]\"]]\n",
    "nox = data1min[[\"datetime\", \"NO [ppb]\", \"NO2 [ppb]\"]]\n",
    "# data1min = data1min.copy().rename(columns={\"NO [ppb]\": \"no\", \"NO2 [ppb]\": \"no2\", \"BC [ug/m3]\": \"bc\"})\n",
    "# data[\"bc\"] = data[\"pm\"].replace(\"<\", \"0\")"
   ]
  },
  {
   "cell_type": "code",
   "execution_count": 9,
   "metadata": {
    "collapsed": false
   },
   "outputs": [],
   "source": [
    "bc = bc.loc[bc[\"BC [ug/m3]\"] != \"Null\"]"
   ]
  },
  {
   "cell_type": "code",
   "execution_count": 75,
   "metadata": {
    "collapsed": false
   },
   "outputs": [
    {
     "data": {
      "text/html": [
       "<div>\n",
       "<table border=\"1\" class=\"dataframe\">\n",
       "  <thead>\n",
       "    <tr style=\"text-align: right;\">\n",
       "      <th></th>\n",
       "      <th>datetime</th>\n",
       "      <th>BC [ug/m3]</th>\n",
       "    </tr>\n",
       "  </thead>\n",
       "  <tbody>\n",
       "    <tr>\n",
       "      <th>1</th>\n",
       "      <td>2012-01-01 00:01:00</td>\n",
       "      <td>0.578</td>\n",
       "    </tr>\n",
       "    <tr>\n",
       "      <th>2</th>\n",
       "      <td>2012-01-01 00:02:00</td>\n",
       "      <td>0.2075862</td>\n",
       "    </tr>\n",
       "    <tr>\n",
       "      <th>3</th>\n",
       "      <td>2012-01-01 00:03:00</td>\n",
       "      <td>0.2973333</td>\n",
       "    </tr>\n",
       "    <tr>\n",
       "      <th>4</th>\n",
       "      <td>2012-01-01 00:04:00</td>\n",
       "      <td>0.804</td>\n",
       "    </tr>\n",
       "    <tr>\n",
       "      <th>5</th>\n",
       "      <td>2012-01-01 00:05:00</td>\n",
       "      <td>1.138276</td>\n",
       "    </tr>\n",
       "  </tbody>\n",
       "</table>\n",
       "</div>"
      ],
      "text/plain": [
       "             datetime BC [ug/m3]\n",
       "1 2012-01-01 00:01:00      0.578\n",
       "2 2012-01-01 00:02:00  0.2075862\n",
       "3 2012-01-01 00:03:00  0.2973333\n",
       "4 2012-01-01 00:04:00      0.804\n",
       "5 2012-01-01 00:05:00   1.138276"
      ]
     },
     "execution_count": 75,
     "metadata": {},
     "output_type": "execute_result"
    }
   ],
   "source": [
    "bc.head()"
   ]
  },
  {
   "cell_type": "code",
   "execution_count": 76,
   "metadata": {
    "collapsed": true
   },
   "outputs": [],
   "source": [
    "dates = bc[\"datetime\"].tolist()\n",
    "ugm3 = bc[\"BC [ug/m3]\"].tolist()"
   ]
  },
  {
   "cell_type": "code",
   "execution_count": null,
   "metadata": {
    "collapsed": false
   },
   "outputs": [],
   "source": [
    "bc = [(a, b) for a in dates for b in ugm3]"
   ]
  },
  {
   "cell_type": "code",
   "execution_count": 10,
   "metadata": {
    "collapsed": true
   },
   "outputs": [],
   "source": [
    "bc = [tuple(x) for x in bc.values]"
   ]
  },
  {
   "cell_type": "code",
   "execution_count": 11,
   "metadata": {
    "collapsed": false
   },
   "outputs": [
    {
     "data": {
      "text/plain": [
       "[(Timestamp('2012-01-01 00:01:00'), '0.578'),\n",
       " (Timestamp('2012-01-01 00:02:00'), '0.2075862'),\n",
       " (Timestamp('2012-01-01 00:03:00'), '0.2973333')]"
      ]
     },
     "execution_count": 11,
     "metadata": {},
     "output_type": "execute_result"
    }
   ],
   "source": [
    "bc[:3]"
   ]
  },
  {
   "cell_type": "code",
   "execution_count": 44,
   "metadata": {
    "collapsed": false
   },
   "outputs": [
    {
     "data": {
      "text/plain": [
       "array(['Null', 'A/v0/v1'], dtype=object)"
      ]
     },
     "execution_count": 44,
     "metadata": {},
     "output_type": "execute_result"
    }
   ],
   "source": [
    "data[\"Flags[CO]\"].unique()"
   ]
  },
  {
   "cell_type": "code",
   "execution_count": null,
   "metadata": {
    "collapsed": true
   },
   "outputs": [],
   "source": []
  },
  {
   "cell_type": "code",
   "execution_count": 2,
   "metadata": {
    "collapsed": false
   },
   "outputs": [],
   "source": [
    "data =  pd.read_csv(\"PMdata.csv\")\n",
    "\n",
    "data[\"pm\"] = data[\"pm\"].replace(\"<\", \"0\")\n",
    "data[\"pm\"] = data[\"pm\"].replace(\" \", \"0\")\n",
    "# data = data[data.pm.notnull()]\n",
    "data[\"pm\"] = data[\"pm\"].astype(float)\n",
    "\n",
    "data[\"datetime\"] = pd.to_datetime(data.datetime, format='%m/%d/%y %H:%M')\n",
    "\n",
    "data.set_index('datetime', inplace=True)\n",
    "\n",
    "data = data.ix[\"2014\"]\n",
    "data = data[~pd.isnull(data).any(axis=1)]\n",
    "\n",
    "pm = data.pm.tolist()"
   ]
  },
  {
   "cell_type": "code",
   "execution_count": 38,
   "metadata": {
    "collapsed": true
   },
   "outputs": [],
   "source": [
    "data.reset_index(inplace=True)"
   ]
  },
  {
   "cell_type": "code",
   "execution_count": 98,
   "metadata": {
    "collapsed": true
   },
   "outputs": [],
   "source": [
    "pm = data.pm.tolist()"
   ]
  },
  {
   "cell_type": "code",
   "execution_count": 80,
   "metadata": {
    "collapsed": false
   },
   "outputs": [
    {
     "data": {
      "text/plain": [
       "5.4"
      ]
     },
     "execution_count": 80,
     "metadata": {},
     "output_type": "execute_result"
    }
   ],
   "source": [
    "pm[8759]"
   ]
  },
  {
   "cell_type": "code",
   "execution_count": 70,
   "metadata": {
    "collapsed": false
   },
   "outputs": [
    {
     "data": {
      "text/plain": [
       "2576"
      ]
     },
     "execution_count": 70,
     "metadata": {},
     "output_type": "execute_result"
    }
   ],
   "source": [
    "random.randint(0,len(pm))"
   ]
  },
  {
   "cell_type": "code",
   "execution_count": 75,
   "metadata": {
    "collapsed": false
   },
   "outputs": [
    {
     "data": {
      "text/plain": [
       "3.2"
      ]
     },
     "execution_count": 75,
     "metadata": {},
     "output_type": "execute_result"
    }
   ],
   "source": [
    "pm.pop(2576)"
   ]
  },
  {
   "cell_type": "code",
   "execution_count": 189,
   "metadata": {
    "collapsed": false
   },
   "outputs": [
    {
     "data": {
      "text/plain": [
       "6.2765828571428566"
      ]
     },
     "execution_count": 189,
     "metadata": {},
     "output_type": "execute_result"
    }
   ],
   "source": [
    "np.mean(pm)"
   ]
  },
  {
   "cell_type": "code",
   "execution_count": 305,
   "metadata": {
    "collapsed": false
   },
   "outputs": [
    {
     "data": {
      "text/plain": [
       "8750"
      ]
     },
     "execution_count": 305,
     "metadata": {},
     "output_type": "execute_result"
    }
   ],
   "source": [
    "len(pm)"
   ]
  },
  {
   "cell_type": "code",
   "execution_count": 317,
   "metadata": {
    "collapsed": false
   },
   "outputs": [
    {
     "data": {
      "text/plain": [
       "[0, 1, 2, 3, 4, 5, 6, 7, 8, 9, 10, 11, 12, 13, 14]"
      ]
     },
     "execution_count": 317,
     "metadata": {},
     "output_type": "execute_result"
    }
   ],
   "source": [
    "[x+1 for x in range(15)]"
   ]
  },
  {
   "cell_type": "code",
   "execution_count": 78,
   "metadata": {
    "collapsed": false
   },
   "outputs": [],
   "source": [
    "def rand(data, visits, lengths):\n",
    "    mean = np.mean(data)\n",
    "    results = []\n",
    "    for v in visits:\n",
    "        length_results = []\n",
    "        for l in lengths:\n",
    "            d = data.copy()\n",
    "            vloop = v\n",
    "            s = []\n",
    "            while vloop > 0:\n",
    "                r = random.randint(0,len(d)-1)\n",
    "                if len(d) < r + l:\n",
    "                    r = l - len(d)\n",
    "                for i in range(l):\n",
    "                    s.append(d.pop(r))\n",
    "                vloop -= l\n",
    "#             length_results.append(abs(np.mean(s) - mean))\n",
    "            length_results.append((np.mean(s) - mean)**2)\n",
    "        results.append(length_results)\n",
    "    return results"
   ]
  },
  {
   "cell_type": "code",
   "execution_count": 79,
   "metadata": {
    "collapsed": false
   },
   "outputs": [],
   "source": [
    "visits = [10, 20, 30, 40, 50, 60, 70, 80, 90, 100, 150, 200, 250, 300, 500]\n",
    "lengths = [x+1 for x in range(15)]\n",
    "simulationResults = 0\n",
    "n = 1000\n",
    "for i in range(n):\n",
    "    simulationResults = np.add(simulationResults,rand(pm, visits, lengths)) \n",
    "simulationRMSE = np.sqrt(np.divide(simulationResults,n))"
   ]
  },
  {
   "cell_type": "code",
   "execution_count": 116,
   "metadata": {
    "collapsed": false
   },
   "outputs": [
    {
     "data": {
      "image/png": "[encoded data removed]",
      "text/plain": [
       "<matplotlib.figure.Figure at 0x11564e550>"
      ]
     },
     "metadata": {},
     "output_type": "display_data"
    }
   ],
   "source": [
    "# ax = plt.subplots(figsize=(20, 10))\n",
    "ax = sns.heatmap(simulationRMSE, cmap=\"Paired\", cbar_kws={'label': 'RMSE (μg/m3)'})\n",
    "ax.invert_yaxis()\n",
    "ax.set_xticklabels(lengths)\n",
    "ax.set_yticklabels(list(reversed(visits)))\n",
    "ax.set_xlabel('Consecutive Visits')\n",
    "ax.set_ylabel('Total Visits')\n",
    "for item in ax.get_yticklabels():\n",
    "    item.set_rotation(0)"
   ]
  },
  {
   "cell_type": "code",
   "execution_count": null,
   "metadata": {
    "collapsed": true
   },
   "outputs": [],
   "source": []
  },
  {
   "cell_type": "code",
   "execution_count": null,
   "metadata": {
    "collapsed": true
   },
   "outputs": [],
   "source": []
  },
  {
   "cell_type": "code",
   "execution_count": null,
   "metadata": {
    "collapsed": true
   },
   "outputs": [],
   "source": []
  },
  {
   "cell_type": "code",
   "execution_count": 71,
   "metadata": {
    "collapsed": false
   },
   "outputs": [
    {
     "data": {
      "text/plain": [
       "array([[ 1.9   ,  4.3   ],\n",
       "       [ 3.0594,  3.3375]])"
      ]
     },
     "execution_count": 71,
     "metadata": {},
     "output_type": "execute_result"
    }
   ],
   "source": [
    "np.divide(simulationResults[0], 2)"
   ]
  },
  {
   "cell_type": "code",
   "execution_count": 70,
   "metadata": {
    "collapsed": false
   },
   "outputs": [
    {
     "data": {
      "text/plain": [
       "[[3.7999999999999998, 8.6000000000000014],\n",
       " [6.1188000000000002, 6.6749999999999998]]"
      ]
     },
     "execution_count": 70,
     "metadata": {},
     "output_type": "execute_result"
    }
   ],
   "source": [
    "simulationResults[0]"
   ]
  },
  {
   "cell_type": "code",
   "execution_count": 66,
   "metadata": {
    "collapsed": false
   },
   "outputs": [
    {
     "data": {
      "text/plain": [
       "[[6.2000000000000002, 1.8999999999999999],\n",
       " [6.3973999999999993, 6.8287999999999993]]"
      ]
     },
     "execution_count": 66,
     "metadata": {},
     "output_type": "execute_result"
    }
   ],
   "source": [
    "simulationResults[1]"
   ]
  },
  {
   "cell_type": "code",
   "execution_count": 58,
   "metadata": {
    "collapsed": false
   },
   "outputs": [
    {
     "data": {
      "text/plain": [
       "[<matplotlib.text.Text at 0x115011400>, <matplotlib.text.Text at 0x114ffc6d8>]"
      ]
     },
     "execution_count": 58,
     "metadata": {},
     "output_type": "execute_result"
    },
    {
     "data": {
      "image/png": "[encoded data removed]",
      "text/plain": [
       "<matplotlib.figure.Figure at 0x114f32080>"
      ]
     },
     "metadata": {},
     "output_type": "display_data"
    }
   ],
   "source": [
    "randTest = rand(pm, [2, 500], [1, 2])\n",
    "# randTest = rand(pm, [10, 20, 30, 40, 50, 60, 70, 80, 90, 100, 150, 200, 250, 300, 500], [x+1 for x in range(15)])\n",
    "\n",
    "# randTest, s = rand(pm, [1], [1000])\n",
    "# df = pd.DataFrame(s)\n",
    "# df.hist()\n",
    "\n",
    "# sns.color_palette(\"Paired\", as_cmap=True)\n",
    "# cmap = sns.diverging_palette(240, 10, n=9, as_cmap=True)\n",
    "# sns.choose_diverging_palette()\n",
    "# cmap = sns.color_palette(240, 10, n=9, cmap=True)\n",
    "ax = sns.heatmap(randTest, cmap=\"Accent\")\n",
    "ax.invert_yaxis()\n",
    "ax.set_xticklabels([1, 2])\n",
    "ax.set_yticklabels([500, 2])"
   ]
  },
  {
   "cell_type": "code",
   "execution_count": 59,
   "metadata": {
    "collapsed": false
   },
   "outputs": [
    {
     "data": {
      "text/plain": [
       "[[3.8499999999999996, 5.8499999999999996],\n",
       " [6.5226000000000006, 6.0839999999999996]]"
      ]
     },
     "execution_count": 59,
     "metadata": {},
     "output_type": "execute_result"
    }
   ],
   "source": [
    "randTest"
   ]
  },
  {
   "cell_type": "code",
   "execution_count": null,
   "metadata": {
    "collapsed": true
   },
   "outputs": [],
   "source": [
    "data.drop([0])"
   ]
  },
  {
   "cell_type": "code",
   "execution_count": 50,
   "metadata": {
    "collapsed": false
   },
   "outputs": [
    {
     "data": {
      "text/plain": [
       "[500, 2]"
      ]
     },
     "execution_count": 50,
     "metadata": {},
     "output_type": "execute_result"
    }
   ],
   "source": [
    "list(reversed([2, 500]))"
   ]
  },
  {
   "cell_type": "code",
   "execution_count": null,
   "metadata": {
    "collapsed": true
   },
   "outputs": [],
   "source": []
  },
  {
   "cell_type": "code",
   "execution_count": 161,
   "metadata": {
    "collapsed": false
   },
   "outputs": [],
   "source": [
    "annualAvg = np.mean(data.pm)"
   ]
  },
  {
   "cell_type": "code",
   "execution_count": 162,
   "metadata": {
    "collapsed": false
   },
   "outputs": [
    {
     "data": {
      "text/plain": [
       "6.276582857142844"
      ]
     },
     "execution_count": 162,
     "metadata": {},
     "output_type": "execute_result"
    }
   ],
   "source": [
    "annualAvg"
   ]
  },
  {
   "cell_type": "code",
   "execution_count": 9,
   "metadata": {
    "collapsed": false
   },
   "outputs": [
    {
     "data": {
      "text/plain": [
       "8760"
      ]
     },
     "execution_count": 9,
     "metadata": {},
     "output_type": "execute_result"
    }
   ],
   "source": [
    "len(data.pm)"
   ]
  },
  {
   "cell_type": "code",
   "execution_count": 245,
   "metadata": {
    "collapsed": true
   },
   "outputs": [],
   "source": [
    "sampleAvg = np.mean(data.take(np.random.permutation(len(data))[:1000]).pm)"
   ]
  },
  {
   "cell_type": "code",
   "execution_count": 246,
   "metadata": {
    "collapsed": false
   },
   "outputs": [
    {
     "data": {
      "text/plain": [
       "6.113299999999991"
      ]
     },
     "execution_count": 246,
     "metadata": {},
     "output_type": "execute_result"
    }
   ],
   "source": [
    "sampleAvg"
   ]
  },
  {
   "cell_type": "code",
   "execution_count": 15,
   "metadata": {
    "collapsed": false
   },
   "outputs": [],
   "source": [
    "sampleAvg = np.mean(data.take(np.random.permutation(len(data))[:5]).pm)\n",
    "sampleAvgs = []\n",
    "for i in range(1000):\n",
    "    sampleAvgs.append(np.mean(data.take(np.random.permutation(len(data))[:5]).pm))"
   ]
  },
  {
   "cell_type": "code",
   "execution_count": 13,
   "metadata": {
    "collapsed": false
   },
   "outputs": [
    {
     "data": {
      "text/plain": [
       "datetime\n",
       "2014-10-27 09:00:00    10.5\n",
       "2014-01-25 17:00:00     5.2\n",
       "2014-12-19 13:00:00     1.7\n",
       "2014-07-24 12:00:00     3.3\n",
       "2014-03-27 07:00:00     1.5\n",
       "Name: pm, dtype: float64"
      ]
     },
     "execution_count": 13,
     "metadata": {},
     "output_type": "execute_result"
    }
   ],
   "source": [
    "data.take(np.random.permutation(len(data))[:5]).pm"
   ]
  },
  {
   "cell_type": "code",
   "execution_count": 14,
   "metadata": {
    "collapsed": false
   },
   "outputs": [
    {
     "data": {
      "text/plain": [
       "datetime\n",
       "2014-01-01 06:00:00     8.2\n",
       "2014-02-08 04:00:00     3.2\n",
       "2014-07-29 08:00:00     4.2\n",
       "2014-08-23 08:00:00    10.9\n",
       "2014-04-18 16:00:00     3.1\n",
       "Name: pm, dtype: float64"
      ]
     },
     "execution_count": 14,
     "metadata": {},
     "output_type": "execute_result"
    }
   ],
   "source": [
    "data.sample(n=5).pm"
   ]
  },
  {
   "cell_type": "code",
   "execution_count": 16,
   "metadata": {
    "collapsed": false
   },
   "outputs": [],
   "source": [
    "sampleAvgs2 = []\n",
    "for i in range(1000):\n",
    "    sampleAvgs2.append(np.mean(data.sample(n=5).pm))"
   ]
  },
  {
   "cell_type": "code",
   "execution_count": null,
   "metadata": {
    "collapsed": true
   },
   "outputs": [],
   "source": []
  },
  {
   "cell_type": "code",
   "execution_count": 17,
   "metadata": {
    "collapsed": false
   },
   "outputs": [
    {
     "data": {
      "text/plain": [
       "array([[<matplotlib.axes._subplots.AxesSubplot object at 0x10db51470>]], dtype=object)"
      ]
     },
     "execution_count": 17,
     "metadata": {},
     "output_type": "execute_result"
    },
    {
     "data": {
      "image/png": "[encoded data removed]",
      "text/plain": [
       "<matplotlib.figure.Figure at 0x10db2feb8>"
      ]
     },
     "metadata": {},
     "output_type": "display_data"
    }
   ],
   "source": [
    "df2 = pd.DataFrame(sampleAvgs2)\n",
    "df2.hist()"
   ]
  },
  {
   "cell_type": "code",
   "execution_count": 18,
   "metadata": {
    "collapsed": false
   },
   "outputs": [
    {
     "data": {
      "text/plain": [
       "array([[<matplotlib.axes._subplots.AxesSubplot object at 0x10d2e6128>]], dtype=object)"
      ]
     },
     "execution_count": 18,
     "metadata": {},
     "output_type": "execute_result"
    },
    {
     "data": {
      "image/png": "[encoded data removed]",
      "text/plain": [
       "<matplotlib.figure.Figure at 0x10dada9e8>"
      ]
     },
     "metadata": {},
     "output_type": "display_data"
    }
   ],
   "source": [
    "df = pd.DataFrame(sampleAvgs)\n",
    "df.hist()"
   ]
  },
  {
   "cell_type": "code",
   "execution_count": 3,
   "metadata": {
    "collapsed": false
   },
   "outputs": [],
   "source": [
    "uniform_data = np.random.rand(10, 12)"
   ]
  },
  {
   "cell_type": "code",
   "execution_count": 4,
   "metadata": {
    "collapsed": false
   },
   "outputs": [
    {
     "data": {
      "text/plain": [
       "array([[ 0.97802044,  0.50138008,  0.12037897,  0.02188043,  0.85461811,\n",
       "         0.8217014 ,  0.13127829,  0.16098051,  0.38067068,  0.69237515,\n",
       "         0.81130553,  0.73751703],\n",
       "       [ 0.82066353,  0.1616369 ,  0.0882263 ,  0.52551445,  0.76683675,\n",
       "         0.78055372,  0.3109151 ,  0.90991658,  0.74870347,  0.70478773,\n",
       "         0.00833904,  0.23969491],\n",
       "       [ 0.92101222,  0.12298682,  0.41809457,  0.78242087,  0.77436766,\n",
       "         0.46443669,  0.16543257,  0.3019539 ,  0.49202781,  0.03155179,\n",
       "         0.18614536,  0.90085184],\n",
       "       [ 0.50421279,  0.78808387,  0.30945059,  0.66593542,  0.26140491,\n",
       "         0.64641729,  0.93061068,  0.18703038,  0.77889126,  0.38466413,\n",
       "         0.53435187,  0.39894999],\n",
       "       [ 0.53275317,  0.52586636,  0.72418005,  0.02611774,  0.55613439,\n",
       "         0.47662244,  0.33559134,  0.0167529 ,  0.26449919,  0.44152902,\n",
       "         0.93267666,  0.70699767],\n",
       "       [ 0.90854977,  0.26089401,  0.74878386,  0.72763483,  0.66120846,\n",
       "         0.30294625,  0.55594599,  0.96255676,  0.65193805,  0.83244803,\n",
       "         0.60889984,  0.34657991],\n",
       "       [ 0.40866326,  0.14053442,  0.66350748,  0.21162458,  0.11632671,\n",
       "         0.65595254,  0.76046312,  0.76878681,  0.33925221,  0.34456696,\n",
       "         0.67990248,  0.78774347],\n",
       "       [ 0.46759987,  0.81132337,  0.11545974,  0.5782572 ,  0.02140774,\n",
       "         0.28984809,  0.47852127,  0.03982555,  0.82773472,  0.32874139,\n",
       "         0.00806226,  0.20968312],\n",
       "       [ 0.93407597,  0.59276934,  0.28619823,  0.95629123,  0.82041414,\n",
       "         0.59615172,  0.65401093,  0.57309575,  0.42654047,  0.51760476,\n",
       "         0.63727745,  0.45057405],\n",
       "       [ 0.26017807,  0.29524962,  0.42804967,  0.78804635,  0.75601441,\n",
       "         0.08487268,  0.55539619,  0.88385399,  0.59517242,  0.10777578,\n",
       "         0.08665526,  0.43665495]])"
      ]
     },
     "execution_count": 4,
     "metadata": {},
     "output_type": "execute_result"
    }
   ],
   "source": [
    "uniform_data"
   ]
  },
  {
   "cell_type": "code",
   "execution_count": null,
   "metadata": {
    "collapsed": true
   },
   "outputs": [],
   "source": []
  }
 ],
 "metadata": {
  "kernelspec": {
   "display_name": "Python 3",
   "language": "python",
   "name": "python3"
  },
  "language_info": {
   "codemirror_mode": {
    "name": "ipython",
    "version": 3
   },
   "file_extension": ".py",
   "mimetype": "text/x-python",
   "name": "python",
   "nbconvert_exporter": "python",
   "pygments_lexer": "ipython3",
   "version": "3.5.2"
  }
 },
 "nbformat": 4,
 "nbformat_minor": 2
}
